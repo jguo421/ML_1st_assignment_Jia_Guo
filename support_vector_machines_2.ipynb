{
 "cells": [
  {
   "cell_type": "code",
   "execution_count": 2,
   "id": "2130e5f8-9d57-42ab-9599-9955534dab40",
   "metadata": {},
   "outputs": [],
   "source": [
    "# load tool"
   ]
  },
  {
   "cell_type": "code",
   "execution_count": 1,
   "id": "14508a86-4a9f-4263-9f3d-6d69b8b57264",
   "metadata": {},
   "outputs": [
    {
     "name": "stderr",
     "output_type": "stream",
     "text": [
      "C:\\Users\\Student\\AppData\\Local\\Temp\\ipykernel_56064\\612371142.py:2: DeprecationWarning: \n",
      "Pyarrow will become a required dependency of pandas in the next major release of pandas (pandas 3.0),\n",
      "(to allow more performant data types, such as the Arrow string type, and better interoperability with other libraries)\n",
      "but was not found to be installed on your system.\n",
      "If this would cause problems for you,\n",
      "please provide us feedback at https://github.com/pandas-dev/pandas/issues/54466\n",
      "        \n",
      "  import pandas as pd\n"
     ]
    }
   ],
   "source": [
    "import numpy as np\n",
    "import pandas as pd\n",
    "import matplotlib.pyplot as plt\n",
    "import seaborn as sns\n",
    "from sklearn.svm import SVC\n",
    "\n",
    "%matplotlib inline"
   ]
  },
  {
   "cell_type": "code",
   "execution_count": 2,
   "id": "79857730-659d-42c0-891a-cef0b8ab0092",
   "metadata": {},
   "outputs": [
    {
     "data": {
      "text/plain": [
       "{'C': 1.0,\n",
       " 'break_ties': False,\n",
       " 'cache_size': 200,\n",
       " 'class_weight': None,\n",
       " 'coef0': 0.0,\n",
       " 'decision_function_shape': 'ovr',\n",
       " 'degree': 3,\n",
       " 'gamma': 'scale',\n",
       " 'kernel': 'rbf',\n",
       " 'max_iter': -1,\n",
       " 'probability': False,\n",
       " 'random_state': None,\n",
       " 'shrinking': True,\n",
       " 'tol': 0.001,\n",
       " 'verbose': False}"
      ]
     },
     "execution_count": 2,
     "metadata": {},
     "output_type": "execute_result"
    }
   ],
   "source": [
    "# import SVM model\n",
    "SVM = SVC()\n",
    "SVM.get_params()"
   ]
  },
  {
   "cell_type": "code",
   "execution_count": 3,
   "id": "eb741258-a261-46fe-968f-0886d3615a5c",
   "metadata": {},
   "outputs": [],
   "source": [
    "# model evalutions\n",
    "from sklearn.model_selection import train_test_split, cross_val_score\n",
    "from sklearn.model_selection import RandomizedSearchCV, GridSearchCV\n",
    "from sklearn.metrics import confusion_matrix, classification_report\n",
    "from sklearn.metrics import f1_score"
   ]
  },
  {
   "cell_type": "code",
   "execution_count": 4,
   "id": "eda199ec-8d20-4d5d-8d50-e776a4b51519",
   "metadata": {},
   "outputs": [],
   "source": [
    "df_1 = pd.read_csv(\"apple_quality.csv\")"
   ]
  },
  {
   "cell_type": "code",
   "execution_count": 5,
   "id": "c35d8548-6fbd-4eb2-9bfb-653a2459c35b",
   "metadata": {},
   "outputs": [
    {
     "data": {
      "text/html": [
       "<div>\n",
       "<style scoped>\n",
       "    .dataframe tbody tr th:only-of-type {\n",
       "        vertical-align: middle;\n",
       "    }\n",
       "\n",
       "    .dataframe tbody tr th {\n",
       "        vertical-align: top;\n",
       "    }\n",
       "\n",
       "    .dataframe thead th {\n",
       "        text-align: right;\n",
       "    }\n",
       "</style>\n",
       "<table border=\"1\" class=\"dataframe\">\n",
       "  <thead>\n",
       "    <tr style=\"text-align: right;\">\n",
       "      <th></th>\n",
       "      <th>A_id</th>\n",
       "      <th>Size</th>\n",
       "      <th>Weight</th>\n",
       "      <th>Sweetness</th>\n",
       "      <th>Crunchiness</th>\n",
       "      <th>Juiciness</th>\n",
       "      <th>Ripeness</th>\n",
       "      <th>Acidity</th>\n",
       "      <th>Quality</th>\n",
       "    </tr>\n",
       "  </thead>\n",
       "  <tbody>\n",
       "    <tr>\n",
       "      <th>0</th>\n",
       "      <td>0.0</td>\n",
       "      <td>-3.970049</td>\n",
       "      <td>-2.512336</td>\n",
       "      <td>5.346330</td>\n",
       "      <td>-1.012009</td>\n",
       "      <td>1.844900</td>\n",
       "      <td>0.329840</td>\n",
       "      <td>-0.491590483</td>\n",
       "      <td>good</td>\n",
       "    </tr>\n",
       "    <tr>\n",
       "      <th>1</th>\n",
       "      <td>1.0</td>\n",
       "      <td>-1.195217</td>\n",
       "      <td>-2.839257</td>\n",
       "      <td>3.664059</td>\n",
       "      <td>1.588232</td>\n",
       "      <td>0.853286</td>\n",
       "      <td>0.867530</td>\n",
       "      <td>-0.722809367</td>\n",
       "      <td>good</td>\n",
       "    </tr>\n",
       "    <tr>\n",
       "      <th>2</th>\n",
       "      <td>2.0</td>\n",
       "      <td>-0.292024</td>\n",
       "      <td>-1.351282</td>\n",
       "      <td>-1.738429</td>\n",
       "      <td>-0.342616</td>\n",
       "      <td>2.838636</td>\n",
       "      <td>-0.038033</td>\n",
       "      <td>2.621636473</td>\n",
       "      <td>bad</td>\n",
       "    </tr>\n",
       "    <tr>\n",
       "      <th>3</th>\n",
       "      <td>3.0</td>\n",
       "      <td>-0.657196</td>\n",
       "      <td>-2.271627</td>\n",
       "      <td>1.324874</td>\n",
       "      <td>-0.097875</td>\n",
       "      <td>3.637970</td>\n",
       "      <td>-3.413761</td>\n",
       "      <td>0.790723217</td>\n",
       "      <td>good</td>\n",
       "    </tr>\n",
       "    <tr>\n",
       "      <th>4</th>\n",
       "      <td>4.0</td>\n",
       "      <td>1.364217</td>\n",
       "      <td>-1.296612</td>\n",
       "      <td>-0.384658</td>\n",
       "      <td>-0.553006</td>\n",
       "      <td>3.030874</td>\n",
       "      <td>-1.303849</td>\n",
       "      <td>0.501984036</td>\n",
       "      <td>good</td>\n",
       "    </tr>\n",
       "    <tr>\n",
       "      <th>...</th>\n",
       "      <td>...</td>\n",
       "      <td>...</td>\n",
       "      <td>...</td>\n",
       "      <td>...</td>\n",
       "      <td>...</td>\n",
       "      <td>...</td>\n",
       "      <td>...</td>\n",
       "      <td>...</td>\n",
       "      <td>...</td>\n",
       "    </tr>\n",
       "    <tr>\n",
       "      <th>3996</th>\n",
       "      <td>3996.0</td>\n",
       "      <td>-0.293118</td>\n",
       "      <td>1.949253</td>\n",
       "      <td>-0.204020</td>\n",
       "      <td>-0.640196</td>\n",
       "      <td>0.024523</td>\n",
       "      <td>-1.087900</td>\n",
       "      <td>1.854235285</td>\n",
       "      <td>good</td>\n",
       "    </tr>\n",
       "    <tr>\n",
       "      <th>3997</th>\n",
       "      <td>3997.0</td>\n",
       "      <td>-2.634515</td>\n",
       "      <td>-2.138247</td>\n",
       "      <td>-2.440461</td>\n",
       "      <td>0.657223</td>\n",
       "      <td>2.199709</td>\n",
       "      <td>4.763859</td>\n",
       "      <td>-1.334611391</td>\n",
       "      <td>bad</td>\n",
       "    </tr>\n",
       "    <tr>\n",
       "      <th>3998</th>\n",
       "      <td>3998.0</td>\n",
       "      <td>-4.008004</td>\n",
       "      <td>-1.779337</td>\n",
       "      <td>2.366397</td>\n",
       "      <td>-0.200329</td>\n",
       "      <td>2.161435</td>\n",
       "      <td>0.214488</td>\n",
       "      <td>-2.229719806</td>\n",
       "      <td>good</td>\n",
       "    </tr>\n",
       "    <tr>\n",
       "      <th>3999</th>\n",
       "      <td>3999.0</td>\n",
       "      <td>0.278540</td>\n",
       "      <td>-1.715505</td>\n",
       "      <td>0.121217</td>\n",
       "      <td>-1.154075</td>\n",
       "      <td>1.266677</td>\n",
       "      <td>-0.776571</td>\n",
       "      <td>1.599796456</td>\n",
       "      <td>good</td>\n",
       "    </tr>\n",
       "    <tr>\n",
       "      <th>4000</th>\n",
       "      <td>NaN</td>\n",
       "      <td>NaN</td>\n",
       "      <td>NaN</td>\n",
       "      <td>NaN</td>\n",
       "      <td>NaN</td>\n",
       "      <td>NaN</td>\n",
       "      <td>NaN</td>\n",
       "      <td>Created_by_Nidula_Elgiriyewithana</td>\n",
       "      <td>NaN</td>\n",
       "    </tr>\n",
       "  </tbody>\n",
       "</table>\n",
       "<p>4001 rows × 9 columns</p>\n",
       "</div>"
      ],
      "text/plain": [
       "        A_id      Size    Weight  Sweetness  Crunchiness  Juiciness  Ripeness  \\\n",
       "0        0.0 -3.970049 -2.512336   5.346330    -1.012009   1.844900  0.329840   \n",
       "1        1.0 -1.195217 -2.839257   3.664059     1.588232   0.853286  0.867530   \n",
       "2        2.0 -0.292024 -1.351282  -1.738429    -0.342616   2.838636 -0.038033   \n",
       "3        3.0 -0.657196 -2.271627   1.324874    -0.097875   3.637970 -3.413761   \n",
       "4        4.0  1.364217 -1.296612  -0.384658    -0.553006   3.030874 -1.303849   \n",
       "...      ...       ...       ...        ...          ...        ...       ...   \n",
       "3996  3996.0 -0.293118  1.949253  -0.204020    -0.640196   0.024523 -1.087900   \n",
       "3997  3997.0 -2.634515 -2.138247  -2.440461     0.657223   2.199709  4.763859   \n",
       "3998  3998.0 -4.008004 -1.779337   2.366397    -0.200329   2.161435  0.214488   \n",
       "3999  3999.0  0.278540 -1.715505   0.121217    -1.154075   1.266677 -0.776571   \n",
       "4000     NaN       NaN       NaN        NaN          NaN        NaN       NaN   \n",
       "\n",
       "                                Acidity Quality  \n",
       "0                          -0.491590483    good  \n",
       "1                          -0.722809367    good  \n",
       "2                           2.621636473     bad  \n",
       "3                           0.790723217    good  \n",
       "4                           0.501984036    good  \n",
       "...                                 ...     ...  \n",
       "3996                        1.854235285    good  \n",
       "3997                       -1.334611391     bad  \n",
       "3998                       -2.229719806    good  \n",
       "3999                        1.599796456    good  \n",
       "4000  Created_by_Nidula_Elgiriyewithana     NaN  \n",
       "\n",
       "[4001 rows x 9 columns]"
      ]
     },
     "execution_count": 5,
     "metadata": {},
     "output_type": "execute_result"
    }
   ],
   "source": [
    "df_1"
   ]
  },
  {
   "cell_type": "code",
   "execution_count": 6,
   "id": "8b6bed7d-f669-4d9b-af5e-fd16305af0ec",
   "metadata": {},
   "outputs": [],
   "source": [
    "df_1= df_1.replace(to_replace=\"good\", value = 1)"
   ]
  },
  {
   "cell_type": "code",
   "execution_count": 7,
   "id": "0dba5102-91e8-410f-b28f-c3fd30e1d86d",
   "metadata": {},
   "outputs": [
    {
     "name": "stderr",
     "output_type": "stream",
     "text": [
      "C:\\Users\\Student\\AppData\\Local\\Temp\\ipykernel_56064\\3158947988.py:1: FutureWarning: Downcasting behavior in `replace` is deprecated and will be removed in a future version. To retain the old behavior, explicitly call `result.infer_objects(copy=False)`. To opt-in to the future behavior, set `pd.set_option('future.no_silent_downcasting', True)`\n",
      "  df_1=df_1.replace(to_replace=\"bad\", value = 0)\n"
     ]
    }
   ],
   "source": [
    "df_1=df_1.replace(to_replace=\"bad\", value = 0)"
   ]
  },
  {
   "cell_type": "code",
   "execution_count": 8,
   "id": "39ec4036-9cf7-4064-8fb6-777cf887fc3d",
   "metadata": {},
   "outputs": [
    {
     "data": {
      "text/html": [
       "<div>\n",
       "<style scoped>\n",
       "    .dataframe tbody tr th:only-of-type {\n",
       "        vertical-align: middle;\n",
       "    }\n",
       "\n",
       "    .dataframe tbody tr th {\n",
       "        vertical-align: top;\n",
       "    }\n",
       "\n",
       "    .dataframe thead th {\n",
       "        text-align: right;\n",
       "    }\n",
       "</style>\n",
       "<table border=\"1\" class=\"dataframe\">\n",
       "  <thead>\n",
       "    <tr style=\"text-align: right;\">\n",
       "      <th></th>\n",
       "      <th>A_id</th>\n",
       "      <th>Size</th>\n",
       "      <th>Weight</th>\n",
       "      <th>Sweetness</th>\n",
       "      <th>Crunchiness</th>\n",
       "      <th>Juiciness</th>\n",
       "      <th>Ripeness</th>\n",
       "      <th>Acidity</th>\n",
       "      <th>Quality</th>\n",
       "    </tr>\n",
       "  </thead>\n",
       "  <tbody>\n",
       "    <tr>\n",
       "      <th>0</th>\n",
       "      <td>0.0</td>\n",
       "      <td>-3.970049</td>\n",
       "      <td>-2.512336</td>\n",
       "      <td>5.346330</td>\n",
       "      <td>-1.012009</td>\n",
       "      <td>1.844900</td>\n",
       "      <td>0.329840</td>\n",
       "      <td>-0.491590483</td>\n",
       "      <td>1.0</td>\n",
       "    </tr>\n",
       "    <tr>\n",
       "      <th>1</th>\n",
       "      <td>1.0</td>\n",
       "      <td>-1.195217</td>\n",
       "      <td>-2.839257</td>\n",
       "      <td>3.664059</td>\n",
       "      <td>1.588232</td>\n",
       "      <td>0.853286</td>\n",
       "      <td>0.867530</td>\n",
       "      <td>-0.722809367</td>\n",
       "      <td>1.0</td>\n",
       "    </tr>\n",
       "    <tr>\n",
       "      <th>2</th>\n",
       "      <td>2.0</td>\n",
       "      <td>-0.292024</td>\n",
       "      <td>-1.351282</td>\n",
       "      <td>-1.738429</td>\n",
       "      <td>-0.342616</td>\n",
       "      <td>2.838636</td>\n",
       "      <td>-0.038033</td>\n",
       "      <td>2.621636473</td>\n",
       "      <td>0.0</td>\n",
       "    </tr>\n",
       "    <tr>\n",
       "      <th>3</th>\n",
       "      <td>3.0</td>\n",
       "      <td>-0.657196</td>\n",
       "      <td>-2.271627</td>\n",
       "      <td>1.324874</td>\n",
       "      <td>-0.097875</td>\n",
       "      <td>3.637970</td>\n",
       "      <td>-3.413761</td>\n",
       "      <td>0.790723217</td>\n",
       "      <td>1.0</td>\n",
       "    </tr>\n",
       "    <tr>\n",
       "      <th>4</th>\n",
       "      <td>4.0</td>\n",
       "      <td>1.364217</td>\n",
       "      <td>-1.296612</td>\n",
       "      <td>-0.384658</td>\n",
       "      <td>-0.553006</td>\n",
       "      <td>3.030874</td>\n",
       "      <td>-1.303849</td>\n",
       "      <td>0.501984036</td>\n",
       "      <td>1.0</td>\n",
       "    </tr>\n",
       "    <tr>\n",
       "      <th>...</th>\n",
       "      <td>...</td>\n",
       "      <td>...</td>\n",
       "      <td>...</td>\n",
       "      <td>...</td>\n",
       "      <td>...</td>\n",
       "      <td>...</td>\n",
       "      <td>...</td>\n",
       "      <td>...</td>\n",
       "      <td>...</td>\n",
       "    </tr>\n",
       "    <tr>\n",
       "      <th>3996</th>\n",
       "      <td>3996.0</td>\n",
       "      <td>-0.293118</td>\n",
       "      <td>1.949253</td>\n",
       "      <td>-0.204020</td>\n",
       "      <td>-0.640196</td>\n",
       "      <td>0.024523</td>\n",
       "      <td>-1.087900</td>\n",
       "      <td>1.854235285</td>\n",
       "      <td>1.0</td>\n",
       "    </tr>\n",
       "    <tr>\n",
       "      <th>3997</th>\n",
       "      <td>3997.0</td>\n",
       "      <td>-2.634515</td>\n",
       "      <td>-2.138247</td>\n",
       "      <td>-2.440461</td>\n",
       "      <td>0.657223</td>\n",
       "      <td>2.199709</td>\n",
       "      <td>4.763859</td>\n",
       "      <td>-1.334611391</td>\n",
       "      <td>0.0</td>\n",
       "    </tr>\n",
       "    <tr>\n",
       "      <th>3998</th>\n",
       "      <td>3998.0</td>\n",
       "      <td>-4.008004</td>\n",
       "      <td>-1.779337</td>\n",
       "      <td>2.366397</td>\n",
       "      <td>-0.200329</td>\n",
       "      <td>2.161435</td>\n",
       "      <td>0.214488</td>\n",
       "      <td>-2.229719806</td>\n",
       "      <td>1.0</td>\n",
       "    </tr>\n",
       "    <tr>\n",
       "      <th>3999</th>\n",
       "      <td>3999.0</td>\n",
       "      <td>0.278540</td>\n",
       "      <td>-1.715505</td>\n",
       "      <td>0.121217</td>\n",
       "      <td>-1.154075</td>\n",
       "      <td>1.266677</td>\n",
       "      <td>-0.776571</td>\n",
       "      <td>1.599796456</td>\n",
       "      <td>1.0</td>\n",
       "    </tr>\n",
       "    <tr>\n",
       "      <th>4000</th>\n",
       "      <td>NaN</td>\n",
       "      <td>NaN</td>\n",
       "      <td>NaN</td>\n",
       "      <td>NaN</td>\n",
       "      <td>NaN</td>\n",
       "      <td>NaN</td>\n",
       "      <td>NaN</td>\n",
       "      <td>Created_by_Nidula_Elgiriyewithana</td>\n",
       "      <td>NaN</td>\n",
       "    </tr>\n",
       "  </tbody>\n",
       "</table>\n",
       "<p>4001 rows × 9 columns</p>\n",
       "</div>"
      ],
      "text/plain": [
       "        A_id      Size    Weight  Sweetness  Crunchiness  Juiciness  Ripeness  \\\n",
       "0        0.0 -3.970049 -2.512336   5.346330    -1.012009   1.844900  0.329840   \n",
       "1        1.0 -1.195217 -2.839257   3.664059     1.588232   0.853286  0.867530   \n",
       "2        2.0 -0.292024 -1.351282  -1.738429    -0.342616   2.838636 -0.038033   \n",
       "3        3.0 -0.657196 -2.271627   1.324874    -0.097875   3.637970 -3.413761   \n",
       "4        4.0  1.364217 -1.296612  -0.384658    -0.553006   3.030874 -1.303849   \n",
       "...      ...       ...       ...        ...          ...        ...       ...   \n",
       "3996  3996.0 -0.293118  1.949253  -0.204020    -0.640196   0.024523 -1.087900   \n",
       "3997  3997.0 -2.634515 -2.138247  -2.440461     0.657223   2.199709  4.763859   \n",
       "3998  3998.0 -4.008004 -1.779337   2.366397    -0.200329   2.161435  0.214488   \n",
       "3999  3999.0  0.278540 -1.715505   0.121217    -1.154075   1.266677 -0.776571   \n",
       "4000     NaN       NaN       NaN        NaN          NaN        NaN       NaN   \n",
       "\n",
       "                                Acidity  Quality  \n",
       "0                          -0.491590483      1.0  \n",
       "1                          -0.722809367      1.0  \n",
       "2                           2.621636473      0.0  \n",
       "3                           0.790723217      1.0  \n",
       "4                           0.501984036      1.0  \n",
       "...                                 ...      ...  \n",
       "3996                        1.854235285      1.0  \n",
       "3997                       -1.334611391      0.0  \n",
       "3998                       -2.229719806      1.0  \n",
       "3999                        1.599796456      1.0  \n",
       "4000  Created_by_Nidula_Elgiriyewithana      NaN  \n",
       "\n",
       "[4001 rows x 9 columns]"
      ]
     },
     "execution_count": 8,
     "metadata": {},
     "output_type": "execute_result"
    }
   ],
   "source": [
    "df_1"
   ]
  },
  {
   "cell_type": "code",
   "execution_count": 9,
   "id": "02fd783f-4b24-4183-88c8-dff3cd6f0436",
   "metadata": {},
   "outputs": [],
   "source": [
    "df_1=df_1.drop(4000)"
   ]
  },
  {
   "cell_type": "code",
   "execution_count": 10,
   "id": "dfb476de-1970-4dd2-a484-0bb2ae4b3c56",
   "metadata": {},
   "outputs": [],
   "source": [
    "# split data into X and y\n",
    "X_1 = df_1.drop(\"Quality\",axis=1)\n",
    "y_1= df_1[\"Quality\"]"
   ]
  },
  {
   "cell_type": "markdown",
   "id": "6b5b7cdf-300b-44d4-ad5f-b5a54b586d80",
   "metadata": {},
   "source": [
    "* split into training and testing"
   ]
  },
  {
   "cell_type": "code",
   "execution_count": 11,
   "id": "7d90a08f-c7cb-4729-b2ac-055a4e4a6611",
   "metadata": {},
   "outputs": [],
   "source": [
    "np.random.seed(42)\n",
    "\n",
    "#split into train and test\n",
    "X1_train,X1_test,y1_train,y1_test=train_test_split(X_1,y_1,test_size=0.2)"
   ]
  },
  {
   "cell_type": "code",
   "execution_count": 12,
   "id": "94b3d4e6-cbfb-42fb-8774-7633d3f5767f",
   "metadata": {},
   "outputs": [
    {
     "data": {
      "text/plain": [
       "{'C': 1.0,\n",
       " 'break_ties': False,\n",
       " 'cache_size': 200,\n",
       " 'class_weight': None,\n",
       " 'coef0': 0.0,\n",
       " 'decision_function_shape': 'ovr',\n",
       " 'degree': 3,\n",
       " 'gamma': 'scale',\n",
       " 'kernel': 'rbf',\n",
       " 'max_iter': -1,\n",
       " 'probability': False,\n",
       " 'random_state': None,\n",
       " 'shrinking': True,\n",
       " 'tol': 0.001,\n",
       " 'verbose': False}"
      ]
     },
     "execution_count": 12,
     "metadata": {},
     "output_type": "execute_result"
    }
   ],
   "source": [
    "SVM.get_params()"
   ]
  },
  {
   "cell_type": "code",
   "execution_count": 13,
   "id": "3213181d-4b8b-447e-9898-091011c8acc8",
   "metadata": {},
   "outputs": [
    {
     "name": "stderr",
     "output_type": "stream",
     "text": [
      "C:\\Users\\Student\\Desktop\\ML\\Udemy\\first_assignment\\env\\Lib\\site-packages\\sklearn\\svm\\_base.py:297: ConvergenceWarning: Solver terminated early (max_iter=100000000).  Consider pre-processing your data with StandardScaler or MinMaxScaler.\n",
      "  warnings.warn(\n",
      "C:\\Users\\Student\\Desktop\\ML\\Udemy\\first_assignment\\env\\Lib\\site-packages\\sklearn\\svm\\_base.py:297: ConvergenceWarning: Solver terminated early (max_iter=100000000).  Consider pre-processing your data with StandardScaler or MinMaxScaler.\n",
      "  warnings.warn(\n"
     ]
    }
   ],
   "source": [
    "degree = range(1,15,1)\n",
    "train_scores=[]\n",
    "test_scores=[]\n",
    "# loop through layers\n",
    "for i in degree:\n",
    "    SVM.set_params(degree=i, max_iter=100000000,kernel='poly')\n",
    "    SVM.fit(X1_train,y1_train)\n",
    "    # update the training scores list\n",
    "    train_scores.append(SVM.score(X1_train,y1_train))\n",
    "    #update the test scores list\n",
    "    test_scores.append(SVM.score(X1_test,y1_test))\n",
    "    "
   ]
  },
  {
   "cell_type": "code",
   "execution_count": 14,
   "id": "8f457d6d-8eec-49d2-9c67-10de290032d5",
   "metadata": {},
   "outputs": [
    {
     "data": {
      "text/plain": [
       "[0.501875,\n",
       " 0.5034375,\n",
       " 0.5015625,\n",
       " 0.5015625,\n",
       " 0.5015625,\n",
       " 0.5134375,\n",
       " 0.54625,\n",
       " 0.575625,\n",
       " 0.5915625,\n",
       " 0.5653125,\n",
       " 0.56625,\n",
       " 0.5678125,\n",
       " 0.59125,\n",
       " 0.5571875]"
      ]
     },
     "execution_count": 14,
     "metadata": {},
     "output_type": "execute_result"
    }
   ],
   "source": [
    "train_scores"
   ]
  },
  {
   "cell_type": "code",
   "execution_count": 15,
   "id": "73055279-7ffe-474d-9303-475fb2cb2149",
   "metadata": {},
   "outputs": [
    {
     "data": {
      "text/plain": [
       "[0.4925,\n",
       " 0.495,\n",
       " 0.49875,\n",
       " 0.49875,\n",
       " 0.49875,\n",
       " 0.5125,\n",
       " 0.5475,\n",
       " 0.5775,\n",
       " 0.59,\n",
       " 0.5625,\n",
       " 0.5625,\n",
       " 0.56625,\n",
       " 0.5825,\n",
       " 0.55625]"
      ]
     },
     "execution_count": 15,
     "metadata": {},
     "output_type": "execute_result"
    }
   ],
   "source": [
    "test_scores"
   ]
  },
  {
   "cell_type": "code",
   "execution_count": 16,
   "id": "a7f93ba7-5060-4f75-8895-cc8790932de9",
   "metadata": {},
   "outputs": [
    {
     "name": "stdout",
     "output_type": "stream",
     "text": [
      "Max poly SVM score on the test data: 59.00%\n"
     ]
    },
    {
     "data": {
      "image/png": "[encoded data removed]",
      "text/plain": [
       "<Figure size 640x480 with 1 Axes>"
      ]
     },
     "metadata": {},
     "output_type": "display_data"
    }
   ],
   "source": [
    "plt.plot(degree, train_scores, label=\"Train score poly\")\n",
    "plt.plot(degree, test_scores, label=\"Test score poly\")\n",
    "plt.ylim(0,1)\n",
    "plt.xticks(np.arange(0,15))\n",
    "plt.xlabel(\"degree\")\n",
    "plt.ylabel(\"Model score\")\n",
    "plt.legend()\n",
    "\n",
    "print(f\"Max poly SVM score on the test data: {max(test_scores)*100:.2f}%\")\n",
    "# poly"
   ]
  },
  {
   "cell_type": "code",
   "execution_count": 17,
   "id": "3616e9cc-8b45-4e40-8a6b-f52a7199211c",
   "metadata": {},
   "outputs": [
    {
     "name": "stderr",
     "output_type": "stream",
     "text": [
      "C:\\Users\\Student\\Desktop\\ML\\Udemy\\first_assignment\\env\\Lib\\site-packages\\sklearn\\svm\\_base.py:297: ConvergenceWarning: Solver terminated early (max_iter=10000).  Consider pre-processing your data with StandardScaler or MinMaxScaler.\n",
      "  warnings.warn(\n",
      "C:\\Users\\Student\\Desktop\\ML\\Udemy\\first_assignment\\env\\Lib\\site-packages\\sklearn\\svm\\_base.py:297: ConvergenceWarning: Solver terminated early (max_iter=10000).  Consider pre-processing your data with StandardScaler or MinMaxScaler.\n",
      "  warnings.warn(\n",
      "C:\\Users\\Student\\Desktop\\ML\\Udemy\\first_assignment\\env\\Lib\\site-packages\\sklearn\\svm\\_base.py:297: ConvergenceWarning: Solver terminated early (max_iter=10000).  Consider pre-processing your data with StandardScaler or MinMaxScaler.\n",
      "  warnings.warn(\n",
      "C:\\Users\\Student\\Desktop\\ML\\Udemy\\first_assignment\\env\\Lib\\site-packages\\sklearn\\svm\\_base.py:297: ConvergenceWarning: Solver terminated early (max_iter=10000).  Consider pre-processing your data with StandardScaler or MinMaxScaler.\n",
      "  warnings.warn(\n",
      "C:\\Users\\Student\\Desktop\\ML\\Udemy\\first_assignment\\env\\Lib\\site-packages\\sklearn\\svm\\_base.py:297: ConvergenceWarning: Solver terminated early (max_iter=10000).  Consider pre-processing your data with StandardScaler or MinMaxScaler.\n",
      "  warnings.warn(\n",
      "C:\\Users\\Student\\Desktop\\ML\\Udemy\\first_assignment\\env\\Lib\\site-packages\\sklearn\\svm\\_base.py:297: ConvergenceWarning: Solver terminated early (max_iter=10000).  Consider pre-processing your data with StandardScaler or MinMaxScaler.\n",
      "  warnings.warn(\n",
      "C:\\Users\\Student\\Desktop\\ML\\Udemy\\first_assignment\\env\\Lib\\site-packages\\sklearn\\svm\\_base.py:297: ConvergenceWarning: Solver terminated early (max_iter=10000).  Consider pre-processing your data with StandardScaler or MinMaxScaler.\n",
      "  warnings.warn(\n",
      "C:\\Users\\Student\\Desktop\\ML\\Udemy\\first_assignment\\env\\Lib\\site-packages\\sklearn\\svm\\_base.py:297: ConvergenceWarning: Solver terminated early (max_iter=10000).  Consider pre-processing your data with StandardScaler or MinMaxScaler.\n",
      "  warnings.warn(\n",
      "C:\\Users\\Student\\Desktop\\ML\\Udemy\\first_assignment\\env\\Lib\\site-packages\\sklearn\\svm\\_base.py:297: ConvergenceWarning: Solver terminated early (max_iter=10000).  Consider pre-processing your data with StandardScaler or MinMaxScaler.\n",
      "  warnings.warn(\n"
     ]
    }
   ],
   "source": [
    "\n",
    "f1_train_scores_poly=[]\n",
    "f1_test_scores_poly=[]\n",
    "\n",
    "for i in degree:\n",
    "    SVM.set_params(degree=i, max_iter=10000,kernel='poly')\n",
    "    SVM.fit(X1_train,y1_train)\n",
    "    y1_train_pred = SVM.predict(X1_train)\n",
    "    y1_test_pred = SVM.predict(X1_test)\n",
    "    # update the training scores list\n",
    "    f1_train_scores_poly.append(f1_score(y1_train,y1_train_pred))\n",
    "    f1_test_scores_poly.append(f1_score(y1_test,y1_test_pred))\n",
    "    \n",
    "    "
   ]
  },
  {
   "cell_type": "code",
   "execution_count": 18,
   "id": "2118ae4b-df53-4934-90cc-d7fcfc0d6e70",
   "metadata": {},
   "outputs": [
    {
     "data": {
      "text/plain": [
       "<matplotlib.legend.Legend at 0x2e73bb15610>"
      ]
     },
     "execution_count": 18,
     "metadata": {},
     "output_type": "execute_result"
    },
    {
     "data": {
      "image/png": "[encoded data removed]",
      "text/plain": [
       "<Figure size 640x480 with 1 Axes>"
      ]
     },
     "metadata": {},
     "output_type": "display_data"
    }
   ],
   "source": [
    "plt.plot(degree, f1_train_scores_poly, label=\"f1 train scores poly\",color='C3',)\n",
    "plt.plot(degree, f1_test_scores_poly, label=\"f1 test scores poly\",color='C3', linestyle='--',)\n",
    "\n",
    "plt.xticks(np.arange(0,15))\n",
    "plt.ylim(0,1)\n",
    "plt.xlabel(\"degree\")\n",
    "plt.ylabel(\"f1 score\")\n",
    "plt.legend()\n",
    "\n"
   ]
  },
  {
   "cell_type": "code",
   "execution_count": 20,
   "id": "d9f5e616-5f7f-4c74-9ea6-455fd7cc83f4",
   "metadata": {},
   "outputs": [
    {
     "name": "stderr",
     "output_type": "stream",
     "text": [
      "C:\\Users\\Student\\AppData\\Local\\Temp\\ipykernel_56064\\152722450.py:6: FutureWarning: Downcasting behavior in `replace` is deprecated and will be removed in a future version. To retain the old behavior, explicitly call `result.infer_objects(copy=False)`. To opt-in to the future behavior, set `pd.set_option('future.no_silent_downcasting', True)`\n",
      "  df_1=df_1.replace(to_replace=\"bad\", value = 0)\n",
      "C:\\Users\\Student\\Desktop\\ML\\Udemy\\first_assignment\\env\\Lib\\site-packages\\sklearn\\svm\\_base.py:297: ConvergenceWarning: Solver terminated early (max_iter=10000).  Consider pre-processing your data with StandardScaler or MinMaxScaler.\n",
      "  warnings.warn(\n"
     ]
    },
    {
     "data": {
      "text/plain": [
       "<matplotlib.legend.Legend at 0x2e73b42a0c0>"
      ]
     },
     "execution_count": 20,
     "metadata": {},
     "output_type": "execute_result"
    },
    {
     "data": {
      "image/png": "[encoded data removed]",
      "text/plain": [
       "<Figure size 640x480 with 1 Axes>"
      ]
     },
     "metadata": {},
     "output_type": "display_data"
    }
   ],
   "source": [
    "import matplotlib.pyplot as plt\n",
    "\n",
    "df_1 = pd.read_csv(\"apple_quality.csv\")\n",
    "\n",
    "df_1= df_1.replace(to_replace=\"good\", value = 1)\n",
    "df_1=df_1.replace(to_replace=\"bad\", value = 0)\n",
    "\n",
    "df_1=df_1.drop(4000)\n",
    "\n",
    "\n",
    "\n",
    "# split data into X and y\n",
    "X_1 = df_1.drop(\"Quality\",axis=1)\n",
    "y_1= df_1[\"Quality\"]\n",
    "\n",
    "np.random.seed(42)\n",
    "\n",
    "#split into train and test\n",
    "X1_train,X1_test,y1_train,y1_test=train_test_split(X_1,y_1,test_size=0.2)\n",
    "\n",
    "\n",
    "C = [1e-4, 1e-3, 1e-2, 1e-1,1,10,100, 1000]\n",
    "train_scores=[]\n",
    "test_scores=[]\n",
    "# loop through layers\n",
    "for i in C:\n",
    "    SVM.set_params(C=i, max_iter=100000000,kernel='rbf')\n",
    "    SVM.fit(X1_train,y1_train)\n",
    "    # update the training scores list\n",
    "    train_scores.append(SVM.score(X1_train,y1_train))\n",
    "    #update the test scores list\n",
    "    test_scores.append(SVM.score(X1_test,y1_test))\n",
    "\n",
    "plt.semilogx(C, train_scores, label=\"Train score rbf\",color='C1',)\n",
    "plt.semilogx(C, test_scores, label=\"Test score rbf\",color='C1',linestyle='--',)\n",
    "plt.ylim(0,1)\n",
    "## plt.xticks(np.arange(0,10))\n",
    "plt.xlabel(\"C\")\n",
    "plt.ylabel(\"Model score\")\n",
    "plt.legend()\n",
    "\n",
    "\n",
    "## print(f\"Max rbf SVM score on the test data: {max(test_scores)*100:.2f}%\")\n",
    "\n",
    "\n",
    "f1_train_scores_rbf=[]\n",
    "f1_test_scores_rbf=[]\n",
    "\n",
    "for i in C:\n",
    "    SVM.set_params(C=i, max_iter=10000,kernel='rbf')\n",
    "    SVM.fit(X1_train,y1_train)\n",
    "    y1_train_pred = SVM.predict(X1_train)\n",
    "    y1_test_pred = SVM.predict(X1_test)\n",
    "    # update the training scores list\n",
    "    f1_train_scores_rbf.append(f1_score(y1_train,y1_train_pred))\n",
    "    f1_test_scores_rbf.append(f1_score(y1_test,y1_test_pred))\n",
    "\n",
    "plt.semilogx(C, f1_train_scores_rbf, label=\"f1 train scores rbf\",color='C3',)\n",
    "plt.semilogx(C, f1_test_scores_rbf, label=\"f1 test scores rbf\",color='C3', linestyle='--',)\n",
    "\n",
    "# plt.xticks(np.arange(0,10))\n",
    "plt.ylim(0,1)\n",
    "plt.xlabel(\"C\")\n",
    "plt.ylabel(\"f1 score\")\n",
    "plt.legend()\n",
    "\n",
    "    "
   ]
  },
  {
   "cell_type": "code",
   "execution_count": 21,
   "id": "07993c55-b936-4915-8c6e-7049e519f128",
   "metadata": {},
   "outputs": [],
   "source": [
    "params_grid = {\n",
    "    'kernel': ['linear','rbf', 'sigmoid'],\n",
    "    'C': [0.1,1,10,100],\n",
    "    'gamma':[1,10,100,1000],\n",
    "    'max_iter':[500000],\n",
    "}"
   ]
  },
  {
   "cell_type": "code",
   "execution_count": 22,
   "id": "296d4af1-1f45-453f-84bf-725be12de554",
   "metadata": {},
   "outputs": [],
   "source": [
    "grid_search = GridSearchCV(\n",
    "    estimator=SVM,\n",
    "    param_grid=params_grid,\n",
    "    return_train_score=True,\n",
    "    cv=4,\n",
    "    verbose=5,\n",
    ")"
   ]
  },
  {
   "cell_type": "code",
   "execution_count": 23,
   "id": "62055a11-9904-4caa-9292-938fc4462dd8",
   "metadata": {},
   "outputs": [
    {
     "name": "stdout",
     "output_type": "stream",
     "text": [
      "Fitting 4 folds for each of 48 candidates, totalling 192 fits\n"
     ]
    },
    {
     "name": "stderr",
     "output_type": "stream",
     "text": [
      "C:\\Users\\Student\\Desktop\\ML\\Udemy\\first_assignment\\env\\Lib\\site-packages\\sklearn\\svm\\_base.py:297: ConvergenceWarning: Solver terminated early (max_iter=500000).  Consider pre-processing your data with StandardScaler or MinMaxScaler.\n",
      "  warnings.warn(\n"
     ]
    },
    {
     "name": "stdout",
     "output_type": "stream",
     "text": [
      "[CV 1/4] END C=0.1, gamma=1, kernel=linear, max_iter=500000;, score=(train=0.604, test=0.614) total time=   4.3s\n"
     ]
    },
    {
     "name": "stderr",
     "output_type": "stream",
     "text": [
      "C:\\Users\\Student\\Desktop\\ML\\Udemy\\first_assignment\\env\\Lib\\site-packages\\sklearn\\svm\\_base.py:297: ConvergenceWarning: Solver terminated early (max_iter=500000).  Consider pre-processing your data with StandardScaler or MinMaxScaler.\n",
      "  warnings.warn(\n"
     ]
    },
    {
     "name": "stdout",
     "output_type": "stream",
     "text": [
      "[CV 2/4] END C=0.1, gamma=1, kernel=linear, max_iter=500000;, score=(train=0.564, test=0.575) total time=   4.0s\n"
     ]
    },
    {
     "name": "stderr",
     "output_type": "stream",
     "text": [
      "C:\\Users\\Student\\Desktop\\ML\\Udemy\\first_assignment\\env\\Lib\\site-packages\\sklearn\\svm\\_base.py:297: ConvergenceWarning: Solver terminated early (max_iter=500000).  Consider pre-processing your data with StandardScaler or MinMaxScaler.\n",
      "  warnings.warn(\n"
     ]
    },
    {
     "name": "stdout",
     "output_type": "stream",
     "text": [
      "[CV 3/4] END C=0.1, gamma=1, kernel=linear, max_iter=500000;, score=(train=0.580, test=0.571) total time=   4.3s\n"
     ]
    },
    {
     "name": "stderr",
     "output_type": "stream",
     "text": [
      "C:\\Users\\Student\\Desktop\\ML\\Udemy\\first_assignment\\env\\Lib\\site-packages\\sklearn\\svm\\_base.py:297: ConvergenceWarning: Solver terminated early (max_iter=500000).  Consider pre-processing your data with StandardScaler or MinMaxScaler.\n",
      "  warnings.warn(\n"
     ]
    },
    {
     "name": "stdout",
     "output_type": "stream",
     "text": [
      "[CV 4/4] END C=0.1, gamma=1, kernel=linear, max_iter=500000;, score=(train=0.593, test=0.583) total time=   5.1s\n",
      "[CV 1/4] END C=0.1, gamma=1, kernel=rbf, max_iter=500000;, score=(train=0.501, test=0.502) total time=   0.9s\n",
      "[CV 2/4] END C=0.1, gamma=1, kernel=rbf, max_iter=500000;, score=(train=0.502, test=0.501) total time=   0.8s\n",
      "[CV 3/4] END C=0.1, gamma=1, kernel=rbf, max_iter=500000;, score=(train=0.502, test=0.501) total time=   0.8s\n",
      "[CV 4/4] END C=0.1, gamma=1, kernel=rbf, max_iter=500000;, score=(train=0.502, test=0.501) total time=   0.9s\n",
      "[CV 1/4] END C=0.1, gamma=1, kernel=sigmoid, max_iter=500000;, score=(train=0.501, test=0.502) total time=   0.3s\n",
      "[CV 2/4] END C=0.1, gamma=1, kernel=sigmoid, max_iter=500000;, score=(train=0.502, test=0.501) total time=   0.3s\n",
      "[CV 3/4] END C=0.1, gamma=1, kernel=sigmoid, max_iter=500000;, score=(train=0.502, test=0.501) total time=   0.3s\n",
      "[CV 4/4] END C=0.1, gamma=1, kernel=sigmoid, max_iter=500000;, score=(train=0.502, test=0.501) total time=   0.3s\n"
     ]
    },
    {
     "name": "stderr",
     "output_type": "stream",
     "text": [
      "C:\\Users\\Student\\Desktop\\ML\\Udemy\\first_assignment\\env\\Lib\\site-packages\\sklearn\\svm\\_base.py:297: ConvergenceWarning: Solver terminated early (max_iter=500000).  Consider pre-processing your data with StandardScaler or MinMaxScaler.\n",
      "  warnings.warn(\n"
     ]
    },
    {
     "name": "stdout",
     "output_type": "stream",
     "text": [
      "[CV 1/4] END C=0.1, gamma=10, kernel=linear, max_iter=500000;, score=(train=0.604, test=0.614) total time=   4.6s\n"
     ]
    },
    {
     "name": "stderr",
     "output_type": "stream",
     "text": [
      "C:\\Users\\Student\\Desktop\\ML\\Udemy\\first_assignment\\env\\Lib\\site-packages\\sklearn\\svm\\_base.py:297: ConvergenceWarning: Solver terminated early (max_iter=500000).  Consider pre-processing your data with StandardScaler or MinMaxScaler.\n",
      "  warnings.warn(\n"
     ]
    },
    {
     "name": "stdout",
     "output_type": "stream",
     "text": [
      "[CV 2/4] END C=0.1, gamma=10, kernel=linear, max_iter=500000;, score=(train=0.564, test=0.575) total time=   4.2s\n"
     ]
    },
    {
     "name": "stderr",
     "output_type": "stream",
     "text": [
      "C:\\Users\\Student\\Desktop\\ML\\Udemy\\first_assignment\\env\\Lib\\site-packages\\sklearn\\svm\\_base.py:297: ConvergenceWarning: Solver terminated early (max_iter=500000).  Consider pre-processing your data with StandardScaler or MinMaxScaler.\n",
      "  warnings.warn(\n"
     ]
    },
    {
     "name": "stdout",
     "output_type": "stream",
     "text": [
      "[CV 3/4] END C=0.1, gamma=10, kernel=linear, max_iter=500000;, score=(train=0.580, test=0.571) total time=   4.2s\n"
     ]
    },
    {
     "name": "stderr",
     "output_type": "stream",
     "text": [
      "C:\\Users\\Student\\Desktop\\ML\\Udemy\\first_assignment\\env\\Lib\\site-packages\\sklearn\\svm\\_base.py:297: ConvergenceWarning: Solver terminated early (max_iter=500000).  Consider pre-processing your data with StandardScaler or MinMaxScaler.\n",
      "  warnings.warn(\n"
     ]
    },
    {
     "name": "stdout",
     "output_type": "stream",
     "text": [
      "[CV 4/4] END C=0.1, gamma=10, kernel=linear, max_iter=500000;, score=(train=0.593, test=0.583) total time=   4.8s\n",
      "[CV 1/4] END C=0.1, gamma=10, kernel=rbf, max_iter=500000;, score=(train=0.501, test=0.502) total time=   1.0s\n",
      "[CV 2/4] END C=0.1, gamma=10, kernel=rbf, max_iter=500000;, score=(train=0.502, test=0.501) total time=   1.0s\n",
      "[CV 3/4] END C=0.1, gamma=10, kernel=rbf, max_iter=500000;, score=(train=0.502, test=0.501) total time=   0.8s\n",
      "[CV 4/4] END C=0.1, gamma=10, kernel=rbf, max_iter=500000;, score=(train=0.502, test=0.501) total time=   0.9s\n",
      "[CV 1/4] END C=0.1, gamma=10, kernel=sigmoid, max_iter=500000;, score=(train=0.501, test=0.502) total time=   0.3s\n",
      "[CV 2/4] END C=0.1, gamma=10, kernel=sigmoid, max_iter=500000;, score=(train=0.502, test=0.501) total time=   0.3s\n",
      "[CV 3/4] END C=0.1, gamma=10, kernel=sigmoid, max_iter=500000;, score=(train=0.502, test=0.501) total time=   0.2s\n",
      "[CV 4/4] END C=0.1, gamma=10, kernel=sigmoid, max_iter=500000;, score=(train=0.502, test=0.501) total time=   0.3s\n"
     ]
    },
    {
     "name": "stderr",
     "output_type": "stream",
     "text": [
      "C:\\Users\\Student\\Desktop\\ML\\Udemy\\first_assignment\\env\\Lib\\site-packages\\sklearn\\svm\\_base.py:297: ConvergenceWarning: Solver terminated early (max_iter=500000).  Consider pre-processing your data with StandardScaler or MinMaxScaler.\n",
      "  warnings.warn(\n"
     ]
    },
    {
     "name": "stdout",
     "output_type": "stream",
     "text": [
      "[CV 1/4] END C=0.1, gamma=100, kernel=linear, max_iter=500000;, score=(train=0.604, test=0.614) total time=   4.4s\n"
     ]
    },
    {
     "name": "stderr",
     "output_type": "stream",
     "text": [
      "C:\\Users\\Student\\Desktop\\ML\\Udemy\\first_assignment\\env\\Lib\\site-packages\\sklearn\\svm\\_base.py:297: ConvergenceWarning: Solver terminated early (max_iter=500000).  Consider pre-processing your data with StandardScaler or MinMaxScaler.\n",
      "  warnings.warn(\n"
     ]
    },
    {
     "name": "stdout",
     "output_type": "stream",
     "text": [
      "[CV 2/4] END C=0.1, gamma=100, kernel=linear, max_iter=500000;, score=(train=0.564, test=0.575) total time=   3.8s\n"
     ]
    },
    {
     "name": "stderr",
     "output_type": "stream",
     "text": [
      "C:\\Users\\Student\\Desktop\\ML\\Udemy\\first_assignment\\env\\Lib\\site-packages\\sklearn\\svm\\_base.py:297: ConvergenceWarning: Solver terminated early (max_iter=500000).  Consider pre-processing your data with StandardScaler or MinMaxScaler.\n",
      "  warnings.warn(\n"
     ]
    },
    {
     "name": "stdout",
     "output_type": "stream",
     "text": [
      "[CV 3/4] END C=0.1, gamma=100, kernel=linear, max_iter=500000;, score=(train=0.580, test=0.571) total time=   3.9s\n"
     ]
    },
    {
     "name": "stderr",
     "output_type": "stream",
     "text": [
      "C:\\Users\\Student\\Desktop\\ML\\Udemy\\first_assignment\\env\\Lib\\site-packages\\sklearn\\svm\\_base.py:297: ConvergenceWarning: Solver terminated early (max_iter=500000).  Consider pre-processing your data with StandardScaler or MinMaxScaler.\n",
      "  warnings.warn(\n"
     ]
    },
    {
     "name": "stdout",
     "output_type": "stream",
     "text": [
      "[CV 4/4] END C=0.1, gamma=100, kernel=linear, max_iter=500000;, score=(train=0.593, test=0.583) total time=   4.8s\n",
      "[CV 1/4] END C=0.1, gamma=100, kernel=rbf, max_iter=500000;, score=(train=0.501, test=0.502) total time=   0.9s\n",
      "[CV 2/4] END C=0.1, gamma=100, kernel=rbf, max_iter=500000;, score=(train=0.502, test=0.501) total time=   0.9s\n",
      "[CV 3/4] END C=0.1, gamma=100, kernel=rbf, max_iter=500000;, score=(train=0.502, test=0.501) total time=   1.1s\n",
      "[CV 4/4] END C=0.1, gamma=100, kernel=rbf, max_iter=500000;, score=(train=0.502, test=0.501) total time=   1.0s\n",
      "[CV 1/4] END C=0.1, gamma=100, kernel=sigmoid, max_iter=500000;, score=(train=0.501, test=0.502) total time=   0.2s\n",
      "[CV 2/4] END C=0.1, gamma=100, kernel=sigmoid, max_iter=500000;, score=(train=0.502, test=0.501) total time=   0.2s\n",
      "[CV 3/4] END C=0.1, gamma=100, kernel=sigmoid, max_iter=500000;, score=(train=0.502, test=0.501) total time=   0.2s\n",
      "[CV 4/4] END C=0.1, gamma=100, kernel=sigmoid, max_iter=500000;, score=(train=0.502, test=0.501) total time=   0.3s\n"
     ]
    },
    {
     "name": "stderr",
     "output_type": "stream",
     "text": [
      "C:\\Users\\Student\\Desktop\\ML\\Udemy\\first_assignment\\env\\Lib\\site-packages\\sklearn\\svm\\_base.py:297: ConvergenceWarning: Solver terminated early (max_iter=500000).  Consider pre-processing your data with StandardScaler or MinMaxScaler.\n",
      "  warnings.warn(\n"
     ]
    },
    {
     "name": "stdout",
     "output_type": "stream",
     "text": [
      "[CV 1/4] END C=0.1, gamma=1000, kernel=linear, max_iter=500000;, score=(train=0.604, test=0.614) total time=   4.7s\n"
     ]
    },
    {
     "name": "stderr",
     "output_type": "stream",
     "text": [
      "C:\\Users\\Student\\Desktop\\ML\\Udemy\\first_assignment\\env\\Lib\\site-packages\\sklearn\\svm\\_base.py:297: ConvergenceWarning: Solver terminated early (max_iter=500000).  Consider pre-processing your data with StandardScaler or MinMaxScaler.\n",
      "  warnings.warn(\n"
     ]
    },
    {
     "name": "stdout",
     "output_type": "stream",
     "text": [
      "[CV 2/4] END C=0.1, gamma=1000, kernel=linear, max_iter=500000;, score=(train=0.564, test=0.575) total time=   4.6s\n"
     ]
    },
    {
     "name": "stderr",
     "output_type": "stream",
     "text": [
      "C:\\Users\\Student\\Desktop\\ML\\Udemy\\first_assignment\\env\\Lib\\site-packages\\sklearn\\svm\\_base.py:297: ConvergenceWarning: Solver terminated early (max_iter=500000).  Consider pre-processing your data with StandardScaler or MinMaxScaler.\n",
      "  warnings.warn(\n"
     ]
    },
    {
     "name": "stdout",
     "output_type": "stream",
     "text": [
      "[CV 3/4] END C=0.1, gamma=1000, kernel=linear, max_iter=500000;, score=(train=0.580, test=0.571) total time=   4.2s\n"
     ]
    },
    {
     "name": "stderr",
     "output_type": "stream",
     "text": [
      "C:\\Users\\Student\\Desktop\\ML\\Udemy\\first_assignment\\env\\Lib\\site-packages\\sklearn\\svm\\_base.py:297: ConvergenceWarning: Solver terminated early (max_iter=500000).  Consider pre-processing your data with StandardScaler or MinMaxScaler.\n",
      "  warnings.warn(\n"
     ]
    },
    {
     "name": "stdout",
     "output_type": "stream",
     "text": [
      "[CV 4/4] END C=0.1, gamma=1000, kernel=linear, max_iter=500000;, score=(train=0.593, test=0.583) total time=   4.1s\n",
      "[CV 1/4] END C=0.1, gamma=1000, kernel=rbf, max_iter=500000;, score=(train=0.501, test=0.502) total time=   0.8s\n",
      "[CV 2/4] END C=0.1, gamma=1000, kernel=rbf, max_iter=500000;, score=(train=0.502, test=0.501) total time=   0.9s\n",
      "[CV 3/4] END C=0.1, gamma=1000, kernel=rbf, max_iter=500000;, score=(train=0.502, test=0.501) total time=   1.0s\n",
      "[CV 4/4] END C=0.1, gamma=1000, kernel=rbf, max_iter=500000;, score=(train=0.502, test=0.501) total time=   0.9s\n",
      "[CV 1/4] END C=0.1, gamma=1000, kernel=sigmoid, max_iter=500000;, score=(train=0.501, test=0.502) total time=   0.2s\n",
      "[CV 2/4] END C=0.1, gamma=1000, kernel=sigmoid, max_iter=500000;, score=(train=0.502, test=0.501) total time=   0.2s\n",
      "[CV 3/4] END C=0.1, gamma=1000, kernel=sigmoid, max_iter=500000;, score=(train=0.502, test=0.501) total time=   0.2s\n",
      "[CV 4/4] END C=0.1, gamma=1000, kernel=sigmoid, max_iter=500000;, score=(train=0.502, test=0.501) total time=   0.2s\n"
     ]
    },
    {
     "name": "stderr",
     "output_type": "stream",
     "text": [
      "C:\\Users\\Student\\Desktop\\ML\\Udemy\\first_assignment\\env\\Lib\\site-packages\\sklearn\\svm\\_base.py:297: ConvergenceWarning: Solver terminated early (max_iter=500000).  Consider pre-processing your data with StandardScaler or MinMaxScaler.\n",
      "  warnings.warn(\n"
     ]
    },
    {
     "name": "stdout",
     "output_type": "stream",
     "text": [
      "[CV 1/4] END C=1, gamma=1, kernel=linear, max_iter=500000;, score=(train=0.498, test=0.496) total time=   4.6s\n"
     ]
    },
    {
     "name": "stderr",
     "output_type": "stream",
     "text": [
      "C:\\Users\\Student\\Desktop\\ML\\Udemy\\first_assignment\\env\\Lib\\site-packages\\sklearn\\svm\\_base.py:297: ConvergenceWarning: Solver terminated early (max_iter=500000).  Consider pre-processing your data with StandardScaler or MinMaxScaler.\n",
      "  warnings.warn(\n"
     ]
    },
    {
     "name": "stdout",
     "output_type": "stream",
     "text": [
      "[CV 2/4] END C=1, gamma=1, kernel=linear, max_iter=500000;, score=(train=0.518, test=0.525) total time=   4.3s\n"
     ]
    },
    {
     "name": "stderr",
     "output_type": "stream",
     "text": [
      "C:\\Users\\Student\\Desktop\\ML\\Udemy\\first_assignment\\env\\Lib\\site-packages\\sklearn\\svm\\_base.py:297: ConvergenceWarning: Solver terminated early (max_iter=500000).  Consider pre-processing your data with StandardScaler or MinMaxScaler.\n",
      "  warnings.warn(\n"
     ]
    },
    {
     "name": "stdout",
     "output_type": "stream",
     "text": [
      "[CV 3/4] END C=1, gamma=1, kernel=linear, max_iter=500000;, score=(train=0.541, test=0.537) total time=   4.8s\n"
     ]
    },
    {
     "name": "stderr",
     "output_type": "stream",
     "text": [
      "C:\\Users\\Student\\Desktop\\ML\\Udemy\\first_assignment\\env\\Lib\\site-packages\\sklearn\\svm\\_base.py:297: ConvergenceWarning: Solver terminated early (max_iter=500000).  Consider pre-processing your data with StandardScaler or MinMaxScaler.\n",
      "  warnings.warn(\n"
     ]
    },
    {
     "name": "stdout",
     "output_type": "stream",
     "text": [
      "[CV 4/4] END C=1, gamma=1, kernel=linear, max_iter=500000;, score=(train=0.544, test=0.530) total time=   4.2s\n",
      "[CV 1/4] END C=1, gamma=1, kernel=rbf, max_iter=500000;, score=(train=1.000, test=0.502) total time=   1.1s\n",
      "[CV 2/4] END C=1, gamma=1, kernel=rbf, max_iter=500000;, score=(train=1.000, test=0.497) total time=   0.9s\n",
      "[CV 3/4] END C=1, gamma=1, kernel=rbf, max_iter=500000;, score=(train=1.000, test=0.502) total time=   0.9s\n",
      "[CV 4/4] END C=1, gamma=1, kernel=rbf, max_iter=500000;, score=(train=1.000, test=0.504) total time=   0.8s\n",
      "[CV 1/4] END C=1, gamma=1, kernel=sigmoid, max_iter=500000;, score=(train=0.501, test=0.502) total time=   0.3s\n",
      "[CV 2/4] END C=1, gamma=1, kernel=sigmoid, max_iter=500000;, score=(train=0.525, test=0.546) total time=   0.1s\n",
      "[CV 3/4] END C=1, gamma=1, kernel=sigmoid, max_iter=500000;, score=(train=0.534, test=0.521) total time=   0.1s\n",
      "[CV 4/4] END C=1, gamma=1, kernel=sigmoid, max_iter=500000;, score=(train=0.527, test=0.540) total time=   0.1s\n"
     ]
    },
    {
     "name": "stderr",
     "output_type": "stream",
     "text": [
      "C:\\Users\\Student\\Desktop\\ML\\Udemy\\first_assignment\\env\\Lib\\site-packages\\sklearn\\svm\\_base.py:297: ConvergenceWarning: Solver terminated early (max_iter=500000).  Consider pre-processing your data with StandardScaler or MinMaxScaler.\n",
      "  warnings.warn(\n"
     ]
    },
    {
     "name": "stdout",
     "output_type": "stream",
     "text": [
      "[CV 1/4] END C=1, gamma=10, kernel=linear, max_iter=500000;, score=(train=0.498, test=0.496) total time=   4.8s\n"
     ]
    },
    {
     "name": "stderr",
     "output_type": "stream",
     "text": [
      "C:\\Users\\Student\\Desktop\\ML\\Udemy\\first_assignment\\env\\Lib\\site-packages\\sklearn\\svm\\_base.py:297: ConvergenceWarning: Solver terminated early (max_iter=500000).  Consider pre-processing your data with StandardScaler or MinMaxScaler.\n",
      "  warnings.warn(\n"
     ]
    },
    {
     "name": "stdout",
     "output_type": "stream",
     "text": [
      "[CV 2/4] END C=1, gamma=10, kernel=linear, max_iter=500000;, score=(train=0.518, test=0.525) total time=   4.6s\n"
     ]
    },
    {
     "name": "stderr",
     "output_type": "stream",
     "text": [
      "C:\\Users\\Student\\Desktop\\ML\\Udemy\\first_assignment\\env\\Lib\\site-packages\\sklearn\\svm\\_base.py:297: ConvergenceWarning: Solver terminated early (max_iter=500000).  Consider pre-processing your data with StandardScaler or MinMaxScaler.\n",
      "  warnings.warn(\n"
     ]
    },
    {
     "name": "stdout",
     "output_type": "stream",
     "text": [
      "[CV 3/4] END C=1, gamma=10, kernel=linear, max_iter=500000;, score=(train=0.541, test=0.537) total time=   4.8s\n"
     ]
    },
    {
     "name": "stderr",
     "output_type": "stream",
     "text": [
      "C:\\Users\\Student\\Desktop\\ML\\Udemy\\first_assignment\\env\\Lib\\site-packages\\sklearn\\svm\\_base.py:297: ConvergenceWarning: Solver terminated early (max_iter=500000).  Consider pre-processing your data with StandardScaler or MinMaxScaler.\n",
      "  warnings.warn(\n"
     ]
    },
    {
     "name": "stdout",
     "output_type": "stream",
     "text": [
      "[CV 4/4] END C=1, gamma=10, kernel=linear, max_iter=500000;, score=(train=0.544, test=0.530) total time=   4.6s\n",
      "[CV 1/4] END C=1, gamma=10, kernel=rbf, max_iter=500000;, score=(train=1.000, test=0.502) total time=   1.0s\n",
      "[CV 2/4] END C=1, gamma=10, kernel=rbf, max_iter=500000;, score=(train=1.000, test=0.501) total time=   0.9s\n",
      "[CV 3/4] END C=1, gamma=10, kernel=rbf, max_iter=500000;, score=(train=1.000, test=0.501) total time=   0.8s\n",
      "[CV 4/4] END C=1, gamma=10, kernel=rbf, max_iter=500000;, score=(train=1.000, test=0.501) total time=   0.8s\n",
      "[CV 1/4] END C=1, gamma=10, kernel=sigmoid, max_iter=500000;, score=(train=0.501, test=0.502) total time=   0.2s\n",
      "[CV 2/4] END C=1, gamma=10, kernel=sigmoid, max_iter=500000;, score=(train=0.502, test=0.502) total time=   0.2s\n",
      "[CV 3/4] END C=1, gamma=10, kernel=sigmoid, max_iter=500000;, score=(train=0.502, test=0.501) total time=   0.2s\n",
      "[CV 4/4] END C=1, gamma=10, kernel=sigmoid, max_iter=500000;, score=(train=0.527, test=0.540) total time=   0.1s\n"
     ]
    },
    {
     "name": "stderr",
     "output_type": "stream",
     "text": [
      "C:\\Users\\Student\\Desktop\\ML\\Udemy\\first_assignment\\env\\Lib\\site-packages\\sklearn\\svm\\_base.py:297: ConvergenceWarning: Solver terminated early (max_iter=500000).  Consider pre-processing your data with StandardScaler or MinMaxScaler.\n",
      "  warnings.warn(\n"
     ]
    },
    {
     "name": "stdout",
     "output_type": "stream",
     "text": [
      "[CV 1/4] END C=1, gamma=100, kernel=linear, max_iter=500000;, score=(train=0.498, test=0.496) total time=   4.9s\n"
     ]
    },
    {
     "name": "stderr",
     "output_type": "stream",
     "text": [
      "C:\\Users\\Student\\Desktop\\ML\\Udemy\\first_assignment\\env\\Lib\\site-packages\\sklearn\\svm\\_base.py:297: ConvergenceWarning: Solver terminated early (max_iter=500000).  Consider pre-processing your data with StandardScaler or MinMaxScaler.\n",
      "  warnings.warn(\n"
     ]
    },
    {
     "name": "stdout",
     "output_type": "stream",
     "text": [
      "[CV 2/4] END C=1, gamma=100, kernel=linear, max_iter=500000;, score=(train=0.518, test=0.525) total time=   5.0s\n"
     ]
    },
    {
     "name": "stderr",
     "output_type": "stream",
     "text": [
      "C:\\Users\\Student\\Desktop\\ML\\Udemy\\first_assignment\\env\\Lib\\site-packages\\sklearn\\svm\\_base.py:297: ConvergenceWarning: Solver terminated early (max_iter=500000).  Consider pre-processing your data with StandardScaler or MinMaxScaler.\n",
      "  warnings.warn(\n"
     ]
    },
    {
     "name": "stdout",
     "output_type": "stream",
     "text": [
      "[CV 3/4] END C=1, gamma=100, kernel=linear, max_iter=500000;, score=(train=0.541, test=0.537) total time=   5.1s\n"
     ]
    },
    {
     "name": "stderr",
     "output_type": "stream",
     "text": [
      "C:\\Users\\Student\\Desktop\\ML\\Udemy\\first_assignment\\env\\Lib\\site-packages\\sklearn\\svm\\_base.py:297: ConvergenceWarning: Solver terminated early (max_iter=500000).  Consider pre-processing your data with StandardScaler or MinMaxScaler.\n",
      "  warnings.warn(\n"
     ]
    },
    {
     "name": "stdout",
     "output_type": "stream",
     "text": [
      "[CV 4/4] END C=1, gamma=100, kernel=linear, max_iter=500000;, score=(train=0.544, test=0.530) total time=   4.3s\n",
      "[CV 1/4] END C=1, gamma=100, kernel=rbf, max_iter=500000;, score=(train=1.000, test=0.502) total time=   0.8s\n",
      "[CV 2/4] END C=1, gamma=100, kernel=rbf, max_iter=500000;, score=(train=1.000, test=0.501) total time=   1.1s\n",
      "[CV 3/4] END C=1, gamma=100, kernel=rbf, max_iter=500000;, score=(train=1.000, test=0.501) total time=   0.9s\n",
      "[CV 4/4] END C=1, gamma=100, kernel=rbf, max_iter=500000;, score=(train=1.000, test=0.501) total time=   1.0s\n",
      "[CV 1/4] END C=1, gamma=100, kernel=sigmoid, max_iter=500000;, score=(train=0.502, test=0.502) total time=   0.2s\n",
      "[CV 2/4] END C=1, gamma=100, kernel=sigmoid, max_iter=500000;, score=(train=0.502, test=0.502) total time=   0.3s\n",
      "[CV 3/4] END C=1, gamma=100, kernel=sigmoid, max_iter=500000;, score=(train=0.502, test=0.502) total time=   0.2s\n",
      "[CV 4/4] END C=1, gamma=100, kernel=sigmoid, max_iter=500000;, score=(train=0.527, test=0.540) total time=   0.0s\n"
     ]
    },
    {
     "name": "stderr",
     "output_type": "stream",
     "text": [
      "C:\\Users\\Student\\Desktop\\ML\\Udemy\\first_assignment\\env\\Lib\\site-packages\\sklearn\\svm\\_base.py:297: ConvergenceWarning: Solver terminated early (max_iter=500000).  Consider pre-processing your data with StandardScaler or MinMaxScaler.\n",
      "  warnings.warn(\n"
     ]
    },
    {
     "name": "stdout",
     "output_type": "stream",
     "text": [
      "[CV 1/4] END C=1, gamma=1000, kernel=linear, max_iter=500000;, score=(train=0.498, test=0.496) total time=   5.1s\n"
     ]
    },
    {
     "name": "stderr",
     "output_type": "stream",
     "text": [
      "C:\\Users\\Student\\Desktop\\ML\\Udemy\\first_assignment\\env\\Lib\\site-packages\\sklearn\\svm\\_base.py:297: ConvergenceWarning: Solver terminated early (max_iter=500000).  Consider pre-processing your data with StandardScaler or MinMaxScaler.\n",
      "  warnings.warn(\n"
     ]
    },
    {
     "name": "stdout",
     "output_type": "stream",
     "text": [
      "[CV 2/4] END C=1, gamma=1000, kernel=linear, max_iter=500000;, score=(train=0.518, test=0.525) total time=   4.7s\n"
     ]
    },
    {
     "name": "stderr",
     "output_type": "stream",
     "text": [
      "C:\\Users\\Student\\Desktop\\ML\\Udemy\\first_assignment\\env\\Lib\\site-packages\\sklearn\\svm\\_base.py:297: ConvergenceWarning: Solver terminated early (max_iter=500000).  Consider pre-processing your data with StandardScaler or MinMaxScaler.\n",
      "  warnings.warn(\n"
     ]
    },
    {
     "name": "stdout",
     "output_type": "stream",
     "text": [
      "[CV 3/4] END C=1, gamma=1000, kernel=linear, max_iter=500000;, score=(train=0.541, test=0.537) total time=   5.0s\n"
     ]
    },
    {
     "name": "stderr",
     "output_type": "stream",
     "text": [
      "C:\\Users\\Student\\Desktop\\ML\\Udemy\\first_assignment\\env\\Lib\\site-packages\\sklearn\\svm\\_base.py:297: ConvergenceWarning: Solver terminated early (max_iter=500000).  Consider pre-processing your data with StandardScaler or MinMaxScaler.\n",
      "  warnings.warn(\n"
     ]
    },
    {
     "name": "stdout",
     "output_type": "stream",
     "text": [
      "[CV 4/4] END C=1, gamma=1000, kernel=linear, max_iter=500000;, score=(train=0.544, test=0.530) total time=   4.4s\n",
      "[CV 1/4] END C=1, gamma=1000, kernel=rbf, max_iter=500000;, score=(train=1.000, test=0.502) total time=   1.1s\n",
      "[CV 2/4] END C=1, gamma=1000, kernel=rbf, max_iter=500000;, score=(train=1.000, test=0.501) total time=   0.9s\n",
      "[CV 3/4] END C=1, gamma=1000, kernel=rbf, max_iter=500000;, score=(train=1.000, test=0.501) total time=   0.9s\n",
      "[CV 4/4] END C=1, gamma=1000, kernel=rbf, max_iter=500000;, score=(train=1.000, test=0.501) total time=   0.8s\n",
      "[CV 1/4] END C=1, gamma=1000, kernel=sigmoid, max_iter=500000;, score=(train=0.502, test=0.502) total time=   0.2s\n",
      "[CV 2/4] END C=1, gamma=1000, kernel=sigmoid, max_iter=500000;, score=(train=0.502, test=0.502) total time=   0.2s\n",
      "[CV 3/4] END C=1, gamma=1000, kernel=sigmoid, max_iter=500000;, score=(train=0.502, test=0.502) total time=   0.2s\n",
      "[CV 4/4] END C=1, gamma=1000, kernel=sigmoid, max_iter=500000;, score=(train=0.527, test=0.540) total time=   0.1s\n"
     ]
    },
    {
     "name": "stderr",
     "output_type": "stream",
     "text": [
      "C:\\Users\\Student\\Desktop\\ML\\Udemy\\first_assignment\\env\\Lib\\site-packages\\sklearn\\svm\\_base.py:297: ConvergenceWarning: Solver terminated early (max_iter=500000).  Consider pre-processing your data with StandardScaler or MinMaxScaler.\n",
      "  warnings.warn(\n"
     ]
    },
    {
     "name": "stdout",
     "output_type": "stream",
     "text": [
      "[CV 1/4] END C=10, gamma=1, kernel=linear, max_iter=500000;, score=(train=0.515, test=0.515) total time=   3.8s\n"
     ]
    },
    {
     "name": "stderr",
     "output_type": "stream",
     "text": [
      "C:\\Users\\Student\\Desktop\\ML\\Udemy\\first_assignment\\env\\Lib\\site-packages\\sklearn\\svm\\_base.py:297: ConvergenceWarning: Solver terminated early (max_iter=500000).  Consider pre-processing your data with StandardScaler or MinMaxScaler.\n",
      "  warnings.warn(\n"
     ]
    },
    {
     "name": "stdout",
     "output_type": "stream",
     "text": [
      "[CV 2/4] END C=10, gamma=1, kernel=linear, max_iter=500000;, score=(train=0.525, test=0.507) total time=   4.5s\n"
     ]
    },
    {
     "name": "stderr",
     "output_type": "stream",
     "text": [
      "C:\\Users\\Student\\Desktop\\ML\\Udemy\\first_assignment\\env\\Lib\\site-packages\\sklearn\\svm\\_base.py:297: ConvergenceWarning: Solver terminated early (max_iter=500000).  Consider pre-processing your data with StandardScaler or MinMaxScaler.\n",
      "  warnings.warn(\n"
     ]
    },
    {
     "name": "stdout",
     "output_type": "stream",
     "text": [
      "[CV 3/4] END C=10, gamma=1, kernel=linear, max_iter=500000;, score=(train=0.544, test=0.531) total time=   3.8s\n"
     ]
    },
    {
     "name": "stderr",
     "output_type": "stream",
     "text": [
      "C:\\Users\\Student\\Desktop\\ML\\Udemy\\first_assignment\\env\\Lib\\site-packages\\sklearn\\svm\\_base.py:297: ConvergenceWarning: Solver terminated early (max_iter=500000).  Consider pre-processing your data with StandardScaler or MinMaxScaler.\n",
      "  warnings.warn(\n"
     ]
    },
    {
     "name": "stdout",
     "output_type": "stream",
     "text": [
      "[CV 4/4] END C=10, gamma=1, kernel=linear, max_iter=500000;, score=(train=0.520, test=0.546) total time=   3.9s\n",
      "[CV 1/4] END C=10, gamma=1, kernel=rbf, max_iter=500000;, score=(train=1.000, test=0.504) total time=   0.9s\n",
      "[CV 2/4] END C=10, gamma=1, kernel=rbf, max_iter=500000;, score=(train=1.000, test=0.497) total time=   0.8s\n",
      "[CV 3/4] END C=10, gamma=1, kernel=rbf, max_iter=500000;, score=(train=1.000, test=0.504) total time=   0.8s\n",
      "[CV 4/4] END C=10, gamma=1, kernel=rbf, max_iter=500000;, score=(train=1.000, test=0.505) total time=   0.9s\n",
      "[CV 1/4] END C=10, gamma=1, kernel=sigmoid, max_iter=500000;, score=(train=0.502, test=0.502) total time=   0.2s\n",
      "[CV 2/4] END C=10, gamma=1, kernel=sigmoid, max_iter=500000;, score=(train=0.525, test=0.539) total time=   0.0s\n",
      "[CV 3/4] END C=10, gamma=1, kernel=sigmoid, max_iter=500000;, score=(train=0.531, test=0.525) total time=   0.1s\n",
      "[CV 4/4] END C=10, gamma=1, kernel=sigmoid, max_iter=500000;, score=(train=0.521, test=0.551) total time=   0.1s\n"
     ]
    },
    {
     "name": "stderr",
     "output_type": "stream",
     "text": [
      "C:\\Users\\Student\\Desktop\\ML\\Udemy\\first_assignment\\env\\Lib\\site-packages\\sklearn\\svm\\_base.py:297: ConvergenceWarning: Solver terminated early (max_iter=500000).  Consider pre-processing your data with StandardScaler or MinMaxScaler.\n",
      "  warnings.warn(\n"
     ]
    },
    {
     "name": "stdout",
     "output_type": "stream",
     "text": [
      "[CV 1/4] END C=10, gamma=10, kernel=linear, max_iter=500000;, score=(train=0.515, test=0.515) total time=   4.0s\n"
     ]
    },
    {
     "name": "stderr",
     "output_type": "stream",
     "text": [
      "C:\\Users\\Student\\Desktop\\ML\\Udemy\\first_assignment\\env\\Lib\\site-packages\\sklearn\\svm\\_base.py:297: ConvergenceWarning: Solver terminated early (max_iter=500000).  Consider pre-processing your data with StandardScaler or MinMaxScaler.\n",
      "  warnings.warn(\n"
     ]
    },
    {
     "name": "stdout",
     "output_type": "stream",
     "text": [
      "[CV 2/4] END C=10, gamma=10, kernel=linear, max_iter=500000;, score=(train=0.525, test=0.507) total time=   4.1s\n"
     ]
    },
    {
     "name": "stderr",
     "output_type": "stream",
     "text": [
      "C:\\Users\\Student\\Desktop\\ML\\Udemy\\first_assignment\\env\\Lib\\site-packages\\sklearn\\svm\\_base.py:297: ConvergenceWarning: Solver terminated early (max_iter=500000).  Consider pre-processing your data with StandardScaler or MinMaxScaler.\n",
      "  warnings.warn(\n"
     ]
    },
    {
     "name": "stdout",
     "output_type": "stream",
     "text": [
      "[CV 3/4] END C=10, gamma=10, kernel=linear, max_iter=500000;, score=(train=0.544, test=0.531) total time=   3.9s\n"
     ]
    },
    {
     "name": "stderr",
     "output_type": "stream",
     "text": [
      "C:\\Users\\Student\\Desktop\\ML\\Udemy\\first_assignment\\env\\Lib\\site-packages\\sklearn\\svm\\_base.py:297: ConvergenceWarning: Solver terminated early (max_iter=500000).  Consider pre-processing your data with StandardScaler or MinMaxScaler.\n",
      "  warnings.warn(\n"
     ]
    },
    {
     "name": "stdout",
     "output_type": "stream",
     "text": [
      "[CV 4/4] END C=10, gamma=10, kernel=linear, max_iter=500000;, score=(train=0.520, test=0.546) total time=   3.7s\n",
      "[CV 1/4] END C=10, gamma=10, kernel=rbf, max_iter=500000;, score=(train=1.000, test=0.502) total time=   0.8s\n",
      "[CV 2/4] END C=10, gamma=10, kernel=rbf, max_iter=500000;, score=(train=1.000, test=0.501) total time=   0.8s\n",
      "[CV 3/4] END C=10, gamma=10, kernel=rbf, max_iter=500000;, score=(train=1.000, test=0.501) total time=   0.9s\n",
      "[CV 4/4] END C=10, gamma=10, kernel=rbf, max_iter=500000;, score=(train=1.000, test=0.501) total time=   0.9s\n",
      "[CV 1/4] END C=10, gamma=10, kernel=sigmoid, max_iter=500000;, score=(train=0.502, test=0.502) total time=   0.2s\n",
      "[CV 2/4] END C=10, gamma=10, kernel=sigmoid, max_iter=500000;, score=(train=0.502, test=0.502) total time=   0.2s\n",
      "[CV 3/4] END C=10, gamma=10, kernel=sigmoid, max_iter=500000;, score=(train=0.502, test=0.502) total time=   0.2s\n",
      "[CV 4/4] END C=10, gamma=10, kernel=sigmoid, max_iter=500000;, score=(train=0.527, test=0.541) total time=   0.0s\n"
     ]
    },
    {
     "name": "stderr",
     "output_type": "stream",
     "text": [
      "C:\\Users\\Student\\Desktop\\ML\\Udemy\\first_assignment\\env\\Lib\\site-packages\\sklearn\\svm\\_base.py:297: ConvergenceWarning: Solver terminated early (max_iter=500000).  Consider pre-processing your data with StandardScaler or MinMaxScaler.\n",
      "  warnings.warn(\n"
     ]
    },
    {
     "name": "stdout",
     "output_type": "stream",
     "text": [
      "[CV 1/4] END C=10, gamma=100, kernel=linear, max_iter=500000;, score=(train=0.515, test=0.515) total time=   3.9s\n"
     ]
    },
    {
     "name": "stderr",
     "output_type": "stream",
     "text": [
      "C:\\Users\\Student\\Desktop\\ML\\Udemy\\first_assignment\\env\\Lib\\site-packages\\sklearn\\svm\\_base.py:297: ConvergenceWarning: Solver terminated early (max_iter=500000).  Consider pre-processing your data with StandardScaler or MinMaxScaler.\n",
      "  warnings.warn(\n"
     ]
    },
    {
     "name": "stdout",
     "output_type": "stream",
     "text": [
      "[CV 2/4] END C=10, gamma=100, kernel=linear, max_iter=500000;, score=(train=0.525, test=0.507) total time=   4.6s\n"
     ]
    },
    {
     "name": "stderr",
     "output_type": "stream",
     "text": [
      "C:\\Users\\Student\\Desktop\\ML\\Udemy\\first_assignment\\env\\Lib\\site-packages\\sklearn\\svm\\_base.py:297: ConvergenceWarning: Solver terminated early (max_iter=500000).  Consider pre-processing your data with StandardScaler or MinMaxScaler.\n",
      "  warnings.warn(\n"
     ]
    },
    {
     "name": "stdout",
     "output_type": "stream",
     "text": [
      "[CV 3/4] END C=10, gamma=100, kernel=linear, max_iter=500000;, score=(train=0.544, test=0.531) total time=   4.2s\n"
     ]
    },
    {
     "name": "stderr",
     "output_type": "stream",
     "text": [
      "C:\\Users\\Student\\Desktop\\ML\\Udemy\\first_assignment\\env\\Lib\\site-packages\\sklearn\\svm\\_base.py:297: ConvergenceWarning: Solver terminated early (max_iter=500000).  Consider pre-processing your data with StandardScaler or MinMaxScaler.\n",
      "  warnings.warn(\n"
     ]
    },
    {
     "name": "stdout",
     "output_type": "stream",
     "text": [
      "[CV 4/4] END C=10, gamma=100, kernel=linear, max_iter=500000;, score=(train=0.520, test=0.546) total time=   3.6s\n",
      "[CV 1/4] END C=10, gamma=100, kernel=rbf, max_iter=500000;, score=(train=1.000, test=0.502) total time=   0.8s\n",
      "[CV 2/4] END C=10, gamma=100, kernel=rbf, max_iter=500000;, score=(train=1.000, test=0.501) total time=   0.8s\n",
      "[CV 3/4] END C=10, gamma=100, kernel=rbf, max_iter=500000;, score=(train=1.000, test=0.501) total time=   0.7s\n",
      "[CV 4/4] END C=10, gamma=100, kernel=rbf, max_iter=500000;, score=(train=1.000, test=0.501) total time=   0.9s\n",
      "[CV 1/4] END C=10, gamma=100, kernel=sigmoid, max_iter=500000;, score=(train=0.502, test=0.502) total time=   0.2s\n",
      "[CV 2/4] END C=10, gamma=100, kernel=sigmoid, max_iter=500000;, score=(train=0.502, test=0.502) total time=   0.2s\n",
      "[CV 3/4] END C=10, gamma=100, kernel=sigmoid, max_iter=500000;, score=(train=0.502, test=0.502) total time=   0.2s\n",
      "[CV 4/4] END C=10, gamma=100, kernel=sigmoid, max_iter=500000;, score=(train=0.527, test=0.540) total time=   0.1s\n"
     ]
    },
    {
     "name": "stderr",
     "output_type": "stream",
     "text": [
      "C:\\Users\\Student\\Desktop\\ML\\Udemy\\first_assignment\\env\\Lib\\site-packages\\sklearn\\svm\\_base.py:297: ConvergenceWarning: Solver terminated early (max_iter=500000).  Consider pre-processing your data with StandardScaler or MinMaxScaler.\n",
      "  warnings.warn(\n"
     ]
    },
    {
     "name": "stdout",
     "output_type": "stream",
     "text": [
      "[CV 1/4] END C=10, gamma=1000, kernel=linear, max_iter=500000;, score=(train=0.515, test=0.515) total time=   3.8s\n"
     ]
    },
    {
     "name": "stderr",
     "output_type": "stream",
     "text": [
      "C:\\Users\\Student\\Desktop\\ML\\Udemy\\first_assignment\\env\\Lib\\site-packages\\sklearn\\svm\\_base.py:297: ConvergenceWarning: Solver terminated early (max_iter=500000).  Consider pre-processing your data with StandardScaler or MinMaxScaler.\n",
      "  warnings.warn(\n"
     ]
    },
    {
     "name": "stdout",
     "output_type": "stream",
     "text": [
      "[CV 2/4] END C=10, gamma=1000, kernel=linear, max_iter=500000;, score=(train=0.525, test=0.507) total time=   4.5s\n"
     ]
    },
    {
     "name": "stderr",
     "output_type": "stream",
     "text": [
      "C:\\Users\\Student\\Desktop\\ML\\Udemy\\first_assignment\\env\\Lib\\site-packages\\sklearn\\svm\\_base.py:297: ConvergenceWarning: Solver terminated early (max_iter=500000).  Consider pre-processing your data with StandardScaler or MinMaxScaler.\n",
      "  warnings.warn(\n"
     ]
    },
    {
     "name": "stdout",
     "output_type": "stream",
     "text": [
      "[CV 3/4] END C=10, gamma=1000, kernel=linear, max_iter=500000;, score=(train=0.544, test=0.531) total time=   3.9s\n"
     ]
    },
    {
     "name": "stderr",
     "output_type": "stream",
     "text": [
      "C:\\Users\\Student\\Desktop\\ML\\Udemy\\first_assignment\\env\\Lib\\site-packages\\sklearn\\svm\\_base.py:297: ConvergenceWarning: Solver terminated early (max_iter=500000).  Consider pre-processing your data with StandardScaler or MinMaxScaler.\n",
      "  warnings.warn(\n"
     ]
    },
    {
     "name": "stdout",
     "output_type": "stream",
     "text": [
      "[CV 4/4] END C=10, gamma=1000, kernel=linear, max_iter=500000;, score=(train=0.520, test=0.546) total time=   4.3s\n",
      "[CV 1/4] END C=10, gamma=1000, kernel=rbf, max_iter=500000;, score=(train=1.000, test=0.502) total time=   0.8s\n",
      "[CV 2/4] END C=10, gamma=1000, kernel=rbf, max_iter=500000;, score=(train=1.000, test=0.501) total time=   0.8s\n",
      "[CV 3/4] END C=10, gamma=1000, kernel=rbf, max_iter=500000;, score=(train=1.000, test=0.501) total time=   0.8s\n",
      "[CV 4/4] END C=10, gamma=1000, kernel=rbf, max_iter=500000;, score=(train=1.000, test=0.501) total time=   0.8s\n",
      "[CV 1/4] END C=10, gamma=1000, kernel=sigmoid, max_iter=500000;, score=(train=0.502, test=0.502) total time=   0.2s\n",
      "[CV 2/4] END C=10, gamma=1000, kernel=sigmoid, max_iter=500000;, score=(train=0.502, test=0.502) total time=   0.2s\n",
      "[CV 3/4] END C=10, gamma=1000, kernel=sigmoid, max_iter=500000;, score=(train=0.502, test=0.502) total time=   0.2s\n",
      "[CV 4/4] END C=10, gamma=1000, kernel=sigmoid, max_iter=500000;, score=(train=0.527, test=0.540) total time=   0.1s\n"
     ]
    },
    {
     "name": "stderr",
     "output_type": "stream",
     "text": [
      "C:\\Users\\Student\\Desktop\\ML\\Udemy\\first_assignment\\env\\Lib\\site-packages\\sklearn\\svm\\_base.py:297: ConvergenceWarning: Solver terminated early (max_iter=500000).  Consider pre-processing your data with StandardScaler or MinMaxScaler.\n",
      "  warnings.warn(\n"
     ]
    },
    {
     "name": "stdout",
     "output_type": "stream",
     "text": [
      "[CV 1/4] END C=100, gamma=1, kernel=linear, max_iter=500000;, score=(train=0.556, test=0.544) total time=   4.1s\n"
     ]
    },
    {
     "name": "stderr",
     "output_type": "stream",
     "text": [
      "C:\\Users\\Student\\Desktop\\ML\\Udemy\\first_assignment\\env\\Lib\\site-packages\\sklearn\\svm\\_base.py:297: ConvergenceWarning: Solver terminated early (max_iter=500000).  Consider pre-processing your data with StandardScaler or MinMaxScaler.\n",
      "  warnings.warn(\n"
     ]
    },
    {
     "name": "stdout",
     "output_type": "stream",
     "text": [
      "[CV 2/4] END C=100, gamma=1, kernel=linear, max_iter=500000;, score=(train=0.524, test=0.504) total time=   3.8s\n"
     ]
    },
    {
     "name": "stderr",
     "output_type": "stream",
     "text": [
      "C:\\Users\\Student\\Desktop\\ML\\Udemy\\first_assignment\\env\\Lib\\site-packages\\sklearn\\svm\\_base.py:297: ConvergenceWarning: Solver terminated early (max_iter=500000).  Consider pre-processing your data with StandardScaler or MinMaxScaler.\n",
      "  warnings.warn(\n"
     ]
    },
    {
     "name": "stdout",
     "output_type": "stream",
     "text": [
      "[CV 3/4] END C=100, gamma=1, kernel=linear, max_iter=500000;, score=(train=0.504, test=0.520) total time=   4.4s\n"
     ]
    },
    {
     "name": "stderr",
     "output_type": "stream",
     "text": [
      "C:\\Users\\Student\\Desktop\\ML\\Udemy\\first_assignment\\env\\Lib\\site-packages\\sklearn\\svm\\_base.py:297: ConvergenceWarning: Solver terminated early (max_iter=500000).  Consider pre-processing your data with StandardScaler or MinMaxScaler.\n",
      "  warnings.warn(\n"
     ]
    },
    {
     "name": "stdout",
     "output_type": "stream",
     "text": [
      "[CV 4/4] END C=100, gamma=1, kernel=linear, max_iter=500000;, score=(train=0.514, test=0.517) total time=   5.4s\n",
      "[CV 1/4] END C=100, gamma=1, kernel=rbf, max_iter=500000;, score=(train=1.000, test=0.504) total time=   0.9s\n",
      "[CV 2/4] END C=100, gamma=1, kernel=rbf, max_iter=500000;, score=(train=1.000, test=0.497) total time=   0.9s\n",
      "[CV 3/4] END C=100, gamma=1, kernel=rbf, max_iter=500000;, score=(train=1.000, test=0.504) total time=   1.0s\n",
      "[CV 4/4] END C=100, gamma=1, kernel=rbf, max_iter=500000;, score=(train=1.000, test=0.505) total time=   0.8s\n",
      "[CV 1/4] END C=100, gamma=1, kernel=sigmoid, max_iter=500000;, score=(train=0.502, test=0.502) total time=   0.2s\n",
      "[CV 2/4] END C=100, gamma=1, kernel=sigmoid, max_iter=500000;, score=(train=0.525, test=0.540) total time=   0.0s\n",
      "[CV 3/4] END C=100, gamma=1, kernel=sigmoid, max_iter=500000;, score=(train=0.531, test=0.522) total time=   0.0s\n",
      "[CV 4/4] END C=100, gamma=1, kernel=sigmoid, max_iter=500000;, score=(train=0.521, test=0.552) total time=   0.1s\n"
     ]
    },
    {
     "name": "stderr",
     "output_type": "stream",
     "text": [
      "C:\\Users\\Student\\Desktop\\ML\\Udemy\\first_assignment\\env\\Lib\\site-packages\\sklearn\\svm\\_base.py:297: ConvergenceWarning: Solver terminated early (max_iter=500000).  Consider pre-processing your data with StandardScaler or MinMaxScaler.\n",
      "  warnings.warn(\n"
     ]
    },
    {
     "name": "stdout",
     "output_type": "stream",
     "text": [
      "[CV 1/4] END C=100, gamma=10, kernel=linear, max_iter=500000;, score=(train=0.556, test=0.544) total time=   4.2s\n"
     ]
    },
    {
     "name": "stderr",
     "output_type": "stream",
     "text": [
      "C:\\Users\\Student\\Desktop\\ML\\Udemy\\first_assignment\\env\\Lib\\site-packages\\sklearn\\svm\\_base.py:297: ConvergenceWarning: Solver terminated early (max_iter=500000).  Consider pre-processing your data with StandardScaler or MinMaxScaler.\n",
      "  warnings.warn(\n"
     ]
    },
    {
     "name": "stdout",
     "output_type": "stream",
     "text": [
      "[CV 2/4] END C=100, gamma=10, kernel=linear, max_iter=500000;, score=(train=0.524, test=0.504) total time=   4.8s\n"
     ]
    },
    {
     "name": "stderr",
     "output_type": "stream",
     "text": [
      "C:\\Users\\Student\\Desktop\\ML\\Udemy\\first_assignment\\env\\Lib\\site-packages\\sklearn\\svm\\_base.py:297: ConvergenceWarning: Solver terminated early (max_iter=500000).  Consider pre-processing your data with StandardScaler or MinMaxScaler.\n",
      "  warnings.warn(\n"
     ]
    },
    {
     "name": "stdout",
     "output_type": "stream",
     "text": [
      "[CV 3/4] END C=100, gamma=10, kernel=linear, max_iter=500000;, score=(train=0.504, test=0.520) total time=   4.5s\n"
     ]
    },
    {
     "name": "stderr",
     "output_type": "stream",
     "text": [
      "C:\\Users\\Student\\Desktop\\ML\\Udemy\\first_assignment\\env\\Lib\\site-packages\\sklearn\\svm\\_base.py:297: ConvergenceWarning: Solver terminated early (max_iter=500000).  Consider pre-processing your data with StandardScaler or MinMaxScaler.\n",
      "  warnings.warn(\n"
     ]
    },
    {
     "name": "stdout",
     "output_type": "stream",
     "text": [
      "[CV 4/4] END C=100, gamma=10, kernel=linear, max_iter=500000;, score=(train=0.514, test=0.517) total time=   4.1s\n",
      "[CV 1/4] END C=100, gamma=10, kernel=rbf, max_iter=500000;, score=(train=1.000, test=0.502) total time=   0.8s\n",
      "[CV 2/4] END C=100, gamma=10, kernel=rbf, max_iter=500000;, score=(train=1.000, test=0.501) total time=   0.8s\n",
      "[CV 3/4] END C=100, gamma=10, kernel=rbf, max_iter=500000;, score=(train=1.000, test=0.501) total time=   0.9s\n",
      "[CV 4/4] END C=100, gamma=10, kernel=rbf, max_iter=500000;, score=(train=1.000, test=0.501) total time=   0.8s\n",
      "[CV 1/4] END C=100, gamma=10, kernel=sigmoid, max_iter=500000;, score=(train=0.502, test=0.502) total time=   0.2s\n",
      "[CV 2/4] END C=100, gamma=10, kernel=sigmoid, max_iter=500000;, score=(train=0.502, test=0.502) total time=   0.2s\n",
      "[CV 3/4] END C=100, gamma=10, kernel=sigmoid, max_iter=500000;, score=(train=0.502, test=0.502) total time=   0.2s\n",
      "[CV 4/4] END C=100, gamma=10, kernel=sigmoid, max_iter=500000;, score=(train=0.526, test=0.541) total time=   0.0s\n"
     ]
    },
    {
     "name": "stderr",
     "output_type": "stream",
     "text": [
      "C:\\Users\\Student\\Desktop\\ML\\Udemy\\first_assignment\\env\\Lib\\site-packages\\sklearn\\svm\\_base.py:297: ConvergenceWarning: Solver terminated early (max_iter=500000).  Consider pre-processing your data with StandardScaler or MinMaxScaler.\n",
      "  warnings.warn(\n"
     ]
    },
    {
     "name": "stdout",
     "output_type": "stream",
     "text": [
      "[CV 1/4] END C=100, gamma=100, kernel=linear, max_iter=500000;, score=(train=0.556, test=0.544) total time=   4.0s\n"
     ]
    },
    {
     "name": "stderr",
     "output_type": "stream",
     "text": [
      "C:\\Users\\Student\\Desktop\\ML\\Udemy\\first_assignment\\env\\Lib\\site-packages\\sklearn\\svm\\_base.py:297: ConvergenceWarning: Solver terminated early (max_iter=500000).  Consider pre-processing your data with StandardScaler or MinMaxScaler.\n",
      "  warnings.warn(\n"
     ]
    },
    {
     "name": "stdout",
     "output_type": "stream",
     "text": [
      "[CV 2/4] END C=100, gamma=100, kernel=linear, max_iter=500000;, score=(train=0.524, test=0.504) total time=   3.8s\n"
     ]
    },
    {
     "name": "stderr",
     "output_type": "stream",
     "text": [
      "C:\\Users\\Student\\Desktop\\ML\\Udemy\\first_assignment\\env\\Lib\\site-packages\\sklearn\\svm\\_base.py:297: ConvergenceWarning: Solver terminated early (max_iter=500000).  Consider pre-processing your data with StandardScaler or MinMaxScaler.\n",
      "  warnings.warn(\n"
     ]
    },
    {
     "name": "stdout",
     "output_type": "stream",
     "text": [
      "[CV 3/4] END C=100, gamma=100, kernel=linear, max_iter=500000;, score=(train=0.504, test=0.520) total time=   4.3s\n"
     ]
    },
    {
     "name": "stderr",
     "output_type": "stream",
     "text": [
      "C:\\Users\\Student\\Desktop\\ML\\Udemy\\first_assignment\\env\\Lib\\site-packages\\sklearn\\svm\\_base.py:297: ConvergenceWarning: Solver terminated early (max_iter=500000).  Consider pre-processing your data with StandardScaler or MinMaxScaler.\n",
      "  warnings.warn(\n"
     ]
    },
    {
     "name": "stdout",
     "output_type": "stream",
     "text": [
      "[CV 4/4] END C=100, gamma=100, kernel=linear, max_iter=500000;, score=(train=0.514, test=0.517) total time=   4.2s\n",
      "[CV 1/4] END C=100, gamma=100, kernel=rbf, max_iter=500000;, score=(train=1.000, test=0.502) total time=   0.9s\n",
      "[CV 2/4] END C=100, gamma=100, kernel=rbf, max_iter=500000;, score=(train=1.000, test=0.501) total time=   0.8s\n",
      "[CV 3/4] END C=100, gamma=100, kernel=rbf, max_iter=500000;, score=(train=1.000, test=0.501) total time=   0.9s\n",
      "[CV 4/4] END C=100, gamma=100, kernel=rbf, max_iter=500000;, score=(train=1.000, test=0.501) total time=   0.8s\n",
      "[CV 1/4] END C=100, gamma=100, kernel=sigmoid, max_iter=500000;, score=(train=0.502, test=0.502) total time=   0.2s\n",
      "[CV 2/4] END C=100, gamma=100, kernel=sigmoid, max_iter=500000;, score=(train=0.502, test=0.502) total time=   0.2s\n",
      "[CV 3/4] END C=100, gamma=100, kernel=sigmoid, max_iter=500000;, score=(train=0.502, test=0.502) total time=   0.3s\n",
      "[CV 4/4] END C=100, gamma=100, kernel=sigmoid, max_iter=500000;, score=(train=0.527, test=0.540) total time=   0.0s\n"
     ]
    },
    {
     "name": "stderr",
     "output_type": "stream",
     "text": [
      "C:\\Users\\Student\\Desktop\\ML\\Udemy\\first_assignment\\env\\Lib\\site-packages\\sklearn\\svm\\_base.py:297: ConvergenceWarning: Solver terminated early (max_iter=500000).  Consider pre-processing your data with StandardScaler or MinMaxScaler.\n",
      "  warnings.warn(\n"
     ]
    },
    {
     "name": "stdout",
     "output_type": "stream",
     "text": [
      "[CV 1/4] END C=100, gamma=1000, kernel=linear, max_iter=500000;, score=(train=0.556, test=0.544) total time=   4.2s\n"
     ]
    },
    {
     "name": "stderr",
     "output_type": "stream",
     "text": [
      "C:\\Users\\Student\\Desktop\\ML\\Udemy\\first_assignment\\env\\Lib\\site-packages\\sklearn\\svm\\_base.py:297: ConvergenceWarning: Solver terminated early (max_iter=500000).  Consider pre-processing your data with StandardScaler or MinMaxScaler.\n",
      "  warnings.warn(\n"
     ]
    },
    {
     "name": "stdout",
     "output_type": "stream",
     "text": [
      "[CV 2/4] END C=100, gamma=1000, kernel=linear, max_iter=500000;, score=(train=0.524, test=0.504) total time=   4.0s\n"
     ]
    },
    {
     "name": "stderr",
     "output_type": "stream",
     "text": [
      "C:\\Users\\Student\\Desktop\\ML\\Udemy\\first_assignment\\env\\Lib\\site-packages\\sklearn\\svm\\_base.py:297: ConvergenceWarning: Solver terminated early (max_iter=500000).  Consider pre-processing your data with StandardScaler or MinMaxScaler.\n",
      "  warnings.warn(\n"
     ]
    },
    {
     "name": "stdout",
     "output_type": "stream",
     "text": [
      "[CV 3/4] END C=100, gamma=1000, kernel=linear, max_iter=500000;, score=(train=0.504, test=0.520) total time=   4.3s\n"
     ]
    },
    {
     "name": "stderr",
     "output_type": "stream",
     "text": [
      "C:\\Users\\Student\\Desktop\\ML\\Udemy\\first_assignment\\env\\Lib\\site-packages\\sklearn\\svm\\_base.py:297: ConvergenceWarning: Solver terminated early (max_iter=500000).  Consider pre-processing your data with StandardScaler or MinMaxScaler.\n",
      "  warnings.warn(\n"
     ]
    },
    {
     "name": "stdout",
     "output_type": "stream",
     "text": [
      "[CV 4/4] END C=100, gamma=1000, kernel=linear, max_iter=500000;, score=(train=0.514, test=0.517) total time=   4.3s\n",
      "[CV 1/4] END C=100, gamma=1000, kernel=rbf, max_iter=500000;, score=(train=1.000, test=0.502) total time=   0.8s\n",
      "[CV 2/4] END C=100, gamma=1000, kernel=rbf, max_iter=500000;, score=(train=1.000, test=0.501) total time=   0.8s\n",
      "[CV 3/4] END C=100, gamma=1000, kernel=rbf, max_iter=500000;, score=(train=1.000, test=0.501) total time=   0.8s\n",
      "[CV 4/4] END C=100, gamma=1000, kernel=rbf, max_iter=500000;, score=(train=1.000, test=0.501) total time=   0.9s\n",
      "[CV 1/4] END C=100, gamma=1000, kernel=sigmoid, max_iter=500000;, score=(train=0.502, test=0.502) total time=   0.3s\n",
      "[CV 2/4] END C=100, gamma=1000, kernel=sigmoid, max_iter=500000;, score=(train=0.502, test=0.502) total time=   0.2s\n",
      "[CV 3/4] END C=100, gamma=1000, kernel=sigmoid, max_iter=500000;, score=(train=0.502, test=0.502) total time=   0.2s\n",
      "[CV 4/4] END C=100, gamma=1000, kernel=sigmoid, max_iter=500000;, score=(train=0.527, test=0.540) total time=   0.0s\n"
     ]
    },
    {
     "name": "stderr",
     "output_type": "stream",
     "text": [
      "C:\\Users\\Student\\Desktop\\ML\\Udemy\\first_assignment\\env\\Lib\\site-packages\\sklearn\\svm\\_base.py:297: ConvergenceWarning: Solver terminated early (max_iter=500000).  Consider pre-processing your data with StandardScaler or MinMaxScaler.\n",
      "  warnings.warn(\n"
     ]
    },
    {
     "data": {
      "text/html": [
       "<style>#sk-container-id-1 {\n",
       "  /* Definition of color scheme common for light and dark mode */\n",
       "  --sklearn-color-text: black;\n",
       "  --sklearn-color-line: gray;\n",
       "  /* Definition of color scheme for unfitted estimators */\n",
       "  --sklearn-color-unfitted-level-0: #fff5e6;\n",
       "  --sklearn-color-unfitted-level-1: #f6e4d2;\n",
       "  --sklearn-color-unfitted-level-2: #ffe0b3;\n",
       "  --sklearn-color-unfitted-level-3: chocolate;\n",
       "  /* Definition of color scheme for fitted estimators */\n",
       "  --sklearn-color-fitted-level-0: #f0f8ff;\n",
       "  --sklearn-color-fitted-level-1: #d4ebff;\n",
       "  --sklearn-color-fitted-level-2: #b3dbfd;\n",
       "  --sklearn-color-fitted-level-3: cornflowerblue;\n",
       "\n",
       "  /* Specific color for light theme */\n",
       "  --sklearn-color-text-on-default-background: var(--sg-text-color, var(--theme-code-foreground, var(--jp-content-font-color1, black)));\n",
       "  --sklearn-color-background: var(--sg-background-color, var(--theme-background, var(--jp-layout-color0, white)));\n",
       "  --sklearn-color-border-box: var(--sg-text-color, var(--theme-code-foreground, var(--jp-content-font-color1, black)));\n",
       "  --sklearn-color-icon: #696969;\n",
       "\n",
       "  @media (prefers-color-scheme: dark) {\n",
       "    /* Redefinition of color scheme for dark theme */\n",
       "    --sklearn-color-text-on-default-background: var(--sg-text-color, var(--theme-code-foreground, var(--jp-content-font-color1, white)));\n",
       "    --sklearn-color-background: var(--sg-background-color, var(--theme-background, var(--jp-layout-color0, #111)));\n",
       "    --sklearn-color-border-box: var(--sg-text-color, var(--theme-code-foreground, var(--jp-content-font-color1, white)));\n",
       "    --sklearn-color-icon: #878787;\n",
       "  }\n",
       "}\n",
       "\n",
       "#sk-container-id-1 {\n",
       "  color: var(--sklearn-color-text);\n",
       "}\n",
       "\n",
       "#sk-container-id-1 pre {\n",
       "  padding: 0;\n",
       "}\n",
       "\n",
       "#sk-container-id-1 input.sk-hidden--visually {\n",
       "  border: 0;\n",
       "  clip: rect(1px 1px 1px 1px);\n",
       "  clip: rect(1px, 1px, 1px, 1px);\n",
       "  height: 1px;\n",
       "  margin: -1px;\n",
       "  overflow: hidden;\n",
       "  padding: 0;\n",
       "  position: absolute;\n",
       "  width: 1px;\n",
       "}\n",
       "\n",
       "#sk-container-id-1 div.sk-dashed-wrapped {\n",
       "  border: 1px dashed var(--sklearn-color-line);\n",
       "  margin: 0 0.4em 0.5em 0.4em;\n",
       "  box-sizing: border-box;\n",
       "  padding-bottom: 0.4em;\n",
       "  background-color: var(--sklearn-color-background);\n",
       "}\n",
       "\n",
       "#sk-container-id-1 div.sk-container {\n",
       "  /* jupyter's `normalize.less` sets `[hidden] { display: none; }`\n",
       "     but bootstrap.min.css set `[hidden] { display: none !important; }`\n",
       "     so we also need the `!important` here to be able to override the\n",
       "     default hidden behavior on the sphinx rendered scikit-learn.org.\n",
       "     See: https://github.com/scikit-learn/scikit-learn/issues/21755 */\n",
       "  display: inline-block !important;\n",
       "  position: relative;\n",
       "}\n",
       "\n",
       "#sk-container-id-1 div.sk-text-repr-fallback {\n",
       "  display: none;\n",
       "}\n",
       "\n",
       "div.sk-parallel-item,\n",
       "div.sk-serial,\n",
       "div.sk-item {\n",
       "  /* draw centered vertical line to link estimators */\n",
       "  background-image: linear-gradient(var(--sklearn-color-text-on-default-background), var(--sklearn-color-text-on-default-background));\n",
       "  background-size: 2px 100%;\n",
       "  background-repeat: no-repeat;\n",
       "  background-position: center center;\n",
       "}\n",
       "\n",
       "/* Parallel-specific style estimator block */\n",
       "\n",
       "#sk-container-id-1 div.sk-parallel-item::after {\n",
       "  content: \"\";\n",
       "  width: 100%;\n",
       "  border-bottom: 2px solid var(--sklearn-color-text-on-default-background);\n",
       "  flex-grow: 1;\n",
       "}\n",
       "\n",
       "#sk-container-id-1 div.sk-parallel {\n",
       "  display: flex;\n",
       "  align-items: stretch;\n",
       "  justify-content: center;\n",
       "  background-color: var(--sklearn-color-background);\n",
       "  position: relative;\n",
       "}\n",
       "\n",
       "#sk-container-id-1 div.sk-parallel-item {\n",
       "  display: flex;\n",
       "  flex-direction: column;\n",
       "}\n",
       "\n",
       "#sk-container-id-1 div.sk-parallel-item:first-child::after {\n",
       "  align-self: flex-end;\n",
       "  width: 50%;\n",
       "}\n",
       "\n",
       "#sk-container-id-1 div.sk-parallel-item:last-child::after {\n",
       "  align-self: flex-start;\n",
       "  width: 50%;\n",
       "}\n",
       "\n",
       "#sk-container-id-1 div.sk-parallel-item:only-child::after {\n",
       "  width: 0;\n",
       "}\n",
       "\n",
       "/* Serial-specific style estimator block */\n",
       "\n",
       "#sk-container-id-1 div.sk-serial {\n",
       "  display: flex;\n",
       "  flex-direction: column;\n",
       "  align-items: center;\n",
       "  background-color: var(--sklearn-color-background);\n",
       "  padding-right: 1em;\n",
       "  padding-left: 1em;\n",
       "}\n",
       "\n",
       "\n",
       "/* Toggleable style: style used for estimator/Pipeline/ColumnTransformer box that is\n",
       "clickable and can be expanded/collapsed.\n",
       "- Pipeline and ColumnTransformer use this feature and define the default style\n",
       "- Estimators will overwrite some part of the style using the `sk-estimator` class\n",
       "*/\n",
       "\n",
       "/* Pipeline and ColumnTransformer style (default) */\n",
       "\n",
       "#sk-container-id-1 div.sk-toggleable {\n",
       "  /* Default theme specific background. It is overwritten whether we have a\n",
       "  specific estimator or a Pipeline/ColumnTransformer */\n",
       "  background-color: var(--sklearn-color-background);\n",
       "}\n",
       "\n",
       "/* Toggleable label */\n",
       "#sk-container-id-1 label.sk-toggleable__label {\n",
       "  cursor: pointer;\n",
       "  display: block;\n",
       "  width: 100%;\n",
       "  margin-bottom: 0;\n",
       "  padding: 0.5em;\n",
       "  box-sizing: border-box;\n",
       "  text-align: center;\n",
       "}\n",
       "\n",
       "#sk-container-id-1 label.sk-toggleable__label-arrow:before {\n",
       "  /* Arrow on the left of the label */\n",
       "  content: \"▸\";\n",
       "  float: left;\n",
       "  margin-right: 0.25em;\n",
       "  color: var(--sklearn-color-icon);\n",
       "}\n",
       "\n",
       "#sk-container-id-1 label.sk-toggleable__label-arrow:hover:before {\n",
       "  color: var(--sklearn-color-text);\n",
       "}\n",
       "\n",
       "/* Toggleable content - dropdown */\n",
       "\n",
       "#sk-container-id-1 div.sk-toggleable__content {\n",
       "  max-height: 0;\n",
       "  max-width: 0;\n",
       "  overflow: hidden;\n",
       "  text-align: left;\n",
       "  /* unfitted */\n",
       "  background-color: var(--sklearn-color-unfitted-level-0);\n",
       "}\n",
       "\n",
       "#sk-container-id-1 div.sk-toggleable__content.fitted {\n",
       "  /* fitted */\n",
       "  background-color: var(--sklearn-color-fitted-level-0);\n",
       "}\n",
       "\n",
       "#sk-container-id-1 div.sk-toggleable__content pre {\n",
       "  margin: 0.2em;\n",
       "  border-radius: 0.25em;\n",
       "  color: var(--sklearn-color-text);\n",
       "  /* unfitted */\n",
       "  background-color: var(--sklearn-color-unfitted-level-0);\n",
       "}\n",
       "\n",
       "#sk-container-id-1 div.sk-toggleable__content.fitted pre {\n",
       "  /* unfitted */\n",
       "  background-color: var(--sklearn-color-fitted-level-0);\n",
       "}\n",
       "\n",
       "#sk-container-id-1 input.sk-toggleable__control:checked~div.sk-toggleable__content {\n",
       "  /* Expand drop-down */\n",
       "  max-height: 200px;\n",
       "  max-width: 100%;\n",
       "  overflow: auto;\n",
       "}\n",
       "\n",
       "#sk-container-id-1 input.sk-toggleable__control:checked~label.sk-toggleable__label-arrow:before {\n",
       "  content: \"▾\";\n",
       "}\n",
       "\n",
       "/* Pipeline/ColumnTransformer-specific style */\n",
       "\n",
       "#sk-container-id-1 div.sk-label input.sk-toggleable__control:checked~label.sk-toggleable__label {\n",
       "  color: var(--sklearn-color-text);\n",
       "  background-color: var(--sklearn-color-unfitted-level-2);\n",
       "}\n",
       "\n",
       "#sk-container-id-1 div.sk-label.fitted input.sk-toggleable__control:checked~label.sk-toggleable__label {\n",
       "  background-color: var(--sklearn-color-fitted-level-2);\n",
       "}\n",
       "\n",
       "/* Estimator-specific style */\n",
       "\n",
       "/* Colorize estimator box */\n",
       "#sk-container-id-1 div.sk-estimator input.sk-toggleable__control:checked~label.sk-toggleable__label {\n",
       "  /* unfitted */\n",
       "  background-color: var(--sklearn-color-unfitted-level-2);\n",
       "}\n",
       "\n",
       "#sk-container-id-1 div.sk-estimator.fitted input.sk-toggleable__control:checked~label.sk-toggleable__label {\n",
       "  /* fitted */\n",
       "  background-color: var(--sklearn-color-fitted-level-2);\n",
       "}\n",
       "\n",
       "#sk-container-id-1 div.sk-label label.sk-toggleable__label,\n",
       "#sk-container-id-1 div.sk-label label {\n",
       "  /* The background is the default theme color */\n",
       "  color: var(--sklearn-color-text-on-default-background);\n",
       "}\n",
       "\n",
       "/* On hover, darken the color of the background */\n",
       "#sk-container-id-1 div.sk-label:hover label.sk-toggleable__label {\n",
       "  color: var(--sklearn-color-text);\n",
       "  background-color: var(--sklearn-color-unfitted-level-2);\n",
       "}\n",
       "\n",
       "/* Label box, darken color on hover, fitted */\n",
       "#sk-container-id-1 div.sk-label.fitted:hover label.sk-toggleable__label.fitted {\n",
       "  color: var(--sklearn-color-text);\n",
       "  background-color: var(--sklearn-color-fitted-level-2);\n",
       "}\n",
       "\n",
       "/* Estimator label */\n",
       "\n",
       "#sk-container-id-1 div.sk-label label {\n",
       "  font-family: monospace;\n",
       "  font-weight: bold;\n",
       "  display: inline-block;\n",
       "  line-height: 1.2em;\n",
       "}\n",
       "\n",
       "#sk-container-id-1 div.sk-label-container {\n",
       "  text-align: center;\n",
       "}\n",
       "\n",
       "/* Estimator-specific */\n",
       "#sk-container-id-1 div.sk-estimator {\n",
       "  font-family: monospace;\n",
       "  border: 1px dotted var(--sklearn-color-border-box);\n",
       "  border-radius: 0.25em;\n",
       "  box-sizing: border-box;\n",
       "  margin-bottom: 0.5em;\n",
       "  /* unfitted */\n",
       "  background-color: var(--sklearn-color-unfitted-level-0);\n",
       "}\n",
       "\n",
       "#sk-container-id-1 div.sk-estimator.fitted {\n",
       "  /* fitted */\n",
       "  background-color: var(--sklearn-color-fitted-level-0);\n",
       "}\n",
       "\n",
       "/* on hover */\n",
       "#sk-container-id-1 div.sk-estimator:hover {\n",
       "  /* unfitted */\n",
       "  background-color: var(--sklearn-color-unfitted-level-2);\n",
       "}\n",
       "\n",
       "#sk-container-id-1 div.sk-estimator.fitted:hover {\n",
       "  /* fitted */\n",
       "  background-color: var(--sklearn-color-fitted-level-2);\n",
       "}\n",
       "\n",
       "/* Specification for estimator info (e.g. \"i\" and \"?\") */\n",
       "\n",
       "/* Common style for \"i\" and \"?\" */\n",
       "\n",
       ".sk-estimator-doc-link,\n",
       "a:link.sk-estimator-doc-link,\n",
       "a:visited.sk-estimator-doc-link {\n",
       "  float: right;\n",
       "  font-size: smaller;\n",
       "  line-height: 1em;\n",
       "  font-family: monospace;\n",
       "  background-color: var(--sklearn-color-background);\n",
       "  border-radius: 1em;\n",
       "  height: 1em;\n",
       "  width: 1em;\n",
       "  text-decoration: none !important;\n",
       "  margin-left: 1ex;\n",
       "  /* unfitted */\n",
       "  border: var(--sklearn-color-unfitted-level-1) 1pt solid;\n",
       "  color: var(--sklearn-color-unfitted-level-1);\n",
       "}\n",
       "\n",
       ".sk-estimator-doc-link.fitted,\n",
       "a:link.sk-estimator-doc-link.fitted,\n",
       "a:visited.sk-estimator-doc-link.fitted {\n",
       "  /* fitted */\n",
       "  border: var(--sklearn-color-fitted-level-1) 1pt solid;\n",
       "  color: var(--sklearn-color-fitted-level-1);\n",
       "}\n",
       "\n",
       "/* On hover */\n",
       "div.sk-estimator:hover .sk-estimator-doc-link:hover,\n",
       ".sk-estimator-doc-link:hover,\n",
       "div.sk-label-container:hover .sk-estimator-doc-link:hover,\n",
       ".sk-estimator-doc-link:hover {\n",
       "  /* unfitted */\n",
       "  background-color: var(--sklearn-color-unfitted-level-3);\n",
       "  color: var(--sklearn-color-background);\n",
       "  text-decoration: none;\n",
       "}\n",
       "\n",
       "div.sk-estimator.fitted:hover .sk-estimator-doc-link.fitted:hover,\n",
       ".sk-estimator-doc-link.fitted:hover,\n",
       "div.sk-label-container:hover .sk-estimator-doc-link.fitted:hover,\n",
       ".sk-estimator-doc-link.fitted:hover {\n",
       "  /* fitted */\n",
       "  background-color: var(--sklearn-color-fitted-level-3);\n",
       "  color: var(--sklearn-color-background);\n",
       "  text-decoration: none;\n",
       "}\n",
       "\n",
       "/* Span, style for the box shown on hovering the info icon */\n",
       ".sk-estimator-doc-link span {\n",
       "  display: none;\n",
       "  z-index: 9999;\n",
       "  position: relative;\n",
       "  font-weight: normal;\n",
       "  right: .2ex;\n",
       "  padding: .5ex;\n",
       "  margin: .5ex;\n",
       "  width: min-content;\n",
       "  min-width: 20ex;\n",
       "  max-width: 50ex;\n",
       "  color: var(--sklearn-color-text);\n",
       "  box-shadow: 2pt 2pt 4pt #999;\n",
       "  /* unfitted */\n",
       "  background: var(--sklearn-color-unfitted-level-0);\n",
       "  border: .5pt solid var(--sklearn-color-unfitted-level-3);\n",
       "}\n",
       "\n",
       ".sk-estimator-doc-link.fitted span {\n",
       "  /* fitted */\n",
       "  background: var(--sklearn-color-fitted-level-0);\n",
       "  border: var(--sklearn-color-fitted-level-3);\n",
       "}\n",
       "\n",
       ".sk-estimator-doc-link:hover span {\n",
       "  display: block;\n",
       "}\n",
       "\n",
       "/* \"?\"-specific style due to the `<a>` HTML tag */\n",
       "\n",
       "#sk-container-id-1 a.estimator_doc_link {\n",
       "  float: right;\n",
       "  font-size: 1rem;\n",
       "  line-height: 1em;\n",
       "  font-family: monospace;\n",
       "  background-color: var(--sklearn-color-background);\n",
       "  border-radius: 1rem;\n",
       "  height: 1rem;\n",
       "  width: 1rem;\n",
       "  text-decoration: none;\n",
       "  /* unfitted */\n",
       "  color: var(--sklearn-color-unfitted-level-1);\n",
       "  border: var(--sklearn-color-unfitted-level-1) 1pt solid;\n",
       "}\n",
       "\n",
       "#sk-container-id-1 a.estimator_doc_link.fitted {\n",
       "  /* fitted */\n",
       "  border: var(--sklearn-color-fitted-level-1) 1pt solid;\n",
       "  color: var(--sklearn-color-fitted-level-1);\n",
       "}\n",
       "\n",
       "/* On hover */\n",
       "#sk-container-id-1 a.estimator_doc_link:hover {\n",
       "  /* unfitted */\n",
       "  background-color: var(--sklearn-color-unfitted-level-3);\n",
       "  color: var(--sklearn-color-background);\n",
       "  text-decoration: none;\n",
       "}\n",
       "\n",
       "#sk-container-id-1 a.estimator_doc_link.fitted:hover {\n",
       "  /* fitted */\n",
       "  background-color: var(--sklearn-color-fitted-level-3);\n",
       "}\n",
       "</style><div id=\"sk-container-id-1\" class=\"sk-top-container\"><div class=\"sk-text-repr-fallback\"><pre>GridSearchCV(cv=4, estimator=SVC(C=1000, degree=14, max_iter=10000),\n",
       "             param_grid={&#x27;C&#x27;: [0.1, 1, 10, 100], &#x27;gamma&#x27;: [1, 10, 100, 1000],\n",
       "                         &#x27;kernel&#x27;: [&#x27;linear&#x27;, &#x27;rbf&#x27;, &#x27;sigmoid&#x27;],\n",
       "                         &#x27;max_iter&#x27;: [500000]},\n",
       "             return_train_score=True, verbose=5)</pre><b>In a Jupyter environment, please rerun this cell to show the HTML representation or trust the notebook. <br />On GitHub, the HTML representation is unable to render, please try loading this page with nbviewer.org.</b></div><div class=\"sk-container\" hidden><div class=\"sk-item sk-dashed-wrapped\"><div class=\"sk-label-container\"><div class=\"sk-label fitted sk-toggleable\"><input class=\"sk-toggleable__control sk-hidden--visually\" id=\"sk-estimator-id-1\" type=\"checkbox\" ><label for=\"sk-estimator-id-1\" class=\"sk-toggleable__label fitted sk-toggleable__label-arrow fitted\">&nbsp;&nbsp;GridSearchCV<a class=\"sk-estimator-doc-link fitted\" rel=\"noreferrer\" target=\"_blank\" href=\"https://scikit-learn.org/1.4/modules/generated/sklearn.model_selection.GridSearchCV.html\">?<span>Documentation for GridSearchCV</span></a><span class=\"sk-estimator-doc-link fitted\">i<span>Fitted</span></span></label><div class=\"sk-toggleable__content fitted\"><pre>GridSearchCV(cv=4, estimator=SVC(C=1000, degree=14, max_iter=10000),\n",
       "             param_grid={&#x27;C&#x27;: [0.1, 1, 10, 100], &#x27;gamma&#x27;: [1, 10, 100, 1000],\n",
       "                         &#x27;kernel&#x27;: [&#x27;linear&#x27;, &#x27;rbf&#x27;, &#x27;sigmoid&#x27;],\n",
       "                         &#x27;max_iter&#x27;: [500000]},\n",
       "             return_train_score=True, verbose=5)</pre></div> </div></div><div class=\"sk-parallel\"><div class=\"sk-parallel-item\"><div class=\"sk-item\"><div class=\"sk-label-container\"><div class=\"sk-label fitted sk-toggleable\"><input class=\"sk-toggleable__control sk-hidden--visually\" id=\"sk-estimator-id-2\" type=\"checkbox\" ><label for=\"sk-estimator-id-2\" class=\"sk-toggleable__label fitted sk-toggleable__label-arrow fitted\">estimator: SVC</label><div class=\"sk-toggleable__content fitted\"><pre>SVC(C=1000, degree=14, max_iter=10000)</pre></div> </div></div><div class=\"sk-serial\"><div class=\"sk-item\"><div class=\"sk-estimator fitted sk-toggleable\"><input class=\"sk-toggleable__control sk-hidden--visually\" id=\"sk-estimator-id-3\" type=\"checkbox\" ><label for=\"sk-estimator-id-3\" class=\"sk-toggleable__label fitted sk-toggleable__label-arrow fitted\">&nbsp;SVC<a class=\"sk-estimator-doc-link fitted\" rel=\"noreferrer\" target=\"_blank\" href=\"https://scikit-learn.org/1.4/modules/generated/sklearn.svm.SVC.html\">?<span>Documentation for SVC</span></a></label><div class=\"sk-toggleable__content fitted\"><pre>SVC(C=1000, degree=14, max_iter=10000)</pre></div> </div></div></div></div></div></div></div></div></div>"
      ],
      "text/plain": [
       "GridSearchCV(cv=4, estimator=SVC(C=1000, degree=14, max_iter=10000),\n",
       "             param_grid={'C': [0.1, 1, 10, 100], 'gamma': [1, 10, 100, 1000],\n",
       "                         'kernel': ['linear', 'rbf', 'sigmoid'],\n",
       "                         'max_iter': [500000]},\n",
       "             return_train_score=True, verbose=5)"
      ]
     },
     "execution_count": 23,
     "metadata": {},
     "output_type": "execute_result"
    }
   ],
   "source": [
    "grid_search.fit(X1_train,y1_train)"
   ]
  },
  {
   "cell_type": "code",
   "execution_count": 24,
   "id": "4ca7a1a3-1895-42eb-8225-05c782c86220",
   "metadata": {},
   "outputs": [],
   "source": [
    "res = grid_search.cv_results_\n"
   ]
  },
  {
   "cell_type": "code",
   "execution_count": 25,
   "id": "fb0dd580-cd0a-480b-a592-8293cf2eb690",
   "metadata": {},
   "outputs": [
    {
     "data": {
      "text/plain": [
       "{'mean_fit_time': array([4.46780115, 0.60518956, 0.30362457, 4.51947778, 0.62968242,\n",
       "        0.27685452, 4.28370982, 0.66696519, 0.27343637, 4.4559325 ,\n",
       "        0.59261513, 0.22510731, 4.55851299, 0.63841903, 0.18837845,\n",
       "        4.75558376, 0.585886  , 0.18783343, 4.89660156, 0.64618784,\n",
       "        0.20663327, 4.87906337, 0.60669774, 0.2029801 , 4.06718296,\n",
       "        0.58618033, 0.13932329, 4.00268412, 0.5968501 , 0.20793003,\n",
       "        4.16249686, 0.57821614, 0.22037166, 4.20290411, 0.56082886,\n",
       "        0.19438887, 4.49526411, 0.62328482, 0.13404667, 4.48448789,\n",
       "        0.54792422, 0.1960066 , 4.17248744, 0.58820373, 0.22706306,\n",
       "        4.286744  , 0.56958258, 0.20868677]),\n",
       " 'std_fit_time': array([0.39972278, 0.03437528, 0.02718335, 0.24529199, 0.04644606,\n",
       "        0.02194327, 0.38687477, 0.03460837, 0.03392429, 0.26119117,\n",
       "        0.06593251, 0.01516947, 0.21265188, 0.05994059, 0.07246316,\n",
       "        0.09735218, 0.0219013 , 0.03802064, 0.33135512, 0.07052088,\n",
       "        0.06326892, 0.28310236, 0.04708579, 0.05426018, 0.28383701,\n",
       "        0.03025004, 0.04267231, 0.15463994, 0.04210898, 0.05486431,\n",
       "        0.36311455, 0.07290346, 0.05277264, 0.28364783, 0.01265219,\n",
       "        0.04117106, 0.58459893, 0.04669538, 0.05391183, 0.25314565,\n",
       "        0.03201925, 0.04972362, 0.20432039, 0.02683507, 0.07130661,\n",
       "        0.12475162, 0.01751403, 0.0703614 ]),\n",
       " 'mean_score_time': array([0.03773129, 0.34583819, 0.08072293, 0.03902918, 0.3852542 ,\n",
       "        0.0857718 , 0.03174835, 0.42114955, 0.07980877, 0.03498626,\n",
       "        0.39647388, 0.07515001, 0.02671403, 0.3939833 , 0.05942255,\n",
       "        0.02486974, 0.38069755, 0.06497228, 0.02426547, 0.43571287,\n",
       "        0.06638151, 0.02709675, 0.401465  , 0.0601387 , 0.02590078,\n",
       "        0.35607463, 0.04562867, 0.02261353, 0.36677212, 0.06940508,\n",
       "        0.02751482, 0.35092282, 0.07275087, 0.02288306, 0.36275029,\n",
       "        0.0612129 , 0.01925492, 0.36297166, 0.04912132, 0.01922423,\n",
       "        0.35976905, 0.05884862, 0.02075052, 0.36724257, 0.07642472,\n",
       "        0.0176369 , 0.36786813, 0.06728983]),\n",
       " 'std_score_time': array([0.00840729, 0.049049  , 0.01065729, 0.00414706, 0.03193257,\n",
       "        0.0047722 , 0.00511752, 0.0348778 , 0.00321045, 0.00624976,\n",
       "        0.0100961 , 0.01111006, 0.00812781, 0.02196376, 0.01112657,\n",
       "        0.00442156, 0.04233438, 0.01100464, 0.00510578, 0.03575875,\n",
       "        0.0250442 , 0.00617553, 0.06013775, 0.01242319, 0.00409604,\n",
       "        0.02168871, 0.01126678, 0.0065167 , 0.01166106, 0.02218151,\n",
       "        0.00476198, 0.02174167, 0.01708956, 0.0065198 , 0.02272887,\n",
       "        0.0113694 , 0.00256964, 0.03651365, 0.02423714, 0.00445949,\n",
       "        0.02592287, 0.0150873 , 0.00540271, 0.0326936 , 0.02605511,\n",
       "        0.00298463, 0.03556869, 0.02180824]),\n",
       " 'param_C': masked_array(data=[0.1, 0.1, 0.1, 0.1, 0.1, 0.1, 0.1, 0.1, 0.1, 0.1, 0.1,\n",
       "                    0.1, 1, 1, 1, 1, 1, 1, 1, 1, 1, 1, 1, 1, 10, 10, 10,\n",
       "                    10, 10, 10, 10, 10, 10, 10, 10, 10, 100, 100, 100, 100,\n",
       "                    100, 100, 100, 100, 100, 100, 100, 100],\n",
       "              mask=[False, False, False, False, False, False, False, False,\n",
       "                    False, False, False, False, False, False, False, False,\n",
       "                    False, False, False, False, False, False, False, False,\n",
       "                    False, False, False, False, False, False, False, False,\n",
       "                    False, False, False, False, False, False, False, False,\n",
       "                    False, False, False, False, False, False, False, False],\n",
       "        fill_value='?',\n",
       "             dtype=object),\n",
       " 'param_gamma': masked_array(data=[1, 1, 1, 10, 10, 10, 100, 100, 100, 1000, 1000, 1000,\n",
       "                    1, 1, 1, 10, 10, 10, 100, 100, 100, 1000, 1000, 1000,\n",
       "                    1, 1, 1, 10, 10, 10, 100, 100, 100, 1000, 1000, 1000,\n",
       "                    1, 1, 1, 10, 10, 10, 100, 100, 100, 1000, 1000, 1000],\n",
       "              mask=[False, False, False, False, False, False, False, False,\n",
       "                    False, False, False, False, False, False, False, False,\n",
       "                    False, False, False, False, False, False, False, False,\n",
       "                    False, False, False, False, False, False, False, False,\n",
       "                    False, False, False, False, False, False, False, False,\n",
       "                    False, False, False, False, False, False, False, False],\n",
       "        fill_value='?',\n",
       "             dtype=object),\n",
       " 'param_kernel': masked_array(data=['linear', 'rbf', 'sigmoid', 'linear', 'rbf', 'sigmoid',\n",
       "                    'linear', 'rbf', 'sigmoid', 'linear', 'rbf', 'sigmoid',\n",
       "                    'linear', 'rbf', 'sigmoid', 'linear', 'rbf', 'sigmoid',\n",
       "                    'linear', 'rbf', 'sigmoid', 'linear', 'rbf', 'sigmoid',\n",
       "                    'linear', 'rbf', 'sigmoid', 'linear', 'rbf', 'sigmoid',\n",
       "                    'linear', 'rbf', 'sigmoid', 'linear', 'rbf', 'sigmoid',\n",
       "                    'linear', 'rbf', 'sigmoid', 'linear', 'rbf', 'sigmoid',\n",
       "                    'linear', 'rbf', 'sigmoid', 'linear', 'rbf', 'sigmoid'],\n",
       "              mask=[False, False, False, False, False, False, False, False,\n",
       "                    False, False, False, False, False, False, False, False,\n",
       "                    False, False, False, False, False, False, False, False,\n",
       "                    False, False, False, False, False, False, False, False,\n",
       "                    False, False, False, False, False, False, False, False,\n",
       "                    False, False, False, False, False, False, False, False],\n",
       "        fill_value='?',\n",
       "             dtype=object),\n",
       " 'param_max_iter': masked_array(data=[500000, 500000, 500000, 500000, 500000, 500000, 500000,\n",
       "                    500000, 500000, 500000, 500000, 500000, 500000, 500000,\n",
       "                    500000, 500000, 500000, 500000, 500000, 500000, 500000,\n",
       "                    500000, 500000, 500000, 500000, 500000, 500000, 500000,\n",
       "                    500000, 500000, 500000, 500000, 500000, 500000, 500000,\n",
       "                    500000, 500000, 500000, 500000, 500000, 500000, 500000,\n",
       "                    500000, 500000, 500000, 500000, 500000, 500000],\n",
       "              mask=[False, False, False, False, False, False, False, False,\n",
       "                    False, False, False, False, False, False, False, False,\n",
       "                    False, False, False, False, False, False, False, False,\n",
       "                    False, False, False, False, False, False, False, False,\n",
       "                    False, False, False, False, False, False, False, False,\n",
       "                    False, False, False, False, False, False, False, False],\n",
       "        fill_value='?',\n",
       "             dtype=object),\n",
       " 'params': [{'C': 0.1, 'gamma': 1, 'kernel': 'linear', 'max_iter': 500000},\n",
       "  {'C': 0.1, 'gamma': 1, 'kernel': 'rbf', 'max_iter': 500000},\n",
       "  {'C': 0.1, 'gamma': 1, 'kernel': 'sigmoid', 'max_iter': 500000},\n",
       "  {'C': 0.1, 'gamma': 10, 'kernel': 'linear', 'max_iter': 500000},\n",
       "  {'C': 0.1, 'gamma': 10, 'kernel': 'rbf', 'max_iter': 500000},\n",
       "  {'C': 0.1, 'gamma': 10, 'kernel': 'sigmoid', 'max_iter': 500000},\n",
       "  {'C': 0.1, 'gamma': 100, 'kernel': 'linear', 'max_iter': 500000},\n",
       "  {'C': 0.1, 'gamma': 100, 'kernel': 'rbf', 'max_iter': 500000},\n",
       "  {'C': 0.1, 'gamma': 100, 'kernel': 'sigmoid', 'max_iter': 500000},\n",
       "  {'C': 0.1, 'gamma': 1000, 'kernel': 'linear', 'max_iter': 500000},\n",
       "  {'C': 0.1, 'gamma': 1000, 'kernel': 'rbf', 'max_iter': 500000},\n",
       "  {'C': 0.1, 'gamma': 1000, 'kernel': 'sigmoid', 'max_iter': 500000},\n",
       "  {'C': 1, 'gamma': 1, 'kernel': 'linear', 'max_iter': 500000},\n",
       "  {'C': 1, 'gamma': 1, 'kernel': 'rbf', 'max_iter': 500000},\n",
       "  {'C': 1, 'gamma': 1, 'kernel': 'sigmoid', 'max_iter': 500000},\n",
       "  {'C': 1, 'gamma': 10, 'kernel': 'linear', 'max_iter': 500000},\n",
       "  {'C': 1, 'gamma': 10, 'kernel': 'rbf', 'max_iter': 500000},\n",
       "  {'C': 1, 'gamma': 10, 'kernel': 'sigmoid', 'max_iter': 500000},\n",
       "  {'C': 1, 'gamma': 100, 'kernel': 'linear', 'max_iter': 500000},\n",
       "  {'C': 1, 'gamma': 100, 'kernel': 'rbf', 'max_iter': 500000},\n",
       "  {'C': 1, 'gamma': 100, 'kernel': 'sigmoid', 'max_iter': 500000},\n",
       "  {'C': 1, 'gamma': 1000, 'kernel': 'linear', 'max_iter': 500000},\n",
       "  {'C': 1, 'gamma': 1000, 'kernel': 'rbf', 'max_iter': 500000},\n",
       "  {'C': 1, 'gamma': 1000, 'kernel': 'sigmoid', 'max_iter': 500000},\n",
       "  {'C': 10, 'gamma': 1, 'kernel': 'linear', 'max_iter': 500000},\n",
       "  {'C': 10, 'gamma': 1, 'kernel': 'rbf', 'max_iter': 500000},\n",
       "  {'C': 10, 'gamma': 1, 'kernel': 'sigmoid', 'max_iter': 500000},\n",
       "  {'C': 10, 'gamma': 10, 'kernel': 'linear', 'max_iter': 500000},\n",
       "  {'C': 10, 'gamma': 10, 'kernel': 'rbf', 'max_iter': 500000},\n",
       "  {'C': 10, 'gamma': 10, 'kernel': 'sigmoid', 'max_iter': 500000},\n",
       "  {'C': 10, 'gamma': 100, 'kernel': 'linear', 'max_iter': 500000},\n",
       "  {'C': 10, 'gamma': 100, 'kernel': 'rbf', 'max_iter': 500000},\n",
       "  {'C': 10, 'gamma': 100, 'kernel': 'sigmoid', 'max_iter': 500000},\n",
       "  {'C': 10, 'gamma': 1000, 'kernel': 'linear', 'max_iter': 500000},\n",
       "  {'C': 10, 'gamma': 1000, 'kernel': 'rbf', 'max_iter': 500000},\n",
       "  {'C': 10, 'gamma': 1000, 'kernel': 'sigmoid', 'max_iter': 500000},\n",
       "  {'C': 100, 'gamma': 1, 'kernel': 'linear', 'max_iter': 500000},\n",
       "  {'C': 100, 'gamma': 1, 'kernel': 'rbf', 'max_iter': 500000},\n",
       "  {'C': 100, 'gamma': 1, 'kernel': 'sigmoid', 'max_iter': 500000},\n",
       "  {'C': 100, 'gamma': 10, 'kernel': 'linear', 'max_iter': 500000},\n",
       "  {'C': 100, 'gamma': 10, 'kernel': 'rbf', 'max_iter': 500000},\n",
       "  {'C': 100, 'gamma': 10, 'kernel': 'sigmoid', 'max_iter': 500000},\n",
       "  {'C': 100, 'gamma': 100, 'kernel': 'linear', 'max_iter': 500000},\n",
       "  {'C': 100, 'gamma': 100, 'kernel': 'rbf', 'max_iter': 500000},\n",
       "  {'C': 100, 'gamma': 100, 'kernel': 'sigmoid', 'max_iter': 500000},\n",
       "  {'C': 100, 'gamma': 1000, 'kernel': 'linear', 'max_iter': 500000},\n",
       "  {'C': 100, 'gamma': 1000, 'kernel': 'rbf', 'max_iter': 500000},\n",
       "  {'C': 100, 'gamma': 1000, 'kernel': 'sigmoid', 'max_iter': 500000}],\n",
       " 'split0_test_score': array([0.61375, 0.5025 , 0.5025 , 0.61375, 0.5025 , 0.5025 , 0.61375,\n",
       "        0.5025 , 0.5025 , 0.61375, 0.5025 , 0.5025 , 0.49625, 0.5025 ,\n",
       "        0.5025 , 0.49625, 0.5025 , 0.5025 , 0.49625, 0.5025 , 0.5025 ,\n",
       "        0.49625, 0.5025 , 0.5025 , 0.515  , 0.50375, 0.5025 , 0.515  ,\n",
       "        0.5025 , 0.5025 , 0.515  , 0.5025 , 0.5025 , 0.515  , 0.5025 ,\n",
       "        0.5025 , 0.54375, 0.50375, 0.5025 , 0.54375, 0.5025 , 0.5025 ,\n",
       "        0.54375, 0.5025 , 0.5025 , 0.54375, 0.5025 , 0.5025 ]),\n",
       " 'split1_test_score': array([0.575  , 0.50125, 0.50125, 0.575  , 0.50125, 0.50125, 0.575  ,\n",
       "        0.50125, 0.50125, 0.575  , 0.50125, 0.50125, 0.525  , 0.4975 ,\n",
       "        0.54625, 0.525  , 0.50125, 0.5025 , 0.525  , 0.50125, 0.5025 ,\n",
       "        0.525  , 0.50125, 0.5025 , 0.5075 , 0.4975 , 0.53875, 0.5075 ,\n",
       "        0.50125, 0.5025 , 0.5075 , 0.50125, 0.5025 , 0.5075 , 0.50125,\n",
       "        0.5025 , 0.50375, 0.4975 , 0.54   , 0.50375, 0.50125, 0.5025 ,\n",
       "        0.50375, 0.50125, 0.5025 , 0.50375, 0.50125, 0.5025 ]),\n",
       " 'split2_test_score': array([0.57125, 0.50125, 0.50125, 0.57125, 0.50125, 0.50125, 0.57125,\n",
       "        0.50125, 0.50125, 0.57125, 0.50125, 0.50125, 0.5375 , 0.5025 ,\n",
       "        0.52125, 0.5375 , 0.50125, 0.50125, 0.5375 , 0.50125, 0.5025 ,\n",
       "        0.5375 , 0.50125, 0.5025 , 0.53125, 0.50375, 0.525  , 0.53125,\n",
       "        0.50125, 0.5025 , 0.53125, 0.50125, 0.5025 , 0.53125, 0.50125,\n",
       "        0.5025 , 0.52   , 0.50375, 0.5225 , 0.52   , 0.50125, 0.5025 ,\n",
       "        0.52   , 0.50125, 0.5025 , 0.52   , 0.50125, 0.5025 ]),\n",
       " 'split3_test_score': array([0.5825 , 0.50125, 0.50125, 0.5825 , 0.50125, 0.50125, 0.5825 ,\n",
       "        0.50125, 0.50125, 0.5825 , 0.50125, 0.50125, 0.53   , 0.50375,\n",
       "        0.54   , 0.53   , 0.50125, 0.54   , 0.53   , 0.50125, 0.54   ,\n",
       "        0.53   , 0.50125, 0.54   , 0.54625, 0.505  , 0.55125, 0.54625,\n",
       "        0.50125, 0.54125, 0.54625, 0.50125, 0.54   , 0.54625, 0.50125,\n",
       "        0.54   , 0.5175 , 0.505  , 0.5525 , 0.5175 , 0.50125, 0.54125,\n",
       "        0.5175 , 0.50125, 0.54   , 0.5175 , 0.50125, 0.54   ]),\n",
       " 'mean_test_score': array([0.585625 , 0.5015625, 0.5015625, 0.585625 , 0.5015625, 0.5015625,\n",
       "        0.585625 , 0.5015625, 0.5015625, 0.585625 , 0.5015625, 0.5015625,\n",
       "        0.5221875, 0.5015625, 0.5275   , 0.5221875, 0.5015625, 0.5115625,\n",
       "        0.5221875, 0.5015625, 0.511875 , 0.5221875, 0.5015625, 0.511875 ,\n",
       "        0.525    , 0.5025   , 0.529375 , 0.525    , 0.5015625, 0.5121875,\n",
       "        0.525    , 0.5015625, 0.511875 , 0.525    , 0.5015625, 0.511875 ,\n",
       "        0.52125  , 0.5025   , 0.529375 , 0.52125  , 0.5015625, 0.5121875,\n",
       "        0.52125  , 0.5015625, 0.511875 , 0.52125  , 0.5015625, 0.511875 ]),\n",
       " 'std_test_score': array([0.01673553, 0.00054127, 0.00054127, 0.01673553, 0.00054127,\n",
       "        0.00054127, 0.01673553, 0.00054127, 0.00054127, 0.01673553,\n",
       "        0.00054127, 0.00054127, 0.01562187, 0.00240036, 0.01711633,\n",
       "        0.01562187, 0.00054127, 0.01642633, 0.01562187, 0.00054127,\n",
       "        0.01623798, 0.01562187, 0.00054127, 0.01623798, 0.01497394,\n",
       "        0.00293151, 0.01808185, 0.01497394, 0.00054127, 0.01677924,\n",
       "        0.01497394, 0.00054127, 0.01623798, 0.01497394, 0.00054127,\n",
       "        0.01623798, 0.01438858, 0.00293151, 0.01882278, 0.01438858,\n",
       "        0.00054127, 0.01677924, 0.01438858, 0.00054127, 0.01623798,\n",
       "        0.01438858, 0.00054127, 0.01623798]),\n",
       " 'rank_test_score': array([ 1, 32, 32,  1, 32, 32,  1, 32, 32,  1, 32, 32, 12, 31,  7, 12, 32,\n",
       "        28, 12, 32, 22, 12, 32, 22,  8, 29,  5,  8, 32, 20,  8, 32, 22,  8,\n",
       "        32, 22, 16, 29,  5, 16, 32, 20, 16, 32, 22, 16, 32, 22]),\n",
       " 'split0_train_score': array([0.60375   , 0.50125   , 0.50125   , 0.60375   , 0.50125   ,\n",
       "        0.50125   , 0.60375   , 0.50125   , 0.50125   , 0.60375   ,\n",
       "        0.50125   , 0.50125   , 0.49791667, 1.        , 0.50125   ,\n",
       "        0.49791667, 1.        , 0.50125   , 0.49791667, 1.        ,\n",
       "        0.5025    , 0.49791667, 1.        , 0.5025    , 0.51458333,\n",
       "        1.        , 0.5025    , 0.51458333, 1.        , 0.5025    ,\n",
       "        0.51458333, 1.        , 0.5025    , 0.51458333, 1.        ,\n",
       "        0.5025    , 0.55625   , 1.        , 0.5025    , 0.55625   ,\n",
       "        1.        , 0.5025    , 0.55625   , 1.        , 0.5025    ,\n",
       "        0.55625   , 1.        , 0.5025    ]),\n",
       " 'split1_train_score': array([0.56375   , 0.50166667, 0.50166667, 0.56375   , 0.50166667,\n",
       "        0.50166667, 0.56375   , 0.50166667, 0.50166667, 0.56375   ,\n",
       "        0.50166667, 0.50166667, 0.51833333, 1.        , 0.52541667,\n",
       "        0.51833333, 1.        , 0.5025    , 0.51833333, 1.        ,\n",
       "        0.5025    , 0.51833333, 1.        , 0.5025    , 0.52541667,\n",
       "        1.        , 0.525     , 0.52541667, 1.        , 0.5025    ,\n",
       "        0.52541667, 1.        , 0.5025    , 0.52541667, 1.        ,\n",
       "        0.5025    , 0.52416667, 1.        , 0.525     , 0.52416667,\n",
       "        1.        , 0.5025    , 0.52416667, 1.        , 0.5025    ,\n",
       "        0.52416667, 1.        , 0.5025    ]),\n",
       " 'split2_train_score': array([0.57958333, 0.50166667, 0.50166667, 0.57958333, 0.50166667,\n",
       "        0.50166667, 0.57958333, 0.50166667, 0.50166667, 0.57958333,\n",
       "        0.50166667, 0.50166667, 0.54125   , 1.        , 0.53416667,\n",
       "        0.54125   , 1.        , 0.50166667, 0.54125   , 1.        ,\n",
       "        0.50208333, 0.54125   , 1.        , 0.50208333, 0.54416667,\n",
       "        1.        , 0.53083333, 0.54416667, 1.        , 0.50208333,\n",
       "        0.54416667, 1.        , 0.50208333, 0.54416667, 1.        ,\n",
       "        0.50208333, 0.50375   , 1.        , 0.53083333, 0.50375   ,\n",
       "        1.        , 0.50208333, 0.50375   , 1.        , 0.50208333,\n",
       "        0.50375   , 1.        , 0.50208333]),\n",
       " 'split3_train_score': array([0.59291667, 0.50166667, 0.50166667, 0.59291667, 0.50166667,\n",
       "        0.50166667, 0.59291667, 0.50166667, 0.50166667, 0.59291667,\n",
       "        0.50166667, 0.50166667, 0.54375   , 1.        , 0.5275    ,\n",
       "        0.54375   , 1.        , 0.5275    , 0.54375   , 1.        ,\n",
       "        0.5275    , 0.54375   , 1.        , 0.5275    , 0.52      ,\n",
       "        1.        , 0.52125   , 0.52      , 1.        , 0.52708333,\n",
       "        0.52      , 1.        , 0.5275    , 0.52      , 1.        ,\n",
       "        0.5275    , 0.51416667, 1.        , 0.52083333, 0.51416667,\n",
       "        1.        , 0.52625   , 0.51416667, 1.        , 0.52708333,\n",
       "        0.51416667, 1.        , 0.5275    ]),\n",
       " 'mean_train_score': array([0.585     , 0.5015625 , 0.5015625 , 0.585     , 0.5015625 ,\n",
       "        0.5015625 , 0.585     , 0.5015625 , 0.5015625 , 0.585     ,\n",
       "        0.5015625 , 0.5015625 , 0.5253125 , 1.        , 0.52208333,\n",
       "        0.5253125 , 1.        , 0.50822917, 0.5253125 , 1.        ,\n",
       "        0.50864583, 0.5253125 , 1.        , 0.50864583, 0.52604167,\n",
       "        1.        , 0.51989583, 0.52604167, 1.        , 0.50854167,\n",
       "        0.52604167, 1.        , 0.50864583, 0.52604167, 1.        ,\n",
       "        0.50864583, 0.52458333, 1.        , 0.51979167, 0.52458333,\n",
       "        1.        , 0.50833333, 0.52458333, 1.        , 0.50854167,\n",
       "        0.52458333, 1.        , 0.50864583]),\n",
       " 'std_train_score': array([0.01495944, 0.00018042, 0.00018042, 0.01495944, 0.00018042,\n",
       "        0.00018042, 0.01495944, 0.00018042, 0.00018042, 0.01495944,\n",
       "        0.00018042, 0.00018042, 0.0186627 , 0.        , 0.01245478,\n",
       "        0.0186627 , 0.        , 0.01113512, 0.0186627 , 0.        ,\n",
       "        0.01088679, 0.0186627 , 0.        , 0.01088679, 0.0111434 ,\n",
       "        0.        , 0.01060814, 0.0111434 , 0.        , 0.01070639,\n",
       "        0.0111434 , 0.        , 0.01088679, 0.0111434 , 0.        ,\n",
       "        0.01088679, 0.01965634, 0.        , 0.01059637, 0.01965634,\n",
       "        0.        , 0.01034559, 0.01965634, 0.        , 0.01070639,\n",
       "        0.01965634, 0.        , 0.01088679])}"
      ]
     },
     "execution_count": 25,
     "metadata": {},
     "output_type": "execute_result"
    }
   ],
   "source": [
    "res"
   ]
  },
  {
   "cell_type": "code",
   "execution_count": 26,
   "id": "a266acdf-bf49-4bf0-a5b9-c06aa993e69f",
   "metadata": {},
   "outputs": [
    {
     "data": {
      "text/plain": [
       "{'C': 0.1, 'gamma': 1, 'kernel': 'linear', 'max_iter': 500000}"
      ]
     },
     "execution_count": 26,
     "metadata": {},
     "output_type": "execute_result"
    }
   ],
   "source": [
    "grid_search.best_params_"
   ]
  },
  {
   "cell_type": "code",
   "execution_count": 27,
   "id": "1dc7f9a4-3aa2-412c-9674-d5402a4bb88d",
   "metadata": {},
   "outputs": [
    {
     "data": {
      "text/plain": [
       "0.61375"
      ]
     },
     "execution_count": 27,
     "metadata": {},
     "output_type": "execute_result"
    }
   ],
   "source": [
    "grid_search.score(X1_test,y1_test)"
   ]
  },
  {
   "cell_type": "code",
   "execution_count": 28,
   "id": "2290d0ba-f439-4f7e-8d59-e41158e8a641",
   "metadata": {},
   "outputs": [],
   "source": [
    "grid_search.score(X1_train,y1_train)\n",
    "model=grid_search.best_estimator_"
   ]
  },
  {
   "cell_type": "code",
   "execution_count": 29,
   "id": "ec4154a4-2b7b-4e76-bda4-cbcf68f51004",
   "metadata": {},
   "outputs": [],
   "source": [
    "from sklearn.model_selection import learning_curve, validation_curve"
   ]
  },
  {
   "cell_type": "code",
   "execution_count": 30,
   "id": "893d2be4-79e0-49f0-89e9-d92f2170267a",
   "metadata": {},
   "outputs": [],
   "source": [
    "SVM_best = SVC(C=0.11, gamma=1, kernel='linear', max_iter=50000000)"
   ]
  },
  {
   "cell_type": "code",
   "execution_count": 31,
   "id": "a0e45cce-e78b-4bf4-b855-7a540d8cb693",
   "metadata": {},
   "outputs": [
    {
     "name": "stderr",
     "output_type": "stream",
     "text": [
      "C:\\Users\\Student\\Desktop\\ML\\Udemy\\first_assignment\\env\\Lib\\site-packages\\sklearn\\svm\\_base.py:297: ConvergenceWarning: Solver terminated early (max_iter=50000000).  Consider pre-processing your data with StandardScaler or MinMaxScaler.\n",
      "  warnings.warn(\n",
      "C:\\Users\\Student\\Desktop\\ML\\Udemy\\first_assignment\\env\\Lib\\site-packages\\sklearn\\svm\\_base.py:297: ConvergenceWarning: Solver terminated early (max_iter=50000000).  Consider pre-processing your data with StandardScaler or MinMaxScaler.\n",
      "  warnings.warn(\n",
      "C:\\Users\\Student\\Desktop\\ML\\Udemy\\first_assignment\\env\\Lib\\site-packages\\sklearn\\svm\\_base.py:297: ConvergenceWarning: Solver terminated early (max_iter=50000000).  Consider pre-processing your data with StandardScaler or MinMaxScaler.\n",
      "  warnings.warn(\n",
      "C:\\Users\\Student\\Desktop\\ML\\Udemy\\first_assignment\\env\\Lib\\site-packages\\sklearn\\svm\\_base.py:297: ConvergenceWarning: Solver terminated early (max_iter=50000000).  Consider pre-processing your data with StandardScaler or MinMaxScaler.\n",
      "  warnings.warn(\n",
      "C:\\Users\\Student\\Desktop\\ML\\Udemy\\first_assignment\\env\\Lib\\site-packages\\sklearn\\svm\\_base.py:297: ConvergenceWarning: Solver terminated early (max_iter=50000000).  Consider pre-processing your data with StandardScaler or MinMaxScaler.\n",
      "  warnings.warn(\n",
      "C:\\Users\\Student\\Desktop\\ML\\Udemy\\first_assignment\\env\\Lib\\site-packages\\sklearn\\svm\\_base.py:297: ConvergenceWarning: Solver terminated early (max_iter=50000000).  Consider pre-processing your data with StandardScaler or MinMaxScaler.\n",
      "  warnings.warn(\n",
      "C:\\Users\\Student\\Desktop\\ML\\Udemy\\first_assignment\\env\\Lib\\site-packages\\sklearn\\svm\\_base.py:297: ConvergenceWarning: Solver terminated early (max_iter=50000000).  Consider pre-processing your data with StandardScaler or MinMaxScaler.\n",
      "  warnings.warn(\n",
      "C:\\Users\\Student\\Desktop\\ML\\Udemy\\first_assignment\\env\\Lib\\site-packages\\sklearn\\svm\\_base.py:297: ConvergenceWarning: Solver terminated early (max_iter=50000000).  Consider pre-processing your data with StandardScaler or MinMaxScaler.\n",
      "  warnings.warn(\n",
      "C:\\Users\\Student\\Desktop\\ML\\Udemy\\first_assignment\\env\\Lib\\site-packages\\sklearn\\svm\\_base.py:297: ConvergenceWarning: Solver terminated early (max_iter=50000000).  Consider pre-processing your data with StandardScaler or MinMaxScaler.\n",
      "  warnings.warn(\n",
      "C:\\Users\\Student\\Desktop\\ML\\Udemy\\first_assignment\\env\\Lib\\site-packages\\sklearn\\svm\\_base.py:297: ConvergenceWarning: Solver terminated early (max_iter=50000000).  Consider pre-processing your data with StandardScaler or MinMaxScaler.\n",
      "  warnings.warn(\n",
      "C:\\Users\\Student\\Desktop\\ML\\Udemy\\first_assignment\\env\\Lib\\site-packages\\sklearn\\svm\\_base.py:297: ConvergenceWarning: Solver terminated early (max_iter=50000000).  Consider pre-processing your data with StandardScaler or MinMaxScaler.\n",
      "  warnings.warn(\n",
      "C:\\Users\\Student\\Desktop\\ML\\Udemy\\first_assignment\\env\\Lib\\site-packages\\sklearn\\svm\\_base.py:297: ConvergenceWarning: Solver terminated early (max_iter=50000000).  Consider pre-processing your data with StandardScaler or MinMaxScaler.\n",
      "  warnings.warn(\n",
      "C:\\Users\\Student\\Desktop\\ML\\Udemy\\first_assignment\\env\\Lib\\site-packages\\sklearn\\svm\\_base.py:297: ConvergenceWarning: Solver terminated early (max_iter=50000000).  Consider pre-processing your data with StandardScaler or MinMaxScaler.\n",
      "  warnings.warn(\n",
      "C:\\Users\\Student\\Desktop\\ML\\Udemy\\first_assignment\\env\\Lib\\site-packages\\sklearn\\svm\\_base.py:297: ConvergenceWarning: Solver terminated early (max_iter=50000000).  Consider pre-processing your data with StandardScaler or MinMaxScaler.\n",
      "  warnings.warn(\n",
      "C:\\Users\\Student\\Desktop\\ML\\Udemy\\first_assignment\\env\\Lib\\site-packages\\sklearn\\svm\\_base.py:297: ConvergenceWarning: Solver terminated early (max_iter=50000000).  Consider pre-processing your data with StandardScaler or MinMaxScaler.\n",
      "  warnings.warn(\n",
      "C:\\Users\\Student\\Desktop\\ML\\Udemy\\first_assignment\\env\\Lib\\site-packages\\sklearn\\svm\\_base.py:297: ConvergenceWarning: Solver terminated early (max_iter=50000000).  Consider pre-processing your data with StandardScaler or MinMaxScaler.\n",
      "  warnings.warn(\n",
      "C:\\Users\\Student\\Desktop\\ML\\Udemy\\first_assignment\\env\\Lib\\site-packages\\sklearn\\svm\\_base.py:297: ConvergenceWarning: Solver terminated early (max_iter=50000000).  Consider pre-processing your data with StandardScaler or MinMaxScaler.\n",
      "  warnings.warn(\n",
      "C:\\Users\\Student\\Desktop\\ML\\Udemy\\first_assignment\\env\\Lib\\site-packages\\sklearn\\svm\\_base.py:297: ConvergenceWarning: Solver terminated early (max_iter=50000000).  Consider pre-processing your data with StandardScaler or MinMaxScaler.\n",
      "  warnings.warn(\n",
      "C:\\Users\\Student\\Desktop\\ML\\Udemy\\first_assignment\\env\\Lib\\site-packages\\sklearn\\svm\\_base.py:297: ConvergenceWarning: Solver terminated early (max_iter=50000000).  Consider pre-processing your data with StandardScaler or MinMaxScaler.\n",
      "  warnings.warn(\n",
      "C:\\Users\\Student\\Desktop\\ML\\Udemy\\first_assignment\\env\\Lib\\site-packages\\sklearn\\svm\\_base.py:297: ConvergenceWarning: Solver terminated early (max_iter=50000000).  Consider pre-processing your data with StandardScaler or MinMaxScaler.\n",
      "  warnings.warn(\n",
      "C:\\Users\\Student\\Desktop\\ML\\Udemy\\first_assignment\\env\\Lib\\site-packages\\sklearn\\svm\\_base.py:297: ConvergenceWarning: Solver terminated early (max_iter=50000000).  Consider pre-processing your data with StandardScaler or MinMaxScaler.\n",
      "  warnings.warn(\n",
      "C:\\Users\\Student\\Desktop\\ML\\Udemy\\first_assignment\\env\\Lib\\site-packages\\sklearn\\svm\\_base.py:297: ConvergenceWarning: Solver terminated early (max_iter=50000000).  Consider pre-processing your data with StandardScaler or MinMaxScaler.\n",
      "  warnings.warn(\n",
      "C:\\Users\\Student\\Desktop\\ML\\Udemy\\first_assignment\\env\\Lib\\site-packages\\sklearn\\svm\\_base.py:297: ConvergenceWarning: Solver terminated early (max_iter=50000000).  Consider pre-processing your data with StandardScaler or MinMaxScaler.\n",
      "  warnings.warn(\n",
      "C:\\Users\\Student\\Desktop\\ML\\Udemy\\first_assignment\\env\\Lib\\site-packages\\sklearn\\svm\\_base.py:297: ConvergenceWarning: Solver terminated early (max_iter=50000000).  Consider pre-processing your data with StandardScaler or MinMaxScaler.\n",
      "  warnings.warn(\n",
      "C:\\Users\\Student\\Desktop\\ML\\Udemy\\first_assignment\\env\\Lib\\site-packages\\sklearn\\svm\\_base.py:297: ConvergenceWarning: Solver terminated early (max_iter=50000000).  Consider pre-processing your data with StandardScaler or MinMaxScaler.\n",
      "  warnings.warn(\n",
      "C:\\Users\\Student\\Desktop\\ML\\Udemy\\first_assignment\\env\\Lib\\site-packages\\sklearn\\svm\\_base.py:297: ConvergenceWarning: Solver terminated early (max_iter=50000000).  Consider pre-processing your data with StandardScaler or MinMaxScaler.\n",
      "  warnings.warn(\n",
      "C:\\Users\\Student\\Desktop\\ML\\Udemy\\first_assignment\\env\\Lib\\site-packages\\sklearn\\svm\\_base.py:297: ConvergenceWarning: Solver terminated early (max_iter=50000000).  Consider pre-processing your data with StandardScaler or MinMaxScaler.\n",
      "  warnings.warn(\n",
      "C:\\Users\\Student\\Desktop\\ML\\Udemy\\first_assignment\\env\\Lib\\site-packages\\sklearn\\svm\\_base.py:297: ConvergenceWarning: Solver terminated early (max_iter=50000000).  Consider pre-processing your data with StandardScaler or MinMaxScaler.\n",
      "  warnings.warn(\n",
      "C:\\Users\\Student\\Desktop\\ML\\Udemy\\first_assignment\\env\\Lib\\site-packages\\sklearn\\svm\\_base.py:297: ConvergenceWarning: Solver terminated early (max_iter=50000000).  Consider pre-processing your data with StandardScaler or MinMaxScaler.\n",
      "  warnings.warn(\n",
      "C:\\Users\\Student\\Desktop\\ML\\Udemy\\first_assignment\\env\\Lib\\site-packages\\sklearn\\svm\\_base.py:297: ConvergenceWarning: Solver terminated early (max_iter=50000000).  Consider pre-processing your data with StandardScaler or MinMaxScaler.\n",
      "  warnings.warn(\n",
      "C:\\Users\\Student\\Desktop\\ML\\Udemy\\first_assignment\\env\\Lib\\site-packages\\sklearn\\svm\\_base.py:297: ConvergenceWarning: Solver terminated early (max_iter=50000000).  Consider pre-processing your data with StandardScaler or MinMaxScaler.\n",
      "  warnings.warn(\n",
      "C:\\Users\\Student\\Desktop\\ML\\Udemy\\first_assignment\\env\\Lib\\site-packages\\sklearn\\svm\\_base.py:297: ConvergenceWarning: Solver terminated early (max_iter=50000000).  Consider pre-processing your data with StandardScaler or MinMaxScaler.\n",
      "  warnings.warn(\n",
      "C:\\Users\\Student\\Desktop\\ML\\Udemy\\first_assignment\\env\\Lib\\site-packages\\sklearn\\svm\\_base.py:297: ConvergenceWarning: Solver terminated early (max_iter=50000000).  Consider pre-processing your data with StandardScaler or MinMaxScaler.\n",
      "  warnings.warn(\n",
      "C:\\Users\\Student\\Desktop\\ML\\Udemy\\first_assignment\\env\\Lib\\site-packages\\sklearn\\svm\\_base.py:297: ConvergenceWarning: Solver terminated early (max_iter=50000000).  Consider pre-processing your data with StandardScaler or MinMaxScaler.\n",
      "  warnings.warn(\n",
      "C:\\Users\\Student\\Desktop\\ML\\Udemy\\first_assignment\\env\\Lib\\site-packages\\sklearn\\svm\\_base.py:297: ConvergenceWarning: Solver terminated early (max_iter=50000000).  Consider pre-processing your data with StandardScaler or MinMaxScaler.\n",
      "  warnings.warn(\n",
      "C:\\Users\\Student\\Desktop\\ML\\Udemy\\first_assignment\\env\\Lib\\site-packages\\sklearn\\svm\\_base.py:297: ConvergenceWarning: Solver terminated early (max_iter=50000000).  Consider pre-processing your data with StandardScaler or MinMaxScaler.\n",
      "  warnings.warn(\n",
      "C:\\Users\\Student\\Desktop\\ML\\Udemy\\first_assignment\\env\\Lib\\site-packages\\sklearn\\svm\\_base.py:297: ConvergenceWarning: Solver terminated early (max_iter=50000000).  Consider pre-processing your data with StandardScaler or MinMaxScaler.\n",
      "  warnings.warn(\n",
      "C:\\Users\\Student\\Desktop\\ML\\Udemy\\first_assignment\\env\\Lib\\site-packages\\sklearn\\svm\\_base.py:297: ConvergenceWarning: Solver terminated early (max_iter=50000000).  Consider pre-processing your data with StandardScaler or MinMaxScaler.\n",
      "  warnings.warn(\n",
      "C:\\Users\\Student\\Desktop\\ML\\Udemy\\first_assignment\\env\\Lib\\site-packages\\sklearn\\svm\\_base.py:297: ConvergenceWarning: Solver terminated early (max_iter=50000000).  Consider pre-processing your data with StandardScaler or MinMaxScaler.\n",
      "  warnings.warn(\n",
      "C:\\Users\\Student\\Desktop\\ML\\Udemy\\first_assignment\\env\\Lib\\site-packages\\sklearn\\svm\\_base.py:297: ConvergenceWarning: Solver terminated early (max_iter=50000000).  Consider pre-processing your data with StandardScaler or MinMaxScaler.\n",
      "  warnings.warn(\n",
      "C:\\Users\\Student\\Desktop\\ML\\Udemy\\first_assignment\\env\\Lib\\site-packages\\sklearn\\svm\\_base.py:297: ConvergenceWarning: Solver terminated early (max_iter=50000000).  Consider pre-processing your data with StandardScaler or MinMaxScaler.\n",
      "  warnings.warn(\n",
      "C:\\Users\\Student\\Desktop\\ML\\Udemy\\first_assignment\\env\\Lib\\site-packages\\sklearn\\svm\\_base.py:297: ConvergenceWarning: Solver terminated early (max_iter=50000000).  Consider pre-processing your data with StandardScaler or MinMaxScaler.\n",
      "  warnings.warn(\n",
      "C:\\Users\\Student\\Desktop\\ML\\Udemy\\first_assignment\\env\\Lib\\site-packages\\sklearn\\svm\\_base.py:297: ConvergenceWarning: Solver terminated early (max_iter=50000000).  Consider pre-processing your data with StandardScaler or MinMaxScaler.\n",
      "  warnings.warn(\n",
      "C:\\Users\\Student\\Desktop\\ML\\Udemy\\first_assignment\\env\\Lib\\site-packages\\sklearn\\svm\\_base.py:297: ConvergenceWarning: Solver terminated early (max_iter=50000000).  Consider pre-processing your data with StandardScaler or MinMaxScaler.\n",
      "  warnings.warn(\n",
      "C:\\Users\\Student\\Desktop\\ML\\Udemy\\first_assignment\\env\\Lib\\site-packages\\sklearn\\svm\\_base.py:297: ConvergenceWarning: Solver terminated early (max_iter=50000000).  Consider pre-processing your data with StandardScaler or MinMaxScaler.\n",
      "  warnings.warn(\n",
      "C:\\Users\\Student\\Desktop\\ML\\Udemy\\first_assignment\\env\\Lib\\site-packages\\sklearn\\svm\\_base.py:297: ConvergenceWarning: Solver terminated early (max_iter=50000000).  Consider pre-processing your data with StandardScaler or MinMaxScaler.\n",
      "  warnings.warn(\n"
     ]
    }
   ],
   "source": [
    "train_sizes, train_scores, test_scores, fit_times, score_times = learning_curve(\n",
    "        estimator=SVM_best,\n",
    "        X=X1_train,\n",
    "        y=y1_train,\n",
    "        train_sizes=[0.1, 0.2, 0.3, 0.4, 0.5, 0.6, 0.7, 0.8, 0.9,1 ],\n",
    "        return_times = True \n",
    ")\n",
    "train_mean = np.mean(train_scores, axis=1)\n",
    "train_std = np.std(train_scores, axis=1)\n",
    "test_mean = np.mean(test_scores, axis=1)\n",
    "test_std = np.std(test_scores, axis=1)\n",
    "fit_time_mean = np.mean(fit_times, axis=1)\n",
    "fit_time_std = np.std(fit_times, axis=1)\n",
    "score_time_mean = np.mean(score_times, axis=1)\n",
    "score_time_std = np.std(score_times, axis=1)"
   ]
  },
  {
   "cell_type": "code",
   "execution_count": 32,
   "id": "28fe35c4-8ca6-4b99-87c7-df579eec7f3a",
   "metadata": {},
   "outputs": [
    {
     "data": {
      "image/png": "[encoded data removed]",
      "text/plain": [
       "<Figure size 640x480 with 1 Axes>"
      ]
     },
     "metadata": {},
     "output_type": "display_data"
    }
   ],
   "source": [
    "plt.plot(train_sizes, train_mean,\n",
    "             color='C2', marker='o',\n",
    "             markersize=5, label='train')\n",
    "\n",
    "plt.fill_between(train_sizes,\n",
    "                     train_mean + train_std,\n",
    "                     train_mean - train_std,\n",
    "                     alpha=0.15, color='C2')\n",
    "\n",
    "plt.plot(train_sizes, test_mean,\n",
    "             color='C3', linestyle='--',\n",
    "             marker='s', markersize=5,\n",
    "             label='test')\n",
    "\n",
    "plt.fill_between(train_sizes,\n",
    "                     test_mean + test_std,\n",
    "                     test_mean - test_std,\n",
    "                     alpha=0.15, color='C3')\n",
    "plt.grid()\n",
    "plt.ylim(0,1)\n",
    "plt.xlabel('# of training samples')\n",
    "plt.ylabel('Model Scores')\n",
    "plt.legend(loc='lower right')\n",
    "plt.show()"
   ]
  },
  {
   "cell_type": "code",
   "execution_count": 33,
   "id": "13d9383a-9a2b-4139-a3df-7f271f61d075",
   "metadata": {},
   "outputs": [
    {
     "data": {
      "image/png": "[encoded data removed]",
      "text/plain": [
       "<Figure size 640x480 with 1 Axes>"
      ]
     },
     "metadata": {},
     "output_type": "display_data"
    }
   ],
   "source": [
    "plt.figure()\n",
    "# plt.title(\"Modeling Time: \"+ title)\n",
    "plt.xlabel(\"# 0f training Examples\")\n",
    "plt.ylabel(\"Time (s)\")\n",
    "plt.plot(train_sizes, fit_time_mean, 'o-', color=\"b\", label=\"fit Time (s)\")\n",
    "plt.plot(train_sizes, score_time_mean, 'o-', color=\"r\", label=\"score Time (s)\")\n",
    "plt.legend(loc=\"best\")\n",
    "plt.show()"
   ]
  },
  {
   "cell_type": "code",
   "execution_count": null,
   "id": "944a2c77-188b-4861-9848-633abd961676",
   "metadata": {},
   "outputs": [],
   "source": []
  }
 ],
 "metadata": {
  "kernelspec": {
   "display_name": "Python 3 (ipykernel)",
   "language": "python",
   "name": "python3"
  },
  "language_info": {
   "codemirror_mode": {
    "name": "ipython",
    "version": 3
   },
   "file_extension": ".py",
   "mimetype": "text/x-python",
   "name": "python",
   "nbconvert_exporter": "python",
   "pygments_lexer": "ipython3",
   "version": "3.12.1"
  }
 },
 "nbformat": 4,
 "nbformat_minor": 5
}
