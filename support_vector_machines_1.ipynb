{
 "cells": [
  {
   "cell_type": "code",
   "execution_count": 2,
   "id": "2130e5f8-9d57-42ab-9599-9955534dab40",
   "metadata": {},
   "outputs": [],
   "source": [
    "# load tool"
   ]
  },
  {
   "cell_type": "code",
   "execution_count": 1,
   "id": "14508a86-4a9f-4263-9f3d-6d69b8b57264",
   "metadata": {},
   "outputs": [
    {
     "name": "stderr",
     "output_type": "stream",
     "text": [
      "C:\\Users\\Student\\AppData\\Local\\Temp\\ipykernel_19048\\612371142.py:2: DeprecationWarning: \n",
      "Pyarrow will become a required dependency of pandas in the next major release of pandas (pandas 3.0),\n",
      "(to allow more performant data types, such as the Arrow string type, and better interoperability with other libraries)\n",
      "but was not found to be installed on your system.\n",
      "If this would cause problems for you,\n",
      "please provide us feedback at https://github.com/pandas-dev/pandas/issues/54466\n",
      "        \n",
      "  import pandas as pd\n"
     ]
    }
   ],
   "source": [
    "import numpy as np\n",
    "import pandas as pd\n",
    "import matplotlib.pyplot as plt\n",
    "import seaborn as sns\n",
    "from sklearn.svm import SVC\n",
    "\n",
    "%matplotlib inline"
   ]
  },
  {
   "cell_type": "code",
   "execution_count": 2,
   "id": "79857730-659d-42c0-891a-cef0b8ab0092",
   "metadata": {},
   "outputs": [
    {
     "data": {
      "text/plain": [
       "{'C': 1.0,\n",
       " 'break_ties': False,\n",
       " 'cache_size': 200,\n",
       " 'class_weight': None,\n",
       " 'coef0': 0.0,\n",
       " 'decision_function_shape': 'ovr',\n",
       " 'degree': 3,\n",
       " 'gamma': 'scale',\n",
       " 'kernel': 'rbf',\n",
       " 'max_iter': -1,\n",
       " 'probability': False,\n",
       " 'random_state': None,\n",
       " 'shrinking': True,\n",
       " 'tol': 0.001,\n",
       " 'verbose': False}"
      ]
     },
     "execution_count": 2,
     "metadata": {},
     "output_type": "execute_result"
    }
   ],
   "source": [
    "# import SVM model\n",
    "SVM = SVC()\n",
    "SVM.get_params()"
   ]
  },
  {
   "cell_type": "code",
   "execution_count": 3,
   "id": "eb741258-a261-46fe-968f-0886d3615a5c",
   "metadata": {},
   "outputs": [],
   "source": [
    "# model evalutions\n",
    "from sklearn.model_selection import train_test_split, cross_val_score\n",
    "from sklearn.model_selection import RandomizedSearchCV, GridSearchCV\n",
    "from sklearn.metrics import confusion_matrix, classification_report\n",
    "from sklearn.metrics import f1_score"
   ]
  },
  {
   "cell_type": "code",
   "execution_count": 4,
   "id": "eda199ec-8d20-4d5d-8d50-e776a4b51519",
   "metadata": {},
   "outputs": [],
   "source": [
    "df_1 = pd.read_csv(\"heart.csv\")"
   ]
  },
  {
   "cell_type": "code",
   "execution_count": 5,
   "id": "c35d8548-6fbd-4eb2-9bfb-653a2459c35b",
   "metadata": {},
   "outputs": [
    {
     "data": {
      "text/html": [
       "<div>\n",
       "<style scoped>\n",
       "    .dataframe tbody tr th:only-of-type {\n",
       "        vertical-align: middle;\n",
       "    }\n",
       "\n",
       "    .dataframe tbody tr th {\n",
       "        vertical-align: top;\n",
       "    }\n",
       "\n",
       "    .dataframe thead th {\n",
       "        text-align: right;\n",
       "    }\n",
       "</style>\n",
       "<table border=\"1\" class=\"dataframe\">\n",
       "  <thead>\n",
       "    <tr style=\"text-align: right;\">\n",
       "      <th></th>\n",
       "      <th>age</th>\n",
       "      <th>sex</th>\n",
       "      <th>cp</th>\n",
       "      <th>trestbps</th>\n",
       "      <th>chol</th>\n",
       "      <th>fbs</th>\n",
       "      <th>restecg</th>\n",
       "      <th>thalach</th>\n",
       "      <th>exang</th>\n",
       "      <th>oldpeak</th>\n",
       "      <th>slope</th>\n",
       "      <th>ca</th>\n",
       "      <th>thal</th>\n",
       "      <th>condition</th>\n",
       "    </tr>\n",
       "  </thead>\n",
       "  <tbody>\n",
       "    <tr>\n",
       "      <th>0</th>\n",
       "      <td>69</td>\n",
       "      <td>1</td>\n",
       "      <td>0</td>\n",
       "      <td>160</td>\n",
       "      <td>234</td>\n",
       "      <td>1</td>\n",
       "      <td>2</td>\n",
       "      <td>131</td>\n",
       "      <td>0</td>\n",
       "      <td>0.1</td>\n",
       "      <td>1</td>\n",
       "      <td>1</td>\n",
       "      <td>0</td>\n",
       "      <td>0</td>\n",
       "    </tr>\n",
       "    <tr>\n",
       "      <th>1</th>\n",
       "      <td>69</td>\n",
       "      <td>0</td>\n",
       "      <td>0</td>\n",
       "      <td>140</td>\n",
       "      <td>239</td>\n",
       "      <td>0</td>\n",
       "      <td>0</td>\n",
       "      <td>151</td>\n",
       "      <td>0</td>\n",
       "      <td>1.8</td>\n",
       "      <td>0</td>\n",
       "      <td>2</td>\n",
       "      <td>0</td>\n",
       "      <td>0</td>\n",
       "    </tr>\n",
       "    <tr>\n",
       "      <th>2</th>\n",
       "      <td>66</td>\n",
       "      <td>0</td>\n",
       "      <td>0</td>\n",
       "      <td>150</td>\n",
       "      <td>226</td>\n",
       "      <td>0</td>\n",
       "      <td>0</td>\n",
       "      <td>114</td>\n",
       "      <td>0</td>\n",
       "      <td>2.6</td>\n",
       "      <td>2</td>\n",
       "      <td>0</td>\n",
       "      <td>0</td>\n",
       "      <td>0</td>\n",
       "    </tr>\n",
       "    <tr>\n",
       "      <th>3</th>\n",
       "      <td>65</td>\n",
       "      <td>1</td>\n",
       "      <td>0</td>\n",
       "      <td>138</td>\n",
       "      <td>282</td>\n",
       "      <td>1</td>\n",
       "      <td>2</td>\n",
       "      <td>174</td>\n",
       "      <td>0</td>\n",
       "      <td>1.4</td>\n",
       "      <td>1</td>\n",
       "      <td>1</td>\n",
       "      <td>0</td>\n",
       "      <td>1</td>\n",
       "    </tr>\n",
       "    <tr>\n",
       "      <th>4</th>\n",
       "      <td>64</td>\n",
       "      <td>1</td>\n",
       "      <td>0</td>\n",
       "      <td>110</td>\n",
       "      <td>211</td>\n",
       "      <td>0</td>\n",
       "      <td>2</td>\n",
       "      <td>144</td>\n",
       "      <td>1</td>\n",
       "      <td>1.8</td>\n",
       "      <td>1</td>\n",
       "      <td>0</td>\n",
       "      <td>0</td>\n",
       "      <td>0</td>\n",
       "    </tr>\n",
       "    <tr>\n",
       "      <th>...</th>\n",
       "      <td>...</td>\n",
       "      <td>...</td>\n",
       "      <td>...</td>\n",
       "      <td>...</td>\n",
       "      <td>...</td>\n",
       "      <td>...</td>\n",
       "      <td>...</td>\n",
       "      <td>...</td>\n",
       "      <td>...</td>\n",
       "      <td>...</td>\n",
       "      <td>...</td>\n",
       "      <td>...</td>\n",
       "      <td>...</td>\n",
       "      <td>...</td>\n",
       "    </tr>\n",
       "    <tr>\n",
       "      <th>292</th>\n",
       "      <td>40</td>\n",
       "      <td>1</td>\n",
       "      <td>3</td>\n",
       "      <td>152</td>\n",
       "      <td>223</td>\n",
       "      <td>0</td>\n",
       "      <td>0</td>\n",
       "      <td>181</td>\n",
       "      <td>0</td>\n",
       "      <td>0.0</td>\n",
       "      <td>0</td>\n",
       "      <td>0</td>\n",
       "      <td>2</td>\n",
       "      <td>1</td>\n",
       "    </tr>\n",
       "    <tr>\n",
       "      <th>293</th>\n",
       "      <td>39</td>\n",
       "      <td>1</td>\n",
       "      <td>3</td>\n",
       "      <td>118</td>\n",
       "      <td>219</td>\n",
       "      <td>0</td>\n",
       "      <td>0</td>\n",
       "      <td>140</td>\n",
       "      <td>0</td>\n",
       "      <td>1.2</td>\n",
       "      <td>1</td>\n",
       "      <td>0</td>\n",
       "      <td>2</td>\n",
       "      <td>1</td>\n",
       "    </tr>\n",
       "    <tr>\n",
       "      <th>294</th>\n",
       "      <td>35</td>\n",
       "      <td>1</td>\n",
       "      <td>3</td>\n",
       "      <td>120</td>\n",
       "      <td>198</td>\n",
       "      <td>0</td>\n",
       "      <td>0</td>\n",
       "      <td>130</td>\n",
       "      <td>1</td>\n",
       "      <td>1.6</td>\n",
       "      <td>1</td>\n",
       "      <td>0</td>\n",
       "      <td>2</td>\n",
       "      <td>1</td>\n",
       "    </tr>\n",
       "    <tr>\n",
       "      <th>295</th>\n",
       "      <td>35</td>\n",
       "      <td>0</td>\n",
       "      <td>3</td>\n",
       "      <td>138</td>\n",
       "      <td>183</td>\n",
       "      <td>0</td>\n",
       "      <td>0</td>\n",
       "      <td>182</td>\n",
       "      <td>0</td>\n",
       "      <td>1.4</td>\n",
       "      <td>0</td>\n",
       "      <td>0</td>\n",
       "      <td>0</td>\n",
       "      <td>0</td>\n",
       "    </tr>\n",
       "    <tr>\n",
       "      <th>296</th>\n",
       "      <td>35</td>\n",
       "      <td>1</td>\n",
       "      <td>3</td>\n",
       "      <td>126</td>\n",
       "      <td>282</td>\n",
       "      <td>0</td>\n",
       "      <td>2</td>\n",
       "      <td>156</td>\n",
       "      <td>1</td>\n",
       "      <td>0.0</td>\n",
       "      <td>0</td>\n",
       "      <td>0</td>\n",
       "      <td>2</td>\n",
       "      <td>1</td>\n",
       "    </tr>\n",
       "  </tbody>\n",
       "</table>\n",
       "<p>297 rows × 14 columns</p>\n",
       "</div>"
      ],
      "text/plain": [
       "     age  sex  cp  trestbps  chol  fbs  restecg  thalach  exang  oldpeak  \\\n",
       "0     69    1   0       160   234    1        2      131      0      0.1   \n",
       "1     69    0   0       140   239    0        0      151      0      1.8   \n",
       "2     66    0   0       150   226    0        0      114      0      2.6   \n",
       "3     65    1   0       138   282    1        2      174      0      1.4   \n",
       "4     64    1   0       110   211    0        2      144      1      1.8   \n",
       "..   ...  ...  ..       ...   ...  ...      ...      ...    ...      ...   \n",
       "292   40    1   3       152   223    0        0      181      0      0.0   \n",
       "293   39    1   3       118   219    0        0      140      0      1.2   \n",
       "294   35    1   3       120   198    0        0      130      1      1.6   \n",
       "295   35    0   3       138   183    0        0      182      0      1.4   \n",
       "296   35    1   3       126   282    0        2      156      1      0.0   \n",
       "\n",
       "     slope  ca  thal  condition  \n",
       "0        1   1     0          0  \n",
       "1        0   2     0          0  \n",
       "2        2   0     0          0  \n",
       "3        1   1     0          1  \n",
       "4        1   0     0          0  \n",
       "..     ...  ..   ...        ...  \n",
       "292      0   0     2          1  \n",
       "293      1   0     2          1  \n",
       "294      1   0     2          1  \n",
       "295      0   0     0          0  \n",
       "296      0   0     2          1  \n",
       "\n",
       "[297 rows x 14 columns]"
      ]
     },
     "execution_count": 5,
     "metadata": {},
     "output_type": "execute_result"
    }
   ],
   "source": [
    "df_1"
   ]
  },
  {
   "cell_type": "code",
   "execution_count": 6,
   "id": "dfb476de-1970-4dd2-a484-0bb2ae4b3c56",
   "metadata": {},
   "outputs": [],
   "source": [
    "# split data into X and y\n",
    "X_1 = df_1.drop(\"condition\",axis=1)\n",
    "y_1= df_1[\"condition\"]"
   ]
  },
  {
   "cell_type": "markdown",
   "id": "6b5b7cdf-300b-44d4-ad5f-b5a54b586d80",
   "metadata": {},
   "source": [
    "* split into training and testing"
   ]
  },
  {
   "cell_type": "code",
   "execution_count": 15,
   "id": "7d90a08f-c7cb-4729-b2ac-055a4e4a6611",
   "metadata": {},
   "outputs": [],
   "source": [
    "np.random.seed(42)\n",
    "\n",
    "#split into train and test\n",
    "X1_train,X1_test,y1_train,y1_test=train_test_split(X_1,y_1,test_size=0.2)"
   ]
  },
  {
   "cell_type": "code",
   "execution_count": 16,
   "id": "94b3d4e6-cbfb-42fb-8774-7633d3f5767f",
   "metadata": {},
   "outputs": [
    {
     "data": {
      "text/plain": [
       "{'C': 1.0,\n",
       " 'break_ties': False,\n",
       " 'cache_size': 200,\n",
       " 'class_weight': None,\n",
       " 'coef0': 0.0,\n",
       " 'decision_function_shape': 'ovr',\n",
       " 'degree': 9,\n",
       " 'gamma': 'scale',\n",
       " 'kernel': 'rbf',\n",
       " 'max_iter': 2000,\n",
       " 'probability': False,\n",
       " 'random_state': None,\n",
       " 'shrinking': True,\n",
       " 'tol': 0.001,\n",
       " 'verbose': False}"
      ]
     },
     "execution_count": 16,
     "metadata": {},
     "output_type": "execute_result"
    }
   ],
   "source": [
    "SVM.get_params()"
   ]
  },
  {
   "cell_type": "code",
   "execution_count": 41,
   "id": "3213181d-4b8b-447e-9898-091011c8acc8",
   "metadata": {},
   "outputs": [],
   "source": [
    "degree = range(1,15,1)\n",
    "train_scores=[]\n",
    "test_scores=[]\n",
    "# loop through layers\n",
    "for i in degree:\n",
    "    SVM.set_params(degree=i, max_iter=100000000,kernel='poly')\n",
    "    SVM.fit(X1_train,y1_train)\n",
    "    # update the training scores list\n",
    "    train_scores.append(SVM.score(X1_train,y1_train))\n",
    "    #update the test scores list\n",
    "    test_scores.append(SVM.score(X1_test,y1_test))\n",
    "    "
   ]
  },
  {
   "cell_type": "code",
   "execution_count": 42,
   "id": "8f457d6d-8eec-49d2-9c67-10de290032d5",
   "metadata": {},
   "outputs": [
    {
     "data": {
      "text/plain": [
       "[0.679324894514768,\n",
       " 0.7046413502109705,\n",
       " 0.7172995780590717,\n",
       " 0.7383966244725738,\n",
       " 0.7426160337552743,\n",
       " 0.7426160337552743,\n",
       " 0.7383966244725738,\n",
       " 0.7552742616033755,\n",
       " 0.7468354430379747,\n",
       " 0.759493670886076,\n",
       " 0.7763713080168776,\n",
       " 0.8016877637130801,\n",
       " 0.7805907172995781,\n",
       " 0.7805907172995781]"
      ]
     },
     "execution_count": 42,
     "metadata": {},
     "output_type": "execute_result"
    }
   ],
   "source": [
    "train_scores"
   ]
  },
  {
   "cell_type": "code",
   "execution_count": 43,
   "id": "73055279-7ffe-474d-9303-475fb2cb2149",
   "metadata": {},
   "outputs": [
    {
     "data": {
      "text/plain": [
       "[0.55,\n",
       " 0.5666666666666667,\n",
       " 0.5666666666666667,\n",
       " 0.55,\n",
       " 0.5833333333333334,\n",
       " 0.5666666666666667,\n",
       " 0.55,\n",
       " 0.5833333333333334,\n",
       " 0.5666666666666667,\n",
       " 0.55,\n",
       " 0.5666666666666667,\n",
       " 0.5666666666666667,\n",
       " 0.55,\n",
       " 0.5666666666666667]"
      ]
     },
     "execution_count": 43,
     "metadata": {},
     "output_type": "execute_result"
    }
   ],
   "source": [
    "test_scores"
   ]
  },
  {
   "cell_type": "code",
   "execution_count": 44,
   "id": "a7f93ba7-5060-4f75-8895-cc8790932de9",
   "metadata": {},
   "outputs": [
    {
     "name": "stdout",
     "output_type": "stream",
     "text": [
      "Max poly SVM score on the test data: 58.33%\n"
     ]
    },
    {
     "data": {
      "image/png": "[encoded data removed]",
      "text/plain": [
       "<Figure size 640x480 with 1 Axes>"
      ]
     },
     "metadata": {},
     "output_type": "display_data"
    }
   ],
   "source": [
    "plt.plot(degree, train_scores, label=\"Train score poly\")\n",
    "plt.plot(degree, test_scores, label=\"Test score poly\")\n",
    "plt.ylim(0,1)\n",
    "plt.xticks(np.arange(0,15))\n",
    "plt.xlabel(\"degree\")\n",
    "plt.ylabel(\"Model score\")\n",
    "plt.legend()\n",
    "\n",
    "print(f\"Max poly SVM score on the test data: {max(test_scores)*100:.2f}%\")\n",
    "# poly"
   ]
  },
  {
   "cell_type": "code",
   "execution_count": 45,
   "id": "3616e9cc-8b45-4e40-8a6b-f52a7199211c",
   "metadata": {},
   "outputs": [
    {
     "name": "stderr",
     "output_type": "stream",
     "text": [
      "C:\\Users\\Student\\Desktop\\ML\\Udemy\\first_assignment\\env\\Lib\\site-packages\\sklearn\\svm\\_base.py:297: ConvergenceWarning: Solver terminated early (max_iter=10000).  Consider pre-processing your data with StandardScaler or MinMaxScaler.\n",
      "  warnings.warn(\n",
      "C:\\Users\\Student\\Desktop\\ML\\Udemy\\first_assignment\\env\\Lib\\site-packages\\sklearn\\svm\\_base.py:297: ConvergenceWarning: Solver terminated early (max_iter=10000).  Consider pre-processing your data with StandardScaler or MinMaxScaler.\n",
      "  warnings.warn(\n",
      "C:\\Users\\Student\\Desktop\\ML\\Udemy\\first_assignment\\env\\Lib\\site-packages\\sklearn\\svm\\_base.py:297: ConvergenceWarning: Solver terminated early (max_iter=10000).  Consider pre-processing your data with StandardScaler or MinMaxScaler.\n",
      "  warnings.warn(\n",
      "C:\\Users\\Student\\Desktop\\ML\\Udemy\\first_assignment\\env\\Lib\\site-packages\\sklearn\\svm\\_base.py:297: ConvergenceWarning: Solver terminated early (max_iter=10000).  Consider pre-processing your data with StandardScaler or MinMaxScaler.\n",
      "  warnings.warn(\n",
      "C:\\Users\\Student\\Desktop\\ML\\Udemy\\first_assignment\\env\\Lib\\site-packages\\sklearn\\svm\\_base.py:297: ConvergenceWarning: Solver terminated early (max_iter=10000).  Consider pre-processing your data with StandardScaler or MinMaxScaler.\n",
      "  warnings.warn(\n"
     ]
    }
   ],
   "source": [
    "\n",
    "f1_train_scores_poly=[]\n",
    "f1_test_scores_poly=[]\n",
    "\n",
    "for i in degree:\n",
    "    SVM.set_params(degree=i, max_iter=10000,kernel='poly')\n",
    "    SVM.fit(X1_train,y1_train)\n",
    "    y1_train_pred = SVM.predict(X1_train)\n",
    "    y1_test_pred = SVM.predict(X1_test)\n",
    "    # update the training scores list\n",
    "    f1_train_scores_poly.append(f1_score(y1_train,y1_train_pred))\n",
    "    f1_test_scores_poly.append(f1_score(y1_test,y1_test_pred))\n",
    "    \n",
    "    "
   ]
  },
  {
   "cell_type": "code",
   "execution_count": 47,
   "id": "2118ae4b-df53-4934-90cc-d7fcfc0d6e70",
   "metadata": {},
   "outputs": [
    {
     "data": {
      "text/plain": [
       "<matplotlib.legend.Legend at 0x230754fbce0>"
      ]
     },
     "execution_count": 47,
     "metadata": {},
     "output_type": "execute_result"
    },
    {
     "data": {
      "image/png": "[encoded data removed]",
      "text/plain": [
       "<Figure size 640x480 with 1 Axes>"
      ]
     },
     "metadata": {},
     "output_type": "display_data"
    }
   ],
   "source": [
    "plt.plot(degree, f1_train_scores_poly, label=\"f1 train scores poly\",color='C3',)\n",
    "plt.plot(degree, f1_test_scores_poly, label=\"f1 test scores poly\",color='C3', linestyle='--',)\n",
    "\n",
    "plt.xticks(np.arange(0,15))\n",
    "plt.ylim(0,1)\n",
    "plt.xlabel(\"degree\")\n",
    "plt.ylabel(\"f1 score\")\n",
    "plt.legend()\n",
    "\n"
   ]
  },
  {
   "cell_type": "code",
   "execution_count": 57,
   "id": "d9f5e616-5f7f-4c74-9ea6-455fd7cc83f4",
   "metadata": {},
   "outputs": [
    {
     "data": {
      "text/plain": [
       "<matplotlib.legend.Legend at 0x23079c1c770>"
      ]
     },
     "execution_count": 57,
     "metadata": {},
     "output_type": "execute_result"
    },
    {
     "data": {
      "image/png": "[encoded data removed]",
      "text/plain": [
       "<Figure size 640x480 with 1 Axes>"
      ]
     },
     "metadata": {},
     "output_type": "display_data"
    }
   ],
   "source": [
    "import matplotlib.pyplot as plt\n",
    "\n",
    "df_1 = pd.read_csv(\"heart.csv\")\n",
    "# split data into X and y\n",
    "X_1 = df_1.drop(\"condition\",axis=1)\n",
    "y_1= df_1[\"condition\"]\n",
    "\n",
    "np.random.seed(42)\n",
    "\n",
    "#split into train and test\n",
    "X1_train,X1_test,y1_train,y1_test=train_test_split(X_1,y_1,test_size=0.2)\n",
    "\n",
    "\n",
    "C = [1e-4, 1e-3, 1e-2, 1e-1,1,10,100, 1000]\n",
    "train_scores=[]\n",
    "test_scores=[]\n",
    "# loop through layers\n",
    "for i in C:\n",
    "    SVM.set_params(C=i, max_iter=100000000,kernel='rbf')\n",
    "    SVM.fit(X1_train,y1_train)\n",
    "    # update the training scores list\n",
    "    train_scores.append(SVM.score(X1_train,y1_train))\n",
    "    #update the test scores list\n",
    "    test_scores.append(SVM.score(X1_test,y1_test))\n",
    "\n",
    "plt.semilogx(C, train_scores, label=\"Train score rbf\",color='C1',)\n",
    "plt.semilogx(C, test_scores, label=\"Test score rbf\",color='C1',linestyle='--',)\n",
    "plt.ylim(0,1)\n",
    "## plt.xticks(np.arange(0,10))\n",
    "plt.xlabel(\"C\")\n",
    "plt.ylabel(\"Model score\")\n",
    "plt.legend()\n",
    "\n",
    "\n",
    "## print(f\"Max rbf SVM score on the test data: {max(test_scores)*100:.2f}%\")\n",
    "\n",
    "\n",
    "f1_train_scores_rbf=[]\n",
    "f1_test_scores_rbf=[]\n",
    "\n",
    "for i in C:\n",
    "    SVM.set_params(C=i, max_iter=10000,kernel='rbf')\n",
    "    SVM.fit(X1_train,y1_train)\n",
    "    y1_train_pred = SVM.predict(X1_train)\n",
    "    y1_test_pred = SVM.predict(X1_test)\n",
    "    # update the training scores list\n",
    "    f1_train_scores_rbf.append(f1_score(y1_train,y1_train_pred))\n",
    "    f1_test_scores_rbf.append(f1_score(y1_test,y1_test_pred))\n",
    "\n",
    "plt.semilogx(C, f1_train_scores_rbf, label=\"f1 train scores rbf\",color='C3',)\n",
    "plt.semilogx(C, f1_test_scores_rbf, label=\"f1 test scores rbf\",color='C3', linestyle='--',)\n",
    "\n",
    "# plt.xticks(np.arange(0,10))\n",
    "plt.ylim(0,1)\n",
    "plt.xlabel(\"C\")\n",
    "plt.ylabel(\"f1 score\")\n",
    "plt.legend()\n",
    "\n",
    "    "
   ]
  },
  {
   "cell_type": "code",
   "execution_count": 61,
   "id": "07993c55-b936-4915-8c6e-7049e519f128",
   "metadata": {},
   "outputs": [],
   "source": [
    "params_grid = {\n",
    "    'kernel': ['linear','rbf', 'sigmoid'],\n",
    "    'C': [0.1,1,10,100],\n",
    "    'gamma':[1,10,100,1000],\n",
    "    'max_iter':[500000],\n",
    "}"
   ]
  },
  {
   "cell_type": "code",
   "execution_count": 62,
   "id": "296d4af1-1f45-453f-84bf-725be12de554",
   "metadata": {},
   "outputs": [],
   "source": [
    "grid_search = GridSearchCV(\n",
    "    estimator=SVM,\n",
    "    param_grid=params_grid,\n",
    "    return_train_score=True,\n",
    "    cv=4,\n",
    "    verbose=5,\n",
    ")"
   ]
  },
  {
   "cell_type": "code",
   "execution_count": 63,
   "id": "62055a11-9904-4caa-9292-938fc4462dd8",
   "metadata": {},
   "outputs": [
    {
     "name": "stdout",
     "output_type": "stream",
     "text": [
      "Fitting 4 folds for each of 48 candidates, totalling 192 fits\n",
      "[CV 1/4] END C=0.1, gamma=1, kernel=linear, max_iter=500000;, score=(train=0.876, test=0.900) total time=   0.0s\n",
      "[CV 2/4] END C=0.1, gamma=1, kernel=linear, max_iter=500000;, score=(train=0.876, test=0.881) total time=   0.0s\n",
      "[CV 3/4] END C=0.1, gamma=1, kernel=linear, max_iter=500000;, score=(train=0.888, test=0.915) total time=   0.0s\n",
      "[CV 4/4] END C=0.1, gamma=1, kernel=linear, max_iter=500000;, score=(train=0.904, test=0.814) total time=   0.0s\n",
      "[CV 1/4] END C=0.1, gamma=1, kernel=rbf, max_iter=500000;, score=(train=0.542, test=0.533) total time=   0.0s\n",
      "[CV 2/4] END C=0.1, gamma=1, kernel=rbf, max_iter=500000;, score=(train=0.539, test=0.542) total time=   0.0s\n",
      "[CV 3/4] END C=0.1, gamma=1, kernel=rbf, max_iter=500000;, score=(train=0.539, test=0.542) total time=   0.0s\n",
      "[CV 4/4] END C=0.1, gamma=1, kernel=rbf, max_iter=500000;, score=(train=0.539, test=0.542) total time=   0.0s\n",
      "[CV 1/4] END C=0.1, gamma=1, kernel=sigmoid, max_iter=500000;, score=(train=0.542, test=0.533) total time=   0.0s\n",
      "[CV 2/4] END C=0.1, gamma=1, kernel=sigmoid, max_iter=500000;, score=(train=0.539, test=0.542) total time=   0.0s\n",
      "[CV 3/4] END C=0.1, gamma=1, kernel=sigmoid, max_iter=500000;, score=(train=0.539, test=0.542) total time=   0.0s\n",
      "[CV 4/4] END C=0.1, gamma=1, kernel=sigmoid, max_iter=500000;, score=(train=0.539, test=0.542) total time=   0.0s\n",
      "[CV 1/4] END C=0.1, gamma=10, kernel=linear, max_iter=500000;, score=(train=0.876, test=0.900) total time=   0.0s\n",
      "[CV 2/4] END C=0.1, gamma=10, kernel=linear, max_iter=500000;, score=(train=0.876, test=0.881) total time=   0.0s\n",
      "[CV 3/4] END C=0.1, gamma=10, kernel=linear, max_iter=500000;, score=(train=0.888, test=0.915) total time=   0.0s\n",
      "[CV 4/4] END C=0.1, gamma=10, kernel=linear, max_iter=500000;, score=(train=0.904, test=0.814) total time=   0.0s\n",
      "[CV 1/4] END C=0.1, gamma=10, kernel=rbf, max_iter=500000;, score=(train=0.542, test=0.533) total time=   0.0s\n",
      "[CV 2/4] END C=0.1, gamma=10, kernel=rbf, max_iter=500000;, score=(train=0.539, test=0.542) total time=   0.0s\n",
      "[CV 3/4] END C=0.1, gamma=10, kernel=rbf, max_iter=500000;, score=(train=0.539, test=0.542) total time=   0.0s\n",
      "[CV 4/4] END C=0.1, gamma=10, kernel=rbf, max_iter=500000;, score=(train=0.539, test=0.542) total time=   0.0s\n",
      "[CV 1/4] END C=0.1, gamma=10, kernel=sigmoid, max_iter=500000;, score=(train=0.542, test=0.533) total time=   0.0s\n",
      "[CV 2/4] END C=0.1, gamma=10, kernel=sigmoid, max_iter=500000;, score=(train=0.539, test=0.542) total time=   0.0s\n",
      "[CV 3/4] END C=0.1, gamma=10, kernel=sigmoid, max_iter=500000;, score=(train=0.539, test=0.542) total time=   0.0s\n",
      "[CV 4/4] END C=0.1, gamma=10, kernel=sigmoid, max_iter=500000;, score=(train=0.539, test=0.542) total time=   0.0s\n",
      "[CV 1/4] END C=0.1, gamma=100, kernel=linear, max_iter=500000;, score=(train=0.876, test=0.900) total time=   0.0s\n",
      "[CV 2/4] END C=0.1, gamma=100, kernel=linear, max_iter=500000;, score=(train=0.876, test=0.881) total time=   0.0s\n",
      "[CV 3/4] END C=0.1, gamma=100, kernel=linear, max_iter=500000;, score=(train=0.888, test=0.915) total time=   0.0s\n",
      "[CV 4/4] END C=0.1, gamma=100, kernel=linear, max_iter=500000;, score=(train=0.904, test=0.814) total time=   0.0s\n",
      "[CV 1/4] END C=0.1, gamma=100, kernel=rbf, max_iter=500000;, score=(train=0.542, test=0.533) total time=   0.0s\n",
      "[CV 2/4] END C=0.1, gamma=100, kernel=rbf, max_iter=500000;, score=(train=0.539, test=0.542) total time=   0.0s\n",
      "[CV 3/4] END C=0.1, gamma=100, kernel=rbf, max_iter=500000;, score=(train=0.539, test=0.542) total time=   0.0s\n",
      "[CV 4/4] END C=0.1, gamma=100, kernel=rbf, max_iter=500000;, score=(train=0.539, test=0.542) total time=   0.0s\n",
      "[CV 1/4] END C=0.1, gamma=100, kernel=sigmoid, max_iter=500000;, score=(train=0.542, test=0.533) total time=   0.0s\n",
      "[CV 2/4] END C=0.1, gamma=100, kernel=sigmoid, max_iter=500000;, score=(train=0.539, test=0.542) total time=   0.0s\n",
      "[CV 3/4] END C=0.1, gamma=100, kernel=sigmoid, max_iter=500000;, score=(train=0.539, test=0.542) total time=   0.0s\n",
      "[CV 4/4] END C=0.1, gamma=100, kernel=sigmoid, max_iter=500000;, score=(train=0.539, test=0.542) total time=   0.0s\n",
      "[CV 1/4] END C=0.1, gamma=1000, kernel=linear, max_iter=500000;, score=(train=0.876, test=0.900) total time=   0.0s\n",
      "[CV 2/4] END C=0.1, gamma=1000, kernel=linear, max_iter=500000;, score=(train=0.876, test=0.881) total time=   0.0s\n",
      "[CV 3/4] END C=0.1, gamma=1000, kernel=linear, max_iter=500000;, score=(train=0.888, test=0.915) total time=   0.0s\n",
      "[CV 4/4] END C=0.1, gamma=1000, kernel=linear, max_iter=500000;, score=(train=0.904, test=0.814) total time=   0.0s\n",
      "[CV 1/4] END C=0.1, gamma=1000, kernel=rbf, max_iter=500000;, score=(train=0.542, test=0.533) total time=   0.0s\n",
      "[CV 2/4] END C=0.1, gamma=1000, kernel=rbf, max_iter=500000;, score=(train=0.539, test=0.542) total time=   0.0s\n",
      "[CV 3/4] END C=0.1, gamma=1000, kernel=rbf, max_iter=500000;, score=(train=0.539, test=0.542) total time=   0.0s\n",
      "[CV 4/4] END C=0.1, gamma=1000, kernel=rbf, max_iter=500000;, score=(train=0.539, test=0.542) total time=   0.0s\n",
      "[CV 1/4] END C=0.1, gamma=1000, kernel=sigmoid, max_iter=500000;, score=(train=0.542, test=0.533) total time=   0.0s\n",
      "[CV 2/4] END C=0.1, gamma=1000, kernel=sigmoid, max_iter=500000;, score=(train=0.539, test=0.542) total time=   0.0s\n",
      "[CV 3/4] END C=0.1, gamma=1000, kernel=sigmoid, max_iter=500000;, score=(train=0.539, test=0.542) total time=   0.0s\n",
      "[CV 4/4] END C=0.1, gamma=1000, kernel=sigmoid, max_iter=500000;, score=(train=0.539, test=0.542) total time=   0.0s\n",
      "[CV 1/4] END C=1, gamma=1, kernel=linear, max_iter=500000;, score=(train=0.870, test=0.900) total time=   0.0s\n"
     ]
    },
    {
     "name": "stderr",
     "output_type": "stream",
     "text": [
      "C:\\Users\\Student\\Desktop\\ML\\Udemy\\first_assignment\\env\\Lib\\site-packages\\sklearn\\svm\\_base.py:297: ConvergenceWarning: Solver terminated early (max_iter=500000).  Consider pre-processing your data with StandardScaler or MinMaxScaler.\n",
      "  warnings.warn(\n",
      "C:\\Users\\Student\\Desktop\\ML\\Udemy\\first_assignment\\env\\Lib\\site-packages\\sklearn\\svm\\_base.py:297: ConvergenceWarning: Solver terminated early (max_iter=500000).  Consider pre-processing your data with StandardScaler or MinMaxScaler.\n",
      "  warnings.warn(\n",
      "C:\\Users\\Student\\Desktop\\ML\\Udemy\\first_assignment\\env\\Lib\\site-packages\\sklearn\\svm\\_base.py:297: ConvergenceWarning: Solver terminated early (max_iter=500000).  Consider pre-processing your data with StandardScaler or MinMaxScaler.\n",
      "  warnings.warn(\n"
     ]
    },
    {
     "name": "stdout",
     "output_type": "stream",
     "text": [
      "[CV 2/4] END C=1, gamma=1, kernel=linear, max_iter=500000;, score=(train=0.888, test=0.847) total time=   0.0s\n",
      "[CV 3/4] END C=1, gamma=1, kernel=linear, max_iter=500000;, score=(train=0.882, test=0.847) total time=   0.0s\n",
      "[CV 4/4] END C=1, gamma=1, kernel=linear, max_iter=500000;, score=(train=0.899, test=0.814) total time=   0.0s\n",
      "[CV 1/4] END C=1, gamma=1, kernel=rbf, max_iter=500000;, score=(train=1.000, test=0.533) total time=   0.0s\n",
      "[CV 2/4] END C=1, gamma=1, kernel=rbf, max_iter=500000;, score=(train=1.000, test=0.542) total time=   0.0s\n",
      "[CV 3/4] END C=1, gamma=1, kernel=rbf, max_iter=500000;, score=(train=1.000, test=0.542) total time=   0.0s\n",
      "[CV 4/4] END C=1, gamma=1, kernel=rbf, max_iter=500000;, score=(train=1.000, test=0.542) total time=   0.0s\n",
      "[CV 1/4] END C=1, gamma=1, kernel=sigmoid, max_iter=500000;, score=(train=0.542, test=0.533) total time=   0.0s\n",
      "[CV 2/4] END C=1, gamma=1, kernel=sigmoid, max_iter=500000;, score=(train=0.539, test=0.542) total time=   0.0s\n",
      "[CV 3/4] END C=1, gamma=1, kernel=sigmoid, max_iter=500000;, score=(train=0.539, test=0.542) total time=   0.0s\n",
      "[CV 4/4] END C=1, gamma=1, kernel=sigmoid, max_iter=500000;, score=(train=0.539, test=0.542) total time=   0.0s\n"
     ]
    },
    {
     "name": "stderr",
     "output_type": "stream",
     "text": [
      "C:\\Users\\Student\\Desktop\\ML\\Udemy\\first_assignment\\env\\Lib\\site-packages\\sklearn\\svm\\_base.py:297: ConvergenceWarning: Solver terminated early (max_iter=500000).  Consider pre-processing your data with StandardScaler or MinMaxScaler.\n",
      "  warnings.warn(\n",
      "C:\\Users\\Student\\Desktop\\ML\\Udemy\\first_assignment\\env\\Lib\\site-packages\\sklearn\\svm\\_base.py:297: ConvergenceWarning: Solver terminated early (max_iter=500000).  Consider pre-processing your data with StandardScaler or MinMaxScaler.\n",
      "  warnings.warn(\n",
      "C:\\Users\\Student\\Desktop\\ML\\Udemy\\first_assignment\\env\\Lib\\site-packages\\sklearn\\svm\\_base.py:297: ConvergenceWarning: Solver terminated early (max_iter=500000).  Consider pre-processing your data with StandardScaler or MinMaxScaler.\n",
      "  warnings.warn(\n"
     ]
    },
    {
     "name": "stdout",
     "output_type": "stream",
     "text": [
      "[CV 1/4] END C=1, gamma=10, kernel=linear, max_iter=500000;, score=(train=0.870, test=0.900) total time=   0.0s\n",
      "[CV 2/4] END C=1, gamma=10, kernel=linear, max_iter=500000;, score=(train=0.888, test=0.847) total time=   0.0s\n",
      "[CV 3/4] END C=1, gamma=10, kernel=linear, max_iter=500000;, score=(train=0.882, test=0.847) total time=   0.0s\n",
      "[CV 4/4] END C=1, gamma=10, kernel=linear, max_iter=500000;, score=(train=0.899, test=0.814) total time=   0.0s\n"
     ]
    },
    {
     "name": "stderr",
     "output_type": "stream",
     "text": [
      "C:\\Users\\Student\\Desktop\\ML\\Udemy\\first_assignment\\env\\Lib\\site-packages\\sklearn\\svm\\_base.py:297: ConvergenceWarning: Solver terminated early (max_iter=500000).  Consider pre-processing your data with StandardScaler or MinMaxScaler.\n",
      "  warnings.warn(\n",
      "C:\\Users\\Student\\Desktop\\ML\\Udemy\\first_assignment\\env\\Lib\\site-packages\\sklearn\\svm\\_base.py:297: ConvergenceWarning: Solver terminated early (max_iter=500000).  Consider pre-processing your data with StandardScaler or MinMaxScaler.\n",
      "  warnings.warn(\n",
      "C:\\Users\\Student\\Desktop\\ML\\Udemy\\first_assignment\\env\\Lib\\site-packages\\sklearn\\svm\\_base.py:297: ConvergenceWarning: Solver terminated early (max_iter=500000).  Consider pre-processing your data with StandardScaler or MinMaxScaler.\n",
      "  warnings.warn(\n"
     ]
    },
    {
     "name": "stdout",
     "output_type": "stream",
     "text": [
      "[CV 1/4] END C=1, gamma=10, kernel=rbf, max_iter=500000;, score=(train=1.000, test=0.533) total time=   0.0s\n",
      "[CV 2/4] END C=1, gamma=10, kernel=rbf, max_iter=500000;, score=(train=1.000, test=0.542) total time=   0.0s\n",
      "[CV 3/4] END C=1, gamma=10, kernel=rbf, max_iter=500000;, score=(train=1.000, test=0.542) total time=   0.0s\n",
      "[CV 4/4] END C=1, gamma=10, kernel=rbf, max_iter=500000;, score=(train=1.000, test=0.542) total time=   0.0s\n",
      "[CV 1/4] END C=1, gamma=10, kernel=sigmoid, max_iter=500000;, score=(train=0.542, test=0.533) total time=   0.0s\n",
      "[CV 2/4] END C=1, gamma=10, kernel=sigmoid, max_iter=500000;, score=(train=0.539, test=0.542) total time=   0.0s\n",
      "[CV 3/4] END C=1, gamma=10, kernel=sigmoid, max_iter=500000;, score=(train=0.539, test=0.542) total time=   0.0s\n",
      "[CV 4/4] END C=1, gamma=10, kernel=sigmoid, max_iter=500000;, score=(train=0.539, test=0.542) total time=   0.0s\n",
      "[CV 1/4] END C=1, gamma=100, kernel=linear, max_iter=500000;, score=(train=0.870, test=0.900) total time=   0.0s\n"
     ]
    },
    {
     "name": "stderr",
     "output_type": "stream",
     "text": [
      "C:\\Users\\Student\\Desktop\\ML\\Udemy\\first_assignment\\env\\Lib\\site-packages\\sklearn\\svm\\_base.py:297: ConvergenceWarning: Solver terminated early (max_iter=500000).  Consider pre-processing your data with StandardScaler or MinMaxScaler.\n",
      "  warnings.warn(\n",
      "C:\\Users\\Student\\Desktop\\ML\\Udemy\\first_assignment\\env\\Lib\\site-packages\\sklearn\\svm\\_base.py:297: ConvergenceWarning: Solver terminated early (max_iter=500000).  Consider pre-processing your data with StandardScaler or MinMaxScaler.\n",
      "  warnings.warn(\n",
      "C:\\Users\\Student\\Desktop\\ML\\Udemy\\first_assignment\\env\\Lib\\site-packages\\sklearn\\svm\\_base.py:297: ConvergenceWarning: Solver terminated early (max_iter=500000).  Consider pre-processing your data with StandardScaler or MinMaxScaler.\n",
      "  warnings.warn(\n"
     ]
    },
    {
     "name": "stdout",
     "output_type": "stream",
     "text": [
      "[CV 2/4] END C=1, gamma=100, kernel=linear, max_iter=500000;, score=(train=0.888, test=0.847) total time=   0.0s\n",
      "[CV 3/4] END C=1, gamma=100, kernel=linear, max_iter=500000;, score=(train=0.882, test=0.847) total time=   0.0s\n",
      "[CV 4/4] END C=1, gamma=100, kernel=linear, max_iter=500000;, score=(train=0.899, test=0.814) total time=   0.0s\n",
      "[CV 1/4] END C=1, gamma=100, kernel=rbf, max_iter=500000;, score=(train=1.000, test=0.533) total time=   0.0s\n",
      "[CV 2/4] END C=1, gamma=100, kernel=rbf, max_iter=500000;, score=(train=1.000, test=0.542) total time=   0.0s\n",
      "[CV 3/4] END C=1, gamma=100, kernel=rbf, max_iter=500000;, score=(train=1.000, test=0.542) total time=   0.0s\n",
      "[CV 4/4] END C=1, gamma=100, kernel=rbf, max_iter=500000;, score=(train=1.000, test=0.542) total time=   0.0s\n",
      "[CV 1/4] END C=1, gamma=100, kernel=sigmoid, max_iter=500000;, score=(train=0.542, test=0.533) total time=   0.0s\n",
      "[CV 2/4] END C=1, gamma=100, kernel=sigmoid, max_iter=500000;, score=(train=0.539, test=0.542) total time=   0.0s\n",
      "[CV 3/4] END C=1, gamma=100, kernel=sigmoid, max_iter=500000;, score=(train=0.539, test=0.542) total time=   0.0s\n",
      "[CV 4/4] END C=1, gamma=100, kernel=sigmoid, max_iter=500000;, score=(train=0.539, test=0.542) total time=   0.0s\n"
     ]
    },
    {
     "name": "stderr",
     "output_type": "stream",
     "text": [
      "C:\\Users\\Student\\Desktop\\ML\\Udemy\\first_assignment\\env\\Lib\\site-packages\\sklearn\\svm\\_base.py:297: ConvergenceWarning: Solver terminated early (max_iter=500000).  Consider pre-processing your data with StandardScaler or MinMaxScaler.\n",
      "  warnings.warn(\n",
      "C:\\Users\\Student\\Desktop\\ML\\Udemy\\first_assignment\\env\\Lib\\site-packages\\sklearn\\svm\\_base.py:297: ConvergenceWarning: Solver terminated early (max_iter=500000).  Consider pre-processing your data with StandardScaler or MinMaxScaler.\n",
      "  warnings.warn(\n",
      "C:\\Users\\Student\\Desktop\\ML\\Udemy\\first_assignment\\env\\Lib\\site-packages\\sklearn\\svm\\_base.py:297: ConvergenceWarning: Solver terminated early (max_iter=500000).  Consider pre-processing your data with StandardScaler or MinMaxScaler.\n",
      "  warnings.warn(\n",
      "C:\\Users\\Student\\Desktop\\ML\\Udemy\\first_assignment\\env\\Lib\\site-packages\\sklearn\\svm\\_base.py:297: ConvergenceWarning: Solver terminated early (max_iter=500000).  Consider pre-processing your data with StandardScaler or MinMaxScaler.\n",
      "  warnings.warn(\n"
     ]
    },
    {
     "name": "stdout",
     "output_type": "stream",
     "text": [
      "[CV 1/4] END C=1, gamma=1000, kernel=linear, max_iter=500000;, score=(train=0.870, test=0.900) total time=   0.0s\n",
      "[CV 2/4] END C=1, gamma=1000, kernel=linear, max_iter=500000;, score=(train=0.888, test=0.847) total time=   0.0s\n",
      "[CV 3/4] END C=1, gamma=1000, kernel=linear, max_iter=500000;, score=(train=0.882, test=0.847) total time=   0.0s\n",
      "[CV 4/4] END C=1, gamma=1000, kernel=linear, max_iter=500000;, score=(train=0.899, test=0.814) total time=   0.0s\n",
      "[CV 1/4] END C=1, gamma=1000, kernel=rbf, max_iter=500000;, score=(train=1.000, test=0.533) total time=   0.0s\n",
      "[CV 2/4] END C=1, gamma=1000, kernel=rbf, max_iter=500000;, score=(train=1.000, test=0.542) total time=   0.0s\n",
      "[CV 3/4] END C=1, gamma=1000, kernel=rbf, max_iter=500000;, score=(train=1.000, test=0.542) total time=   0.0s\n",
      "[CV 4/4] END C=1, gamma=1000, kernel=rbf, max_iter=500000;, score=(train=1.000, test=0.542) total time=   0.0s\n",
      "[CV 1/4] END C=1, gamma=1000, kernel=sigmoid, max_iter=500000;, score=(train=0.542, test=0.533) total time=   0.0s\n",
      "[CV 2/4] END C=1, gamma=1000, kernel=sigmoid, max_iter=500000;, score=(train=0.539, test=0.542) total time=   0.0s\n",
      "[CV 3/4] END C=1, gamma=1000, kernel=sigmoid, max_iter=500000;, score=(train=0.539, test=0.542) total time=   0.0s\n",
      "[CV 4/4] END C=1, gamma=1000, kernel=sigmoid, max_iter=500000;, score=(train=0.539, test=0.542) total time=   0.0s\n",
      "[CV 1/4] END C=10, gamma=1, kernel=linear, max_iter=500000;, score=(train=0.864, test=0.867) total time=   0.0s\n"
     ]
    },
    {
     "name": "stderr",
     "output_type": "stream",
     "text": [
      "C:\\Users\\Student\\Desktop\\ML\\Udemy\\first_assignment\\env\\Lib\\site-packages\\sklearn\\svm\\_base.py:297: ConvergenceWarning: Solver terminated early (max_iter=500000).  Consider pre-processing your data with StandardScaler or MinMaxScaler.\n",
      "  warnings.warn(\n",
      "C:\\Users\\Student\\Desktop\\ML\\Udemy\\first_assignment\\env\\Lib\\site-packages\\sklearn\\svm\\_base.py:297: ConvergenceWarning: Solver terminated early (max_iter=500000).  Consider pre-processing your data with StandardScaler or MinMaxScaler.\n",
      "  warnings.warn(\n"
     ]
    },
    {
     "name": "stdout",
     "output_type": "stream",
     "text": [
      "[CV 2/4] END C=10, gamma=1, kernel=linear, max_iter=500000;, score=(train=0.860, test=0.847) total time=   0.1s\n",
      "[CV 3/4] END C=10, gamma=1, kernel=linear, max_iter=500000;, score=(train=0.882, test=0.898) total time=   0.1s\n"
     ]
    },
    {
     "name": "stderr",
     "output_type": "stream",
     "text": [
      "C:\\Users\\Student\\Desktop\\ML\\Udemy\\first_assignment\\env\\Lib\\site-packages\\sklearn\\svm\\_base.py:297: ConvergenceWarning: Solver terminated early (max_iter=500000).  Consider pre-processing your data with StandardScaler or MinMaxScaler.\n",
      "  warnings.warn(\n",
      "C:\\Users\\Student\\Desktop\\ML\\Udemy\\first_assignment\\env\\Lib\\site-packages\\sklearn\\svm\\_base.py:297: ConvergenceWarning: Solver terminated early (max_iter=500000).  Consider pre-processing your data with StandardScaler or MinMaxScaler.\n",
      "  warnings.warn(\n"
     ]
    },
    {
     "name": "stdout",
     "output_type": "stream",
     "text": [
      "[CV 4/4] END C=10, gamma=1, kernel=linear, max_iter=500000;, score=(train=0.904, test=0.797) total time=   0.0s\n",
      "[CV 1/4] END C=10, gamma=1, kernel=rbf, max_iter=500000;, score=(train=1.000, test=0.533) total time=   0.0s\n",
      "[CV 2/4] END C=10, gamma=1, kernel=rbf, max_iter=500000;, score=(train=1.000, test=0.542) total time=   0.0s\n",
      "[CV 3/4] END C=10, gamma=1, kernel=rbf, max_iter=500000;, score=(train=1.000, test=0.542) total time=   0.0s\n",
      "[CV 4/4] END C=10, gamma=1, kernel=rbf, max_iter=500000;, score=(train=1.000, test=0.542) total time=   0.0s\n",
      "[CV 1/4] END C=10, gamma=1, kernel=sigmoid, max_iter=500000;, score=(train=0.542, test=0.533) total time=   0.0s\n",
      "[CV 2/4] END C=10, gamma=1, kernel=sigmoid, max_iter=500000;, score=(train=0.539, test=0.542) total time=   0.0s\n",
      "[CV 3/4] END C=10, gamma=1, kernel=sigmoid, max_iter=500000;, score=(train=0.539, test=0.542) total time=   0.0s\n",
      "[CV 4/4] END C=10, gamma=1, kernel=sigmoid, max_iter=500000;, score=(train=0.539, test=0.542) total time=   0.0s\n"
     ]
    },
    {
     "name": "stderr",
     "output_type": "stream",
     "text": [
      "C:\\Users\\Student\\Desktop\\ML\\Udemy\\first_assignment\\env\\Lib\\site-packages\\sklearn\\svm\\_base.py:297: ConvergenceWarning: Solver terminated early (max_iter=500000).  Consider pre-processing your data with StandardScaler or MinMaxScaler.\n",
      "  warnings.warn(\n",
      "C:\\Users\\Student\\Desktop\\ML\\Udemy\\first_assignment\\env\\Lib\\site-packages\\sklearn\\svm\\_base.py:297: ConvergenceWarning: Solver terminated early (max_iter=500000).  Consider pre-processing your data with StandardScaler or MinMaxScaler.\n",
      "  warnings.warn(\n"
     ]
    },
    {
     "name": "stdout",
     "output_type": "stream",
     "text": [
      "[CV 1/4] END C=10, gamma=10, kernel=linear, max_iter=500000;, score=(train=0.864, test=0.867) total time=   0.0s\n",
      "[CV 2/4] END C=10, gamma=10, kernel=linear, max_iter=500000;, score=(train=0.860, test=0.847) total time=   0.1s\n"
     ]
    },
    {
     "name": "stderr",
     "output_type": "stream",
     "text": [
      "C:\\Users\\Student\\Desktop\\ML\\Udemy\\first_assignment\\env\\Lib\\site-packages\\sklearn\\svm\\_base.py:297: ConvergenceWarning: Solver terminated early (max_iter=500000).  Consider pre-processing your data with StandardScaler or MinMaxScaler.\n",
      "  warnings.warn(\n",
      "C:\\Users\\Student\\Desktop\\ML\\Udemy\\first_assignment\\env\\Lib\\site-packages\\sklearn\\svm\\_base.py:297: ConvergenceWarning: Solver terminated early (max_iter=500000).  Consider pre-processing your data with StandardScaler or MinMaxScaler.\n",
      "  warnings.warn(\n"
     ]
    },
    {
     "name": "stdout",
     "output_type": "stream",
     "text": [
      "[CV 3/4] END C=10, gamma=10, kernel=linear, max_iter=500000;, score=(train=0.882, test=0.898) total time=   0.1s\n",
      "[CV 4/4] END C=10, gamma=10, kernel=linear, max_iter=500000;, score=(train=0.904, test=0.797) total time=   0.0s\n",
      "[CV 1/4] END C=10, gamma=10, kernel=rbf, max_iter=500000;, score=(train=1.000, test=0.533) total time=   0.0s\n",
      "[CV 2/4] END C=10, gamma=10, kernel=rbf, max_iter=500000;, score=(train=1.000, test=0.542) total time=   0.0s\n",
      "[CV 3/4] END C=10, gamma=10, kernel=rbf, max_iter=500000;, score=(train=1.000, test=0.542) total time=   0.0s\n",
      "[CV 4/4] END C=10, gamma=10, kernel=rbf, max_iter=500000;, score=(train=1.000, test=0.542) total time=   0.0s\n",
      "[CV 1/4] END C=10, gamma=10, kernel=sigmoid, max_iter=500000;, score=(train=0.542, test=0.533) total time=   0.0s\n",
      "[CV 2/4] END C=10, gamma=10, kernel=sigmoid, max_iter=500000;, score=(train=0.539, test=0.542) total time=   0.0s\n",
      "[CV 3/4] END C=10, gamma=10, kernel=sigmoid, max_iter=500000;, score=(train=0.539, test=0.542) total time=   0.0s\n",
      "[CV 4/4] END C=10, gamma=10, kernel=sigmoid, max_iter=500000;, score=(train=0.539, test=0.542) total time=   0.0s\n",
      "[CV 1/4] END C=10, gamma=100, kernel=linear, max_iter=500000;, score=(train=0.864, test=0.867) total time=   0.0s\n"
     ]
    },
    {
     "name": "stderr",
     "output_type": "stream",
     "text": [
      "C:\\Users\\Student\\Desktop\\ML\\Udemy\\first_assignment\\env\\Lib\\site-packages\\sklearn\\svm\\_base.py:297: ConvergenceWarning: Solver terminated early (max_iter=500000).  Consider pre-processing your data with StandardScaler or MinMaxScaler.\n",
      "  warnings.warn(\n",
      "C:\\Users\\Student\\Desktop\\ML\\Udemy\\first_assignment\\env\\Lib\\site-packages\\sklearn\\svm\\_base.py:297: ConvergenceWarning: Solver terminated early (max_iter=500000).  Consider pre-processing your data with StandardScaler or MinMaxScaler.\n",
      "  warnings.warn(\n"
     ]
    },
    {
     "name": "stdout",
     "output_type": "stream",
     "text": [
      "[CV 2/4] END C=10, gamma=100, kernel=linear, max_iter=500000;, score=(train=0.860, test=0.847) total time=   0.1s\n",
      "[CV 3/4] END C=10, gamma=100, kernel=linear, max_iter=500000;, score=(train=0.882, test=0.898) total time=   0.1s\n"
     ]
    },
    {
     "name": "stderr",
     "output_type": "stream",
     "text": [
      "C:\\Users\\Student\\Desktop\\ML\\Udemy\\first_assignment\\env\\Lib\\site-packages\\sklearn\\svm\\_base.py:297: ConvergenceWarning: Solver terminated early (max_iter=500000).  Consider pre-processing your data with StandardScaler or MinMaxScaler.\n",
      "  warnings.warn(\n",
      "C:\\Users\\Student\\Desktop\\ML\\Udemy\\first_assignment\\env\\Lib\\site-packages\\sklearn\\svm\\_base.py:297: ConvergenceWarning: Solver terminated early (max_iter=500000).  Consider pre-processing your data with StandardScaler or MinMaxScaler.\n",
      "  warnings.warn(\n"
     ]
    },
    {
     "name": "stdout",
     "output_type": "stream",
     "text": [
      "[CV 4/4] END C=10, gamma=100, kernel=linear, max_iter=500000;, score=(train=0.904, test=0.797) total time=   0.0s\n",
      "[CV 1/4] END C=10, gamma=100, kernel=rbf, max_iter=500000;, score=(train=1.000, test=0.533) total time=   0.0s\n",
      "[CV 2/4] END C=10, gamma=100, kernel=rbf, max_iter=500000;, score=(train=1.000, test=0.542) total time=   0.0s\n",
      "[CV 3/4] END C=10, gamma=100, kernel=rbf, max_iter=500000;, score=(train=1.000, test=0.542) total time=   0.0s\n",
      "[CV 4/4] END C=10, gamma=100, kernel=rbf, max_iter=500000;, score=(train=1.000, test=0.542) total time=   0.0s\n",
      "[CV 1/4] END C=10, gamma=100, kernel=sigmoid, max_iter=500000;, score=(train=0.542, test=0.533) total time=   0.0s\n",
      "[CV 2/4] END C=10, gamma=100, kernel=sigmoid, max_iter=500000;, score=(train=0.539, test=0.542) total time=   0.0s\n",
      "[CV 3/4] END C=10, gamma=100, kernel=sigmoid, max_iter=500000;, score=(train=0.539, test=0.542) total time=   0.0s\n",
      "[CV 4/4] END C=10, gamma=100, kernel=sigmoid, max_iter=500000;, score=(train=0.539, test=0.542) total time=   0.0s\n",
      "[CV 1/4] END C=10, gamma=1000, kernel=linear, max_iter=500000;, score=(train=0.864, test=0.867) total time=   0.0s\n"
     ]
    },
    {
     "name": "stderr",
     "output_type": "stream",
     "text": [
      "C:\\Users\\Student\\Desktop\\ML\\Udemy\\first_assignment\\env\\Lib\\site-packages\\sklearn\\svm\\_base.py:297: ConvergenceWarning: Solver terminated early (max_iter=500000).  Consider pre-processing your data with StandardScaler or MinMaxScaler.\n",
      "  warnings.warn(\n",
      "C:\\Users\\Student\\Desktop\\ML\\Udemy\\first_assignment\\env\\Lib\\site-packages\\sklearn\\svm\\_base.py:297: ConvergenceWarning: Solver terminated early (max_iter=500000).  Consider pre-processing your data with StandardScaler or MinMaxScaler.\n",
      "  warnings.warn(\n"
     ]
    },
    {
     "name": "stdout",
     "output_type": "stream",
     "text": [
      "[CV 2/4] END C=10, gamma=1000, kernel=linear, max_iter=500000;, score=(train=0.860, test=0.847) total time=   0.1s\n",
      "[CV 3/4] END C=10, gamma=1000, kernel=linear, max_iter=500000;, score=(train=0.882, test=0.898) total time=   0.1s\n"
     ]
    },
    {
     "name": "stderr",
     "output_type": "stream",
     "text": [
      "C:\\Users\\Student\\Desktop\\ML\\Udemy\\first_assignment\\env\\Lib\\site-packages\\sklearn\\svm\\_base.py:297: ConvergenceWarning: Solver terminated early (max_iter=500000).  Consider pre-processing your data with StandardScaler or MinMaxScaler.\n",
      "  warnings.warn(\n",
      "C:\\Users\\Student\\Desktop\\ML\\Udemy\\first_assignment\\env\\Lib\\site-packages\\sklearn\\svm\\_base.py:297: ConvergenceWarning: Solver terminated early (max_iter=500000).  Consider pre-processing your data with StandardScaler or MinMaxScaler.\n",
      "  warnings.warn(\n"
     ]
    },
    {
     "name": "stdout",
     "output_type": "stream",
     "text": [
      "[CV 4/4] END C=10, gamma=1000, kernel=linear, max_iter=500000;, score=(train=0.904, test=0.797) total time=   0.0s\n",
      "[CV 1/4] END C=10, gamma=1000, kernel=rbf, max_iter=500000;, score=(train=1.000, test=0.533) total time=   0.0s\n",
      "[CV 2/4] END C=10, gamma=1000, kernel=rbf, max_iter=500000;, score=(train=1.000, test=0.542) total time=   0.0s\n",
      "[CV 3/4] END C=10, gamma=1000, kernel=rbf, max_iter=500000;, score=(train=1.000, test=0.542) total time=   0.0s\n",
      "[CV 4/4] END C=10, gamma=1000, kernel=rbf, max_iter=500000;, score=(train=1.000, test=0.542) total time=   0.0s\n",
      "[CV 1/4] END C=10, gamma=1000, kernel=sigmoid, max_iter=500000;, score=(train=0.542, test=0.533) total time=   0.0s\n",
      "[CV 2/4] END C=10, gamma=1000, kernel=sigmoid, max_iter=500000;, score=(train=0.539, test=0.542) total time=   0.0s\n",
      "[CV 3/4] END C=10, gamma=1000, kernel=sigmoid, max_iter=500000;, score=(train=0.539, test=0.542) total time=   0.0s\n",
      "[CV 4/4] END C=10, gamma=1000, kernel=sigmoid, max_iter=500000;, score=(train=0.539, test=0.542) total time=   0.0s\n"
     ]
    },
    {
     "name": "stderr",
     "output_type": "stream",
     "text": [
      "C:\\Users\\Student\\Desktop\\ML\\Udemy\\first_assignment\\env\\Lib\\site-packages\\sklearn\\svm\\_base.py:297: ConvergenceWarning: Solver terminated early (max_iter=500000).  Consider pre-processing your data with StandardScaler or MinMaxScaler.\n",
      "  warnings.warn(\n"
     ]
    },
    {
     "name": "stdout",
     "output_type": "stream",
     "text": [
      "[CV 1/4] END C=100, gamma=1, kernel=linear, max_iter=500000;, score=(train=0.785, test=0.783) total time=   0.2s\n"
     ]
    },
    {
     "name": "stderr",
     "output_type": "stream",
     "text": [
      "C:\\Users\\Student\\Desktop\\ML\\Udemy\\first_assignment\\env\\Lib\\site-packages\\sklearn\\svm\\_base.py:297: ConvergenceWarning: Solver terminated early (max_iter=500000).  Consider pre-processing your data with StandardScaler or MinMaxScaler.\n",
      "  warnings.warn(\n"
     ]
    },
    {
     "name": "stdout",
     "output_type": "stream",
     "text": [
      "[CV 2/4] END C=100, gamma=1, kernel=linear, max_iter=500000;, score=(train=0.753, test=0.847) total time=   0.2s\n"
     ]
    },
    {
     "name": "stderr",
     "output_type": "stream",
     "text": [
      "C:\\Users\\Student\\Desktop\\ML\\Udemy\\first_assignment\\env\\Lib\\site-packages\\sklearn\\svm\\_base.py:297: ConvergenceWarning: Solver terminated early (max_iter=500000).  Consider pre-processing your data with StandardScaler or MinMaxScaler.\n",
      "  warnings.warn(\n"
     ]
    },
    {
     "name": "stdout",
     "output_type": "stream",
     "text": [
      "[CV 3/4] END C=100, gamma=1, kernel=linear, max_iter=500000;, score=(train=0.382, test=0.508) total time=   0.2s\n"
     ]
    },
    {
     "name": "stderr",
     "output_type": "stream",
     "text": [
      "C:\\Users\\Student\\Desktop\\ML\\Udemy\\first_assignment\\env\\Lib\\site-packages\\sklearn\\svm\\_base.py:297: ConvergenceWarning: Solver terminated early (max_iter=500000).  Consider pre-processing your data with StandardScaler or MinMaxScaler.\n",
      "  warnings.warn(\n"
     ]
    },
    {
     "name": "stdout",
     "output_type": "stream",
     "text": [
      "[CV 4/4] END C=100, gamma=1, kernel=linear, max_iter=500000;, score=(train=0.843, test=0.746) total time=   0.2s\n",
      "[CV 1/4] END C=100, gamma=1, kernel=rbf, max_iter=500000;, score=(train=1.000, test=0.533) total time=   0.0s\n",
      "[CV 2/4] END C=100, gamma=1, kernel=rbf, max_iter=500000;, score=(train=1.000, test=0.542) total time=   0.0s\n",
      "[CV 3/4] END C=100, gamma=1, kernel=rbf, max_iter=500000;, score=(train=1.000, test=0.542) total time=   0.0s\n",
      "[CV 4/4] END C=100, gamma=1, kernel=rbf, max_iter=500000;, score=(train=1.000, test=0.542) total time=   0.0s\n",
      "[CV 1/4] END C=100, gamma=1, kernel=sigmoid, max_iter=500000;, score=(train=0.542, test=0.533) total time=   0.0s\n",
      "[CV 2/4] END C=100, gamma=1, kernel=sigmoid, max_iter=500000;, score=(train=0.539, test=0.542) total time=   0.0s\n",
      "[CV 3/4] END C=100, gamma=1, kernel=sigmoid, max_iter=500000;, score=(train=0.539, test=0.542) total time=   0.0s\n",
      "[CV 4/4] END C=100, gamma=1, kernel=sigmoid, max_iter=500000;, score=(train=0.539, test=0.542) total time=   0.0s\n"
     ]
    },
    {
     "name": "stderr",
     "output_type": "stream",
     "text": [
      "C:\\Users\\Student\\Desktop\\ML\\Udemy\\first_assignment\\env\\Lib\\site-packages\\sklearn\\svm\\_base.py:297: ConvergenceWarning: Solver terminated early (max_iter=500000).  Consider pre-processing your data with StandardScaler or MinMaxScaler.\n",
      "  warnings.warn(\n"
     ]
    },
    {
     "name": "stdout",
     "output_type": "stream",
     "text": [
      "[CV 1/4] END C=100, gamma=10, kernel=linear, max_iter=500000;, score=(train=0.785, test=0.783) total time=   0.2s\n"
     ]
    },
    {
     "name": "stderr",
     "output_type": "stream",
     "text": [
      "C:\\Users\\Student\\Desktop\\ML\\Udemy\\first_assignment\\env\\Lib\\site-packages\\sklearn\\svm\\_base.py:297: ConvergenceWarning: Solver terminated early (max_iter=500000).  Consider pre-processing your data with StandardScaler or MinMaxScaler.\n",
      "  warnings.warn(\n"
     ]
    },
    {
     "name": "stdout",
     "output_type": "stream",
     "text": [
      "[CV 2/4] END C=100, gamma=10, kernel=linear, max_iter=500000;, score=(train=0.753, test=0.847) total time=   0.2s\n"
     ]
    },
    {
     "name": "stderr",
     "output_type": "stream",
     "text": [
      "C:\\Users\\Student\\Desktop\\ML\\Udemy\\first_assignment\\env\\Lib\\site-packages\\sklearn\\svm\\_base.py:297: ConvergenceWarning: Solver terminated early (max_iter=500000).  Consider pre-processing your data with StandardScaler or MinMaxScaler.\n",
      "  warnings.warn(\n"
     ]
    },
    {
     "name": "stdout",
     "output_type": "stream",
     "text": [
      "[CV 3/4] END C=100, gamma=10, kernel=linear, max_iter=500000;, score=(train=0.382, test=0.508) total time=   0.2s\n"
     ]
    },
    {
     "name": "stderr",
     "output_type": "stream",
     "text": [
      "C:\\Users\\Student\\Desktop\\ML\\Udemy\\first_assignment\\env\\Lib\\site-packages\\sklearn\\svm\\_base.py:297: ConvergenceWarning: Solver terminated early (max_iter=500000).  Consider pre-processing your data with StandardScaler or MinMaxScaler.\n",
      "  warnings.warn(\n"
     ]
    },
    {
     "name": "stdout",
     "output_type": "stream",
     "text": [
      "[CV 4/4] END C=100, gamma=10, kernel=linear, max_iter=500000;, score=(train=0.843, test=0.746) total time=   0.1s\n",
      "[CV 1/4] END C=100, gamma=10, kernel=rbf, max_iter=500000;, score=(train=1.000, test=0.533) total time=   0.0s\n",
      "[CV 2/4] END C=100, gamma=10, kernel=rbf, max_iter=500000;, score=(train=1.000, test=0.542) total time=   0.0s\n",
      "[CV 3/4] END C=100, gamma=10, kernel=rbf, max_iter=500000;, score=(train=1.000, test=0.542) total time=   0.0s\n",
      "[CV 4/4] END C=100, gamma=10, kernel=rbf, max_iter=500000;, score=(train=1.000, test=0.542) total time=   0.0s\n",
      "[CV 1/4] END C=100, gamma=10, kernel=sigmoid, max_iter=500000;, score=(train=0.542, test=0.533) total time=   0.0s\n",
      "[CV 2/4] END C=100, gamma=10, kernel=sigmoid, max_iter=500000;, score=(train=0.539, test=0.542) total time=   0.0s\n",
      "[CV 3/4] END C=100, gamma=10, kernel=sigmoid, max_iter=500000;, score=(train=0.539, test=0.542) total time=   0.0s\n",
      "[CV 4/4] END C=100, gamma=10, kernel=sigmoid, max_iter=500000;, score=(train=0.539, test=0.542) total time=   0.0s\n"
     ]
    },
    {
     "name": "stderr",
     "output_type": "stream",
     "text": [
      "C:\\Users\\Student\\Desktop\\ML\\Udemy\\first_assignment\\env\\Lib\\site-packages\\sklearn\\svm\\_base.py:297: ConvergenceWarning: Solver terminated early (max_iter=500000).  Consider pre-processing your data with StandardScaler or MinMaxScaler.\n",
      "  warnings.warn(\n"
     ]
    },
    {
     "name": "stdout",
     "output_type": "stream",
     "text": [
      "[CV 1/4] END C=100, gamma=100, kernel=linear, max_iter=500000;, score=(train=0.785, test=0.783) total time=   0.2s\n"
     ]
    },
    {
     "name": "stderr",
     "output_type": "stream",
     "text": [
      "C:\\Users\\Student\\Desktop\\ML\\Udemy\\first_assignment\\env\\Lib\\site-packages\\sklearn\\svm\\_base.py:297: ConvergenceWarning: Solver terminated early (max_iter=500000).  Consider pre-processing your data with StandardScaler or MinMaxScaler.\n",
      "  warnings.warn(\n"
     ]
    },
    {
     "name": "stdout",
     "output_type": "stream",
     "text": [
      "[CV 2/4] END C=100, gamma=100, kernel=linear, max_iter=500000;, score=(train=0.753, test=0.847) total time=   0.2s\n"
     ]
    },
    {
     "name": "stderr",
     "output_type": "stream",
     "text": [
      "C:\\Users\\Student\\Desktop\\ML\\Udemy\\first_assignment\\env\\Lib\\site-packages\\sklearn\\svm\\_base.py:297: ConvergenceWarning: Solver terminated early (max_iter=500000).  Consider pre-processing your data with StandardScaler or MinMaxScaler.\n",
      "  warnings.warn(\n"
     ]
    },
    {
     "name": "stdout",
     "output_type": "stream",
     "text": [
      "[CV 3/4] END C=100, gamma=100, kernel=linear, max_iter=500000;, score=(train=0.382, test=0.508) total time=   0.2s\n"
     ]
    },
    {
     "name": "stderr",
     "output_type": "stream",
     "text": [
      "C:\\Users\\Student\\Desktop\\ML\\Udemy\\first_assignment\\env\\Lib\\site-packages\\sklearn\\svm\\_base.py:297: ConvergenceWarning: Solver terminated early (max_iter=500000).  Consider pre-processing your data with StandardScaler or MinMaxScaler.\n",
      "  warnings.warn(\n"
     ]
    },
    {
     "name": "stdout",
     "output_type": "stream",
     "text": [
      "[CV 4/4] END C=100, gamma=100, kernel=linear, max_iter=500000;, score=(train=0.843, test=0.746) total time=   0.2s\n",
      "[CV 1/4] END C=100, gamma=100, kernel=rbf, max_iter=500000;, score=(train=1.000, test=0.533) total time=   0.0s\n",
      "[CV 2/4] END C=100, gamma=100, kernel=rbf, max_iter=500000;, score=(train=1.000, test=0.542) total time=   0.0s\n",
      "[CV 3/4] END C=100, gamma=100, kernel=rbf, max_iter=500000;, score=(train=1.000, test=0.542) total time=   0.0s\n",
      "[CV 4/4] END C=100, gamma=100, kernel=rbf, max_iter=500000;, score=(train=1.000, test=0.542) total time=   0.0s\n",
      "[CV 1/4] END C=100, gamma=100, kernel=sigmoid, max_iter=500000;, score=(train=0.542, test=0.533) total time=   0.0s\n",
      "[CV 2/4] END C=100, gamma=100, kernel=sigmoid, max_iter=500000;, score=(train=0.539, test=0.542) total time=   0.0s\n",
      "[CV 3/4] END C=100, gamma=100, kernel=sigmoid, max_iter=500000;, score=(train=0.539, test=0.542) total time=   0.0s\n",
      "[CV 4/4] END C=100, gamma=100, kernel=sigmoid, max_iter=500000;, score=(train=0.539, test=0.542) total time=   0.0s\n"
     ]
    },
    {
     "name": "stderr",
     "output_type": "stream",
     "text": [
      "C:\\Users\\Student\\Desktop\\ML\\Udemy\\first_assignment\\env\\Lib\\site-packages\\sklearn\\svm\\_base.py:297: ConvergenceWarning: Solver terminated early (max_iter=500000).  Consider pre-processing your data with StandardScaler or MinMaxScaler.\n",
      "  warnings.warn(\n"
     ]
    },
    {
     "name": "stdout",
     "output_type": "stream",
     "text": [
      "[CV 1/4] END C=100, gamma=1000, kernel=linear, max_iter=500000;, score=(train=0.785, test=0.783) total time=   0.2s\n"
     ]
    },
    {
     "name": "stderr",
     "output_type": "stream",
     "text": [
      "C:\\Users\\Student\\Desktop\\ML\\Udemy\\first_assignment\\env\\Lib\\site-packages\\sklearn\\svm\\_base.py:297: ConvergenceWarning: Solver terminated early (max_iter=500000).  Consider pre-processing your data with StandardScaler or MinMaxScaler.\n",
      "  warnings.warn(\n"
     ]
    },
    {
     "name": "stdout",
     "output_type": "stream",
     "text": [
      "[CV 2/4] END C=100, gamma=1000, kernel=linear, max_iter=500000;, score=(train=0.753, test=0.847) total time=   0.2s\n"
     ]
    },
    {
     "name": "stderr",
     "output_type": "stream",
     "text": [
      "C:\\Users\\Student\\Desktop\\ML\\Udemy\\first_assignment\\env\\Lib\\site-packages\\sklearn\\svm\\_base.py:297: ConvergenceWarning: Solver terminated early (max_iter=500000).  Consider pre-processing your data with StandardScaler or MinMaxScaler.\n",
      "  warnings.warn(\n"
     ]
    },
    {
     "name": "stdout",
     "output_type": "stream",
     "text": [
      "[CV 3/4] END C=100, gamma=1000, kernel=linear, max_iter=500000;, score=(train=0.382, test=0.508) total time=   0.2s\n",
      "[CV 4/4] END C=100, gamma=1000, kernel=linear, max_iter=500000;, score=(train=0.843, test=0.746) total time=   0.2s\n",
      "[CV 1/4] END C=100, gamma=1000, kernel=rbf, max_iter=500000;, score=(train=1.000, test=0.533) total time=   0.0s\n",
      "[CV 2/4] END C=100, gamma=1000, kernel=rbf, max_iter=500000;, score=(train=1.000, test=0.542) total time=   0.0s\n",
      "[CV 3/4] END C=100, gamma=1000, kernel=rbf, max_iter=500000;, score=(train=1.000, test=0.542) total time=   0.0s\n",
      "[CV 4/4] END C=100, gamma=1000, kernel=rbf, max_iter=500000;, score=(train=1.000, test=0.542) total time=   0.0s\n",
      "[CV 1/4] END C=100, gamma=1000, kernel=sigmoid, max_iter=500000;, score=(train=0.542, test=0.533) total time=   0.0s\n",
      "[CV 2/4] END C=100, gamma=1000, kernel=sigmoid, max_iter=500000;, score=(train=0.539, test=0.542) total time=   0.0s\n",
      "[CV 3/4] END C=100, gamma=1000, kernel=sigmoid, max_iter=500000;, score=(train=0.539, test=0.542) total time=   0.0s\n",
      "[CV 4/4] END C=100, gamma=1000, kernel=sigmoid, max_iter=500000;, score=(train=0.539, test=0.542) total time=   0.0s\n"
     ]
    },
    {
     "name": "stderr",
     "output_type": "stream",
     "text": [
      "C:\\Users\\Student\\Desktop\\ML\\Udemy\\first_assignment\\env\\Lib\\site-packages\\sklearn\\svm\\_base.py:297: ConvergenceWarning: Solver terminated early (max_iter=500000).  Consider pre-processing your data with StandardScaler or MinMaxScaler.\n",
      "  warnings.warn(\n"
     ]
    },
    {
     "data": {
      "text/html": [
       "<style>#sk-container-id-1 {\n",
       "  /* Definition of color scheme common for light and dark mode */\n",
       "  --sklearn-color-text: black;\n",
       "  --sklearn-color-line: gray;\n",
       "  /* Definition of color scheme for unfitted estimators */\n",
       "  --sklearn-color-unfitted-level-0: #fff5e6;\n",
       "  --sklearn-color-unfitted-level-1: #f6e4d2;\n",
       "  --sklearn-color-unfitted-level-2: #ffe0b3;\n",
       "  --sklearn-color-unfitted-level-3: chocolate;\n",
       "  /* Definition of color scheme for fitted estimators */\n",
       "  --sklearn-color-fitted-level-0: #f0f8ff;\n",
       "  --sklearn-color-fitted-level-1: #d4ebff;\n",
       "  --sklearn-color-fitted-level-2: #b3dbfd;\n",
       "  --sklearn-color-fitted-level-3: cornflowerblue;\n",
       "\n",
       "  /* Specific color for light theme */\n",
       "  --sklearn-color-text-on-default-background: var(--sg-text-color, var(--theme-code-foreground, var(--jp-content-font-color1, black)));\n",
       "  --sklearn-color-background: var(--sg-background-color, var(--theme-background, var(--jp-layout-color0, white)));\n",
       "  --sklearn-color-border-box: var(--sg-text-color, var(--theme-code-foreground, var(--jp-content-font-color1, black)));\n",
       "  --sklearn-color-icon: #696969;\n",
       "\n",
       "  @media (prefers-color-scheme: dark) {\n",
       "    /* Redefinition of color scheme for dark theme */\n",
       "    --sklearn-color-text-on-default-background: var(--sg-text-color, var(--theme-code-foreground, var(--jp-content-font-color1, white)));\n",
       "    --sklearn-color-background: var(--sg-background-color, var(--theme-background, var(--jp-layout-color0, #111)));\n",
       "    --sklearn-color-border-box: var(--sg-text-color, var(--theme-code-foreground, var(--jp-content-font-color1, white)));\n",
       "    --sklearn-color-icon: #878787;\n",
       "  }\n",
       "}\n",
       "\n",
       "#sk-container-id-1 {\n",
       "  color: var(--sklearn-color-text);\n",
       "}\n",
       "\n",
       "#sk-container-id-1 pre {\n",
       "  padding: 0;\n",
       "}\n",
       "\n",
       "#sk-container-id-1 input.sk-hidden--visually {\n",
       "  border: 0;\n",
       "  clip: rect(1px 1px 1px 1px);\n",
       "  clip: rect(1px, 1px, 1px, 1px);\n",
       "  height: 1px;\n",
       "  margin: -1px;\n",
       "  overflow: hidden;\n",
       "  padding: 0;\n",
       "  position: absolute;\n",
       "  width: 1px;\n",
       "}\n",
       "\n",
       "#sk-container-id-1 div.sk-dashed-wrapped {\n",
       "  border: 1px dashed var(--sklearn-color-line);\n",
       "  margin: 0 0.4em 0.5em 0.4em;\n",
       "  box-sizing: border-box;\n",
       "  padding-bottom: 0.4em;\n",
       "  background-color: var(--sklearn-color-background);\n",
       "}\n",
       "\n",
       "#sk-container-id-1 div.sk-container {\n",
       "  /* jupyter's `normalize.less` sets `[hidden] { display: none; }`\n",
       "     but bootstrap.min.css set `[hidden] { display: none !important; }`\n",
       "     so we also need the `!important` here to be able to override the\n",
       "     default hidden behavior on the sphinx rendered scikit-learn.org.\n",
       "     See: https://github.com/scikit-learn/scikit-learn/issues/21755 */\n",
       "  display: inline-block !important;\n",
       "  position: relative;\n",
       "}\n",
       "\n",
       "#sk-container-id-1 div.sk-text-repr-fallback {\n",
       "  display: none;\n",
       "}\n",
       "\n",
       "div.sk-parallel-item,\n",
       "div.sk-serial,\n",
       "div.sk-item {\n",
       "  /* draw centered vertical line to link estimators */\n",
       "  background-image: linear-gradient(var(--sklearn-color-text-on-default-background), var(--sklearn-color-text-on-default-background));\n",
       "  background-size: 2px 100%;\n",
       "  background-repeat: no-repeat;\n",
       "  background-position: center center;\n",
       "}\n",
       "\n",
       "/* Parallel-specific style estimator block */\n",
       "\n",
       "#sk-container-id-1 div.sk-parallel-item::after {\n",
       "  content: \"\";\n",
       "  width: 100%;\n",
       "  border-bottom: 2px solid var(--sklearn-color-text-on-default-background);\n",
       "  flex-grow: 1;\n",
       "}\n",
       "\n",
       "#sk-container-id-1 div.sk-parallel {\n",
       "  display: flex;\n",
       "  align-items: stretch;\n",
       "  justify-content: center;\n",
       "  background-color: var(--sklearn-color-background);\n",
       "  position: relative;\n",
       "}\n",
       "\n",
       "#sk-container-id-1 div.sk-parallel-item {\n",
       "  display: flex;\n",
       "  flex-direction: column;\n",
       "}\n",
       "\n",
       "#sk-container-id-1 div.sk-parallel-item:first-child::after {\n",
       "  align-self: flex-end;\n",
       "  width: 50%;\n",
       "}\n",
       "\n",
       "#sk-container-id-1 div.sk-parallel-item:last-child::after {\n",
       "  align-self: flex-start;\n",
       "  width: 50%;\n",
       "}\n",
       "\n",
       "#sk-container-id-1 div.sk-parallel-item:only-child::after {\n",
       "  width: 0;\n",
       "}\n",
       "\n",
       "/* Serial-specific style estimator block */\n",
       "\n",
       "#sk-container-id-1 div.sk-serial {\n",
       "  display: flex;\n",
       "  flex-direction: column;\n",
       "  align-items: center;\n",
       "  background-color: var(--sklearn-color-background);\n",
       "  padding-right: 1em;\n",
       "  padding-left: 1em;\n",
       "}\n",
       "\n",
       "\n",
       "/* Toggleable style: style used for estimator/Pipeline/ColumnTransformer box that is\n",
       "clickable and can be expanded/collapsed.\n",
       "- Pipeline and ColumnTransformer use this feature and define the default style\n",
       "- Estimators will overwrite some part of the style using the `sk-estimator` class\n",
       "*/\n",
       "\n",
       "/* Pipeline and ColumnTransformer style (default) */\n",
       "\n",
       "#sk-container-id-1 div.sk-toggleable {\n",
       "  /* Default theme specific background. It is overwritten whether we have a\n",
       "  specific estimator or a Pipeline/ColumnTransformer */\n",
       "  background-color: var(--sklearn-color-background);\n",
       "}\n",
       "\n",
       "/* Toggleable label */\n",
       "#sk-container-id-1 label.sk-toggleable__label {\n",
       "  cursor: pointer;\n",
       "  display: block;\n",
       "  width: 100%;\n",
       "  margin-bottom: 0;\n",
       "  padding: 0.5em;\n",
       "  box-sizing: border-box;\n",
       "  text-align: center;\n",
       "}\n",
       "\n",
       "#sk-container-id-1 label.sk-toggleable__label-arrow:before {\n",
       "  /* Arrow on the left of the label */\n",
       "  content: \"▸\";\n",
       "  float: left;\n",
       "  margin-right: 0.25em;\n",
       "  color: var(--sklearn-color-icon);\n",
       "}\n",
       "\n",
       "#sk-container-id-1 label.sk-toggleable__label-arrow:hover:before {\n",
       "  color: var(--sklearn-color-text);\n",
       "}\n",
       "\n",
       "/* Toggleable content - dropdown */\n",
       "\n",
       "#sk-container-id-1 div.sk-toggleable__content {\n",
       "  max-height: 0;\n",
       "  max-width: 0;\n",
       "  overflow: hidden;\n",
       "  text-align: left;\n",
       "  /* unfitted */\n",
       "  background-color: var(--sklearn-color-unfitted-level-0);\n",
       "}\n",
       "\n",
       "#sk-container-id-1 div.sk-toggleable__content.fitted {\n",
       "  /* fitted */\n",
       "  background-color: var(--sklearn-color-fitted-level-0);\n",
       "}\n",
       "\n",
       "#sk-container-id-1 div.sk-toggleable__content pre {\n",
       "  margin: 0.2em;\n",
       "  border-radius: 0.25em;\n",
       "  color: var(--sklearn-color-text);\n",
       "  /* unfitted */\n",
       "  background-color: var(--sklearn-color-unfitted-level-0);\n",
       "}\n",
       "\n",
       "#sk-container-id-1 div.sk-toggleable__content.fitted pre {\n",
       "  /* unfitted */\n",
       "  background-color: var(--sklearn-color-fitted-level-0);\n",
       "}\n",
       "\n",
       "#sk-container-id-1 input.sk-toggleable__control:checked~div.sk-toggleable__content {\n",
       "  /* Expand drop-down */\n",
       "  max-height: 200px;\n",
       "  max-width: 100%;\n",
       "  overflow: auto;\n",
       "}\n",
       "\n",
       "#sk-container-id-1 input.sk-toggleable__control:checked~label.sk-toggleable__label-arrow:before {\n",
       "  content: \"▾\";\n",
       "}\n",
       "\n",
       "/* Pipeline/ColumnTransformer-specific style */\n",
       "\n",
       "#sk-container-id-1 div.sk-label input.sk-toggleable__control:checked~label.sk-toggleable__label {\n",
       "  color: var(--sklearn-color-text);\n",
       "  background-color: var(--sklearn-color-unfitted-level-2);\n",
       "}\n",
       "\n",
       "#sk-container-id-1 div.sk-label.fitted input.sk-toggleable__control:checked~label.sk-toggleable__label {\n",
       "  background-color: var(--sklearn-color-fitted-level-2);\n",
       "}\n",
       "\n",
       "/* Estimator-specific style */\n",
       "\n",
       "/* Colorize estimator box */\n",
       "#sk-container-id-1 div.sk-estimator input.sk-toggleable__control:checked~label.sk-toggleable__label {\n",
       "  /* unfitted */\n",
       "  background-color: var(--sklearn-color-unfitted-level-2);\n",
       "}\n",
       "\n",
       "#sk-container-id-1 div.sk-estimator.fitted input.sk-toggleable__control:checked~label.sk-toggleable__label {\n",
       "  /* fitted */\n",
       "  background-color: var(--sklearn-color-fitted-level-2);\n",
       "}\n",
       "\n",
       "#sk-container-id-1 div.sk-label label.sk-toggleable__label,\n",
       "#sk-container-id-1 div.sk-label label {\n",
       "  /* The background is the default theme color */\n",
       "  color: var(--sklearn-color-text-on-default-background);\n",
       "}\n",
       "\n",
       "/* On hover, darken the color of the background */\n",
       "#sk-container-id-1 div.sk-label:hover label.sk-toggleable__label {\n",
       "  color: var(--sklearn-color-text);\n",
       "  background-color: var(--sklearn-color-unfitted-level-2);\n",
       "}\n",
       "\n",
       "/* Label box, darken color on hover, fitted */\n",
       "#sk-container-id-1 div.sk-label.fitted:hover label.sk-toggleable__label.fitted {\n",
       "  color: var(--sklearn-color-text);\n",
       "  background-color: var(--sklearn-color-fitted-level-2);\n",
       "}\n",
       "\n",
       "/* Estimator label */\n",
       "\n",
       "#sk-container-id-1 div.sk-label label {\n",
       "  font-family: monospace;\n",
       "  font-weight: bold;\n",
       "  display: inline-block;\n",
       "  line-height: 1.2em;\n",
       "}\n",
       "\n",
       "#sk-container-id-1 div.sk-label-container {\n",
       "  text-align: center;\n",
       "}\n",
       "\n",
       "/* Estimator-specific */\n",
       "#sk-container-id-1 div.sk-estimator {\n",
       "  font-family: monospace;\n",
       "  border: 1px dotted var(--sklearn-color-border-box);\n",
       "  border-radius: 0.25em;\n",
       "  box-sizing: border-box;\n",
       "  margin-bottom: 0.5em;\n",
       "  /* unfitted */\n",
       "  background-color: var(--sklearn-color-unfitted-level-0);\n",
       "}\n",
       "\n",
       "#sk-container-id-1 div.sk-estimator.fitted {\n",
       "  /* fitted */\n",
       "  background-color: var(--sklearn-color-fitted-level-0);\n",
       "}\n",
       "\n",
       "/* on hover */\n",
       "#sk-container-id-1 div.sk-estimator:hover {\n",
       "  /* unfitted */\n",
       "  background-color: var(--sklearn-color-unfitted-level-2);\n",
       "}\n",
       "\n",
       "#sk-container-id-1 div.sk-estimator.fitted:hover {\n",
       "  /* fitted */\n",
       "  background-color: var(--sklearn-color-fitted-level-2);\n",
       "}\n",
       "\n",
       "/* Specification for estimator info (e.g. \"i\" and \"?\") */\n",
       "\n",
       "/* Common style for \"i\" and \"?\" */\n",
       "\n",
       ".sk-estimator-doc-link,\n",
       "a:link.sk-estimator-doc-link,\n",
       "a:visited.sk-estimator-doc-link {\n",
       "  float: right;\n",
       "  font-size: smaller;\n",
       "  line-height: 1em;\n",
       "  font-family: monospace;\n",
       "  background-color: var(--sklearn-color-background);\n",
       "  border-radius: 1em;\n",
       "  height: 1em;\n",
       "  width: 1em;\n",
       "  text-decoration: none !important;\n",
       "  margin-left: 1ex;\n",
       "  /* unfitted */\n",
       "  border: var(--sklearn-color-unfitted-level-1) 1pt solid;\n",
       "  color: var(--sklearn-color-unfitted-level-1);\n",
       "}\n",
       "\n",
       ".sk-estimator-doc-link.fitted,\n",
       "a:link.sk-estimator-doc-link.fitted,\n",
       "a:visited.sk-estimator-doc-link.fitted {\n",
       "  /* fitted */\n",
       "  border: var(--sklearn-color-fitted-level-1) 1pt solid;\n",
       "  color: var(--sklearn-color-fitted-level-1);\n",
       "}\n",
       "\n",
       "/* On hover */\n",
       "div.sk-estimator:hover .sk-estimator-doc-link:hover,\n",
       ".sk-estimator-doc-link:hover,\n",
       "div.sk-label-container:hover .sk-estimator-doc-link:hover,\n",
       ".sk-estimator-doc-link:hover {\n",
       "  /* unfitted */\n",
       "  background-color: var(--sklearn-color-unfitted-level-3);\n",
       "  color: var(--sklearn-color-background);\n",
       "  text-decoration: none;\n",
       "}\n",
       "\n",
       "div.sk-estimator.fitted:hover .sk-estimator-doc-link.fitted:hover,\n",
       ".sk-estimator-doc-link.fitted:hover,\n",
       "div.sk-label-container:hover .sk-estimator-doc-link.fitted:hover,\n",
       ".sk-estimator-doc-link.fitted:hover {\n",
       "  /* fitted */\n",
       "  background-color: var(--sklearn-color-fitted-level-3);\n",
       "  color: var(--sklearn-color-background);\n",
       "  text-decoration: none;\n",
       "}\n",
       "\n",
       "/* Span, style for the box shown on hovering the info icon */\n",
       ".sk-estimator-doc-link span {\n",
       "  display: none;\n",
       "  z-index: 9999;\n",
       "  position: relative;\n",
       "  font-weight: normal;\n",
       "  right: .2ex;\n",
       "  padding: .5ex;\n",
       "  margin: .5ex;\n",
       "  width: min-content;\n",
       "  min-width: 20ex;\n",
       "  max-width: 50ex;\n",
       "  color: var(--sklearn-color-text);\n",
       "  box-shadow: 2pt 2pt 4pt #999;\n",
       "  /* unfitted */\n",
       "  background: var(--sklearn-color-unfitted-level-0);\n",
       "  border: .5pt solid var(--sklearn-color-unfitted-level-3);\n",
       "}\n",
       "\n",
       ".sk-estimator-doc-link.fitted span {\n",
       "  /* fitted */\n",
       "  background: var(--sklearn-color-fitted-level-0);\n",
       "  border: var(--sklearn-color-fitted-level-3);\n",
       "}\n",
       "\n",
       ".sk-estimator-doc-link:hover span {\n",
       "  display: block;\n",
       "}\n",
       "\n",
       "/* \"?\"-specific style due to the `<a>` HTML tag */\n",
       "\n",
       "#sk-container-id-1 a.estimator_doc_link {\n",
       "  float: right;\n",
       "  font-size: 1rem;\n",
       "  line-height: 1em;\n",
       "  font-family: monospace;\n",
       "  background-color: var(--sklearn-color-background);\n",
       "  border-radius: 1rem;\n",
       "  height: 1rem;\n",
       "  width: 1rem;\n",
       "  text-decoration: none;\n",
       "  /* unfitted */\n",
       "  color: var(--sklearn-color-unfitted-level-1);\n",
       "  border: var(--sklearn-color-unfitted-level-1) 1pt solid;\n",
       "}\n",
       "\n",
       "#sk-container-id-1 a.estimator_doc_link.fitted {\n",
       "  /* fitted */\n",
       "  border: var(--sklearn-color-fitted-level-1) 1pt solid;\n",
       "  color: var(--sklearn-color-fitted-level-1);\n",
       "}\n",
       "\n",
       "/* On hover */\n",
       "#sk-container-id-1 a.estimator_doc_link:hover {\n",
       "  /* unfitted */\n",
       "  background-color: var(--sklearn-color-unfitted-level-3);\n",
       "  color: var(--sklearn-color-background);\n",
       "  text-decoration: none;\n",
       "}\n",
       "\n",
       "#sk-container-id-1 a.estimator_doc_link.fitted:hover {\n",
       "  /* fitted */\n",
       "  background-color: var(--sklearn-color-fitted-level-3);\n",
       "}\n",
       "</style><div id=\"sk-container-id-1\" class=\"sk-top-container\"><div class=\"sk-text-repr-fallback\"><pre>GridSearchCV(cv=4, estimator=SVC(C=1000, degree=14, max_iter=10000),\n",
       "             param_grid={&#x27;C&#x27;: [0.1, 1, 10, 100], &#x27;gamma&#x27;: [1, 10, 100, 1000],\n",
       "                         &#x27;kernel&#x27;: [&#x27;linear&#x27;, &#x27;rbf&#x27;, &#x27;sigmoid&#x27;],\n",
       "                         &#x27;max_iter&#x27;: [500000]},\n",
       "             return_train_score=True, verbose=5)</pre><b>In a Jupyter environment, please rerun this cell to show the HTML representation or trust the notebook. <br />On GitHub, the HTML representation is unable to render, please try loading this page with nbviewer.org.</b></div><div class=\"sk-container\" hidden><div class=\"sk-item sk-dashed-wrapped\"><div class=\"sk-label-container\"><div class=\"sk-label fitted sk-toggleable\"><input class=\"sk-toggleable__control sk-hidden--visually\" id=\"sk-estimator-id-1\" type=\"checkbox\" ><label for=\"sk-estimator-id-1\" class=\"sk-toggleable__label fitted sk-toggleable__label-arrow fitted\">&nbsp;&nbsp;GridSearchCV<a class=\"sk-estimator-doc-link fitted\" rel=\"noreferrer\" target=\"_blank\" href=\"https://scikit-learn.org/1.4/modules/generated/sklearn.model_selection.GridSearchCV.html\">?<span>Documentation for GridSearchCV</span></a><span class=\"sk-estimator-doc-link fitted\">i<span>Fitted</span></span></label><div class=\"sk-toggleable__content fitted\"><pre>GridSearchCV(cv=4, estimator=SVC(C=1000, degree=14, max_iter=10000),\n",
       "             param_grid={&#x27;C&#x27;: [0.1, 1, 10, 100], &#x27;gamma&#x27;: [1, 10, 100, 1000],\n",
       "                         &#x27;kernel&#x27;: [&#x27;linear&#x27;, &#x27;rbf&#x27;, &#x27;sigmoid&#x27;],\n",
       "                         &#x27;max_iter&#x27;: [500000]},\n",
       "             return_train_score=True, verbose=5)</pre></div> </div></div><div class=\"sk-parallel\"><div class=\"sk-parallel-item\"><div class=\"sk-item\"><div class=\"sk-label-container\"><div class=\"sk-label fitted sk-toggleable\"><input class=\"sk-toggleable__control sk-hidden--visually\" id=\"sk-estimator-id-2\" type=\"checkbox\" ><label for=\"sk-estimator-id-2\" class=\"sk-toggleable__label fitted sk-toggleable__label-arrow fitted\">estimator: SVC</label><div class=\"sk-toggleable__content fitted\"><pre>SVC(C=1000, degree=14, max_iter=10000)</pre></div> </div></div><div class=\"sk-serial\"><div class=\"sk-item\"><div class=\"sk-estimator fitted sk-toggleable\"><input class=\"sk-toggleable__control sk-hidden--visually\" id=\"sk-estimator-id-3\" type=\"checkbox\" ><label for=\"sk-estimator-id-3\" class=\"sk-toggleable__label fitted sk-toggleable__label-arrow fitted\">&nbsp;SVC<a class=\"sk-estimator-doc-link fitted\" rel=\"noreferrer\" target=\"_blank\" href=\"https://scikit-learn.org/1.4/modules/generated/sklearn.svm.SVC.html\">?<span>Documentation for SVC</span></a></label><div class=\"sk-toggleable__content fitted\"><pre>SVC(C=1000, degree=14, max_iter=10000)</pre></div> </div></div></div></div></div></div></div></div></div>"
      ],
      "text/plain": [
       "GridSearchCV(cv=4, estimator=SVC(C=1000, degree=14, max_iter=10000),\n",
       "             param_grid={'C': [0.1, 1, 10, 100], 'gamma': [1, 10, 100, 1000],\n",
       "                         'kernel': ['linear', 'rbf', 'sigmoid'],\n",
       "                         'max_iter': [500000]},\n",
       "             return_train_score=True, verbose=5)"
      ]
     },
     "execution_count": 63,
     "metadata": {},
     "output_type": "execute_result"
    }
   ],
   "source": [
    "grid_search.fit(X1_train,y1_train)"
   ]
  },
  {
   "cell_type": "code",
   "execution_count": 64,
   "id": "4ca7a1a3-1895-42eb-8225-05c782c86220",
   "metadata": {},
   "outputs": [],
   "source": [
    "res = grid_search.cv_results_\n"
   ]
  },
  {
   "cell_type": "code",
   "execution_count": 65,
   "id": "fb0dd580-cd0a-480b-a592-8293cf2eb690",
   "metadata": {},
   "outputs": [
    {
     "data": {
      "text/plain": [
       "{'mean_fit_time': array([0.01620722, 0.00300056, 0.00152445, 0.01376194, 0.0037626 ,\n",
       "        0.00199246, 0.01397872, 0.00267625, 0.00203669, 0.01475495,\n",
       "        0.00300133, 0.00175118, 0.06216252, 0.00349927, 0.00173652,\n",
       "        0.06332326, 0.00324053, 0.00200963, 0.06356913, 0.00274354,\n",
       "        0.00165033, 0.06339192, 0.003034  , 0.00223237, 0.1437273 ,\n",
       "        0.00301462, 0.00226188, 0.14314038, 0.00319636, 0.0019899 ,\n",
       "        0.14527023, 0.00300962, 0.00174081, 0.14519405, 0.00317359,\n",
       "        0.00229383, 0.27899694, 0.00351119, 0.00200409, 0.27567953,\n",
       "        0.00325179, 0.00200784, 0.27807796, 0.00326437, 0.00200564,\n",
       "        0.27754825, 0.00298709, 0.0017758 ]),\n",
       " 'std_fit_time': array([3.16121137e-03, 7.27738296e-06, 4.83232585e-04, 3.10838808e-03,\n",
       "        8.63847211e-04, 7.19891861e-05, 3.00946973e-03, 4.10283843e-04,\n",
       "        3.52095489e-05, 3.17316758e-03, 2.34512276e-06, 4.33482908e-04,\n",
       "        1.42464513e-03, 4.61128005e-04, 4.70104928e-04, 3.20981235e-03,\n",
       "        4.28802306e-04, 6.50362381e-04, 2.02374088e-03, 4.33678460e-04,\n",
       "        4.10939441e-04, 2.82981496e-03, 5.64685987e-05, 3.87088896e-04,\n",
       "        1.41962164e-02, 1.96369038e-05, 4.08497205e-04, 1.30354504e-02,\n",
       "        2.90476251e-04, 2.42633371e-05, 1.23325976e-02, 8.91662377e-06,\n",
       "        4.31263376e-04, 1.41467479e-02, 2.66651862e-04, 4.69271544e-04,\n",
       "        1.76350942e-02, 4.80548453e-04, 2.30770834e-06, 2.11870934e-02,\n",
       "        4.29196058e-04, 4.28656449e-06, 1.79422865e-02, 4.29260597e-04,\n",
       "        1.78116192e-05, 1.87302483e-02, 1.58636841e-05, 4.51884771e-04]),\n",
       " 'mean_score_time': array([0.00149423, 0.00200605, 0.00124776, 0.00102377, 0.0024994 ,\n",
       "        0.00101507, 0.00101066, 0.00199914, 0.00100052, 0.00127834,\n",
       "        0.00189155, 0.00100327, 0.00178456, 0.00226682, 0.0009976 ,\n",
       "        0.00123399, 0.00223267, 0.00174296, 0.00151169, 0.00175369,\n",
       "        0.00128078, 0.0015074 , 0.0020166 , 0.00101984, 0.00169975,\n",
       "        0.00199664, 0.00150645, 0.00149226, 0.00198895, 0.00123942,\n",
       "        0.00178146, 0.00199306, 0.00151825, 0.00175816, 0.00202453,\n",
       "        0.00126898, 0.00104231, 0.0019967 , 0.00099581, 0.00174522,\n",
       "        0.0020023 , 0.00101435, 0.00151283, 0.0019995 , 0.00098795,\n",
       "        0.00166482, 0.00198287, 0.00125271]),\n",
       " 'std_score_time': array([5.07137401e-04, 8.06933308e-06, 4.31909898e-04, 4.09556348e-05,\n",
       "        8.42431839e-04, 4.93870433e-05, 3.40112272e-06, 1.11510080e-05,\n",
       "        6.24114996e-06, 4.38925994e-04, 1.80898624e-04, 6.83351071e-06,\n",
       "        4.49703927e-04, 1.09694268e-03, 7.50089584e-05, 4.03371627e-04,\n",
       "        3.90564218e-04, 3.95509997e-04, 4.93113790e-04, 4.24050969e-04,\n",
       "        4.22068903e-04, 4.94977541e-04, 2.08908115e-05, 2.68083113e-05,\n",
       "        4.05312088e-04, 6.50646880e-06, 4.85945392e-04, 4.69522188e-04,\n",
       "        2.20851899e-05, 4.43752685e-04, 4.51505589e-04, 1.12303756e-05,\n",
       "        5.32705888e-04, 4.46971265e-04, 3.79049926e-05, 4.20280715e-04,\n",
       "        5.27596061e-05, 6.75163310e-05, 4.99649067e-06, 4.34649396e-04,\n",
       "        4.28615007e-06, 5.70733693e-05, 5.11246029e-04, 7.40346315e-06,\n",
       "        1.73377812e-05, 3.97422081e-04, 4.35146157e-05, 4.33728756e-04]),\n",
       " 'param_C': masked_array(data=[0.1, 0.1, 0.1, 0.1, 0.1, 0.1, 0.1, 0.1, 0.1, 0.1, 0.1,\n",
       "                    0.1, 1, 1, 1, 1, 1, 1, 1, 1, 1, 1, 1, 1, 10, 10, 10,\n",
       "                    10, 10, 10, 10, 10, 10, 10, 10, 10, 100, 100, 100, 100,\n",
       "                    100, 100, 100, 100, 100, 100, 100, 100],\n",
       "              mask=[False, False, False, False, False, False, False, False,\n",
       "                    False, False, False, False, False, False, False, False,\n",
       "                    False, False, False, False, False, False, False, False,\n",
       "                    False, False, False, False, False, False, False, False,\n",
       "                    False, False, False, False, False, False, False, False,\n",
       "                    False, False, False, False, False, False, False, False],\n",
       "        fill_value='?',\n",
       "             dtype=object),\n",
       " 'param_gamma': masked_array(data=[1, 1, 1, 10, 10, 10, 100, 100, 100, 1000, 1000, 1000,\n",
       "                    1, 1, 1, 10, 10, 10, 100, 100, 100, 1000, 1000, 1000,\n",
       "                    1, 1, 1, 10, 10, 10, 100, 100, 100, 1000, 1000, 1000,\n",
       "                    1, 1, 1, 10, 10, 10, 100, 100, 100, 1000, 1000, 1000],\n",
       "              mask=[False, False, False, False, False, False, False, False,\n",
       "                    False, False, False, False, False, False, False, False,\n",
       "                    False, False, False, False, False, False, False, False,\n",
       "                    False, False, False, False, False, False, False, False,\n",
       "                    False, False, False, False, False, False, False, False,\n",
       "                    False, False, False, False, False, False, False, False],\n",
       "        fill_value='?',\n",
       "             dtype=object),\n",
       " 'param_kernel': masked_array(data=['linear', 'rbf', 'sigmoid', 'linear', 'rbf', 'sigmoid',\n",
       "                    'linear', 'rbf', 'sigmoid', 'linear', 'rbf', 'sigmoid',\n",
       "                    'linear', 'rbf', 'sigmoid', 'linear', 'rbf', 'sigmoid',\n",
       "                    'linear', 'rbf', 'sigmoid', 'linear', 'rbf', 'sigmoid',\n",
       "                    'linear', 'rbf', 'sigmoid', 'linear', 'rbf', 'sigmoid',\n",
       "                    'linear', 'rbf', 'sigmoid', 'linear', 'rbf', 'sigmoid',\n",
       "                    'linear', 'rbf', 'sigmoid', 'linear', 'rbf', 'sigmoid',\n",
       "                    'linear', 'rbf', 'sigmoid', 'linear', 'rbf', 'sigmoid'],\n",
       "              mask=[False, False, False, False, False, False, False, False,\n",
       "                    False, False, False, False, False, False, False, False,\n",
       "                    False, False, False, False, False, False, False, False,\n",
       "                    False, False, False, False, False, False, False, False,\n",
       "                    False, False, False, False, False, False, False, False,\n",
       "                    False, False, False, False, False, False, False, False],\n",
       "        fill_value='?',\n",
       "             dtype=object),\n",
       " 'param_max_iter': masked_array(data=[500000, 500000, 500000, 500000, 500000, 500000, 500000,\n",
       "                    500000, 500000, 500000, 500000, 500000, 500000, 500000,\n",
       "                    500000, 500000, 500000, 500000, 500000, 500000, 500000,\n",
       "                    500000, 500000, 500000, 500000, 500000, 500000, 500000,\n",
       "                    500000, 500000, 500000, 500000, 500000, 500000, 500000,\n",
       "                    500000, 500000, 500000, 500000, 500000, 500000, 500000,\n",
       "                    500000, 500000, 500000, 500000, 500000, 500000],\n",
       "              mask=[False, False, False, False, False, False, False, False,\n",
       "                    False, False, False, False, False, False, False, False,\n",
       "                    False, False, False, False, False, False, False, False,\n",
       "                    False, False, False, False, False, False, False, False,\n",
       "                    False, False, False, False, False, False, False, False,\n",
       "                    False, False, False, False, False, False, False, False],\n",
       "        fill_value='?',\n",
       "             dtype=object),\n",
       " 'params': [{'C': 0.1, 'gamma': 1, 'kernel': 'linear', 'max_iter': 500000},\n",
       "  {'C': 0.1, 'gamma': 1, 'kernel': 'rbf', 'max_iter': 500000},\n",
       "  {'C': 0.1, 'gamma': 1, 'kernel': 'sigmoid', 'max_iter': 500000},\n",
       "  {'C': 0.1, 'gamma': 10, 'kernel': 'linear', 'max_iter': 500000},\n",
       "  {'C': 0.1, 'gamma': 10, 'kernel': 'rbf', 'max_iter': 500000},\n",
       "  {'C': 0.1, 'gamma': 10, 'kernel': 'sigmoid', 'max_iter': 500000},\n",
       "  {'C': 0.1, 'gamma': 100, 'kernel': 'linear', 'max_iter': 500000},\n",
       "  {'C': 0.1, 'gamma': 100, 'kernel': 'rbf', 'max_iter': 500000},\n",
       "  {'C': 0.1, 'gamma': 100, 'kernel': 'sigmoid', 'max_iter': 500000},\n",
       "  {'C': 0.1, 'gamma': 1000, 'kernel': 'linear', 'max_iter': 500000},\n",
       "  {'C': 0.1, 'gamma': 1000, 'kernel': 'rbf', 'max_iter': 500000},\n",
       "  {'C': 0.1, 'gamma': 1000, 'kernel': 'sigmoid', 'max_iter': 500000},\n",
       "  {'C': 1, 'gamma': 1, 'kernel': 'linear', 'max_iter': 500000},\n",
       "  {'C': 1, 'gamma': 1, 'kernel': 'rbf', 'max_iter': 500000},\n",
       "  {'C': 1, 'gamma': 1, 'kernel': 'sigmoid', 'max_iter': 500000},\n",
       "  {'C': 1, 'gamma': 10, 'kernel': 'linear', 'max_iter': 500000},\n",
       "  {'C': 1, 'gamma': 10, 'kernel': 'rbf', 'max_iter': 500000},\n",
       "  {'C': 1, 'gamma': 10, 'kernel': 'sigmoid', 'max_iter': 500000},\n",
       "  {'C': 1, 'gamma': 100, 'kernel': 'linear', 'max_iter': 500000},\n",
       "  {'C': 1, 'gamma': 100, 'kernel': 'rbf', 'max_iter': 500000},\n",
       "  {'C': 1, 'gamma': 100, 'kernel': 'sigmoid', 'max_iter': 500000},\n",
       "  {'C': 1, 'gamma': 1000, 'kernel': 'linear', 'max_iter': 500000},\n",
       "  {'C': 1, 'gamma': 1000, 'kernel': 'rbf', 'max_iter': 500000},\n",
       "  {'C': 1, 'gamma': 1000, 'kernel': 'sigmoid', 'max_iter': 500000},\n",
       "  {'C': 10, 'gamma': 1, 'kernel': 'linear', 'max_iter': 500000},\n",
       "  {'C': 10, 'gamma': 1, 'kernel': 'rbf', 'max_iter': 500000},\n",
       "  {'C': 10, 'gamma': 1, 'kernel': 'sigmoid', 'max_iter': 500000},\n",
       "  {'C': 10, 'gamma': 10, 'kernel': 'linear', 'max_iter': 500000},\n",
       "  {'C': 10, 'gamma': 10, 'kernel': 'rbf', 'max_iter': 500000},\n",
       "  {'C': 10, 'gamma': 10, 'kernel': 'sigmoid', 'max_iter': 500000},\n",
       "  {'C': 10, 'gamma': 100, 'kernel': 'linear', 'max_iter': 500000},\n",
       "  {'C': 10, 'gamma': 100, 'kernel': 'rbf', 'max_iter': 500000},\n",
       "  {'C': 10, 'gamma': 100, 'kernel': 'sigmoid', 'max_iter': 500000},\n",
       "  {'C': 10, 'gamma': 1000, 'kernel': 'linear', 'max_iter': 500000},\n",
       "  {'C': 10, 'gamma': 1000, 'kernel': 'rbf', 'max_iter': 500000},\n",
       "  {'C': 10, 'gamma': 1000, 'kernel': 'sigmoid', 'max_iter': 500000},\n",
       "  {'C': 100, 'gamma': 1, 'kernel': 'linear', 'max_iter': 500000},\n",
       "  {'C': 100, 'gamma': 1, 'kernel': 'rbf', 'max_iter': 500000},\n",
       "  {'C': 100, 'gamma': 1, 'kernel': 'sigmoid', 'max_iter': 500000},\n",
       "  {'C': 100, 'gamma': 10, 'kernel': 'linear', 'max_iter': 500000},\n",
       "  {'C': 100, 'gamma': 10, 'kernel': 'rbf', 'max_iter': 500000},\n",
       "  {'C': 100, 'gamma': 10, 'kernel': 'sigmoid', 'max_iter': 500000},\n",
       "  {'C': 100, 'gamma': 100, 'kernel': 'linear', 'max_iter': 500000},\n",
       "  {'C': 100, 'gamma': 100, 'kernel': 'rbf', 'max_iter': 500000},\n",
       "  {'C': 100, 'gamma': 100, 'kernel': 'sigmoid', 'max_iter': 500000},\n",
       "  {'C': 100, 'gamma': 1000, 'kernel': 'linear', 'max_iter': 500000},\n",
       "  {'C': 100, 'gamma': 1000, 'kernel': 'rbf', 'max_iter': 500000},\n",
       "  {'C': 100, 'gamma': 1000, 'kernel': 'sigmoid', 'max_iter': 500000}],\n",
       " 'split0_test_score': array([0.9       , 0.53333333, 0.53333333, 0.9       , 0.53333333,\n",
       "        0.53333333, 0.9       , 0.53333333, 0.53333333, 0.9       ,\n",
       "        0.53333333, 0.53333333, 0.9       , 0.53333333, 0.53333333,\n",
       "        0.9       , 0.53333333, 0.53333333, 0.9       , 0.53333333,\n",
       "        0.53333333, 0.9       , 0.53333333, 0.53333333, 0.86666667,\n",
       "        0.53333333, 0.53333333, 0.86666667, 0.53333333, 0.53333333,\n",
       "        0.86666667, 0.53333333, 0.53333333, 0.86666667, 0.53333333,\n",
       "        0.53333333, 0.78333333, 0.53333333, 0.53333333, 0.78333333,\n",
       "        0.53333333, 0.53333333, 0.78333333, 0.53333333, 0.53333333,\n",
       "        0.78333333, 0.53333333, 0.53333333]),\n",
       " 'split1_test_score': array([0.88135593, 0.54237288, 0.54237288, 0.88135593, 0.54237288,\n",
       "        0.54237288, 0.88135593, 0.54237288, 0.54237288, 0.88135593,\n",
       "        0.54237288, 0.54237288, 0.84745763, 0.54237288, 0.54237288,\n",
       "        0.84745763, 0.54237288, 0.54237288, 0.84745763, 0.54237288,\n",
       "        0.54237288, 0.84745763, 0.54237288, 0.54237288, 0.84745763,\n",
       "        0.54237288, 0.54237288, 0.84745763, 0.54237288, 0.54237288,\n",
       "        0.84745763, 0.54237288, 0.54237288, 0.84745763, 0.54237288,\n",
       "        0.54237288, 0.84745763, 0.54237288, 0.54237288, 0.84745763,\n",
       "        0.54237288, 0.54237288, 0.84745763, 0.54237288, 0.54237288,\n",
       "        0.84745763, 0.54237288, 0.54237288]),\n",
       " 'split2_test_score': array([0.91525424, 0.54237288, 0.54237288, 0.91525424, 0.54237288,\n",
       "        0.54237288, 0.91525424, 0.54237288, 0.54237288, 0.91525424,\n",
       "        0.54237288, 0.54237288, 0.84745763, 0.54237288, 0.54237288,\n",
       "        0.84745763, 0.54237288, 0.54237288, 0.84745763, 0.54237288,\n",
       "        0.54237288, 0.84745763, 0.54237288, 0.54237288, 0.89830508,\n",
       "        0.54237288, 0.54237288, 0.89830508, 0.54237288, 0.54237288,\n",
       "        0.89830508, 0.54237288, 0.54237288, 0.89830508, 0.54237288,\n",
       "        0.54237288, 0.50847458, 0.54237288, 0.54237288, 0.50847458,\n",
       "        0.54237288, 0.54237288, 0.50847458, 0.54237288, 0.54237288,\n",
       "        0.50847458, 0.54237288, 0.54237288]),\n",
       " 'split3_test_score': array([0.81355932, 0.54237288, 0.54237288, 0.81355932, 0.54237288,\n",
       "        0.54237288, 0.81355932, 0.54237288, 0.54237288, 0.81355932,\n",
       "        0.54237288, 0.54237288, 0.81355932, 0.54237288, 0.54237288,\n",
       "        0.81355932, 0.54237288, 0.54237288, 0.81355932, 0.54237288,\n",
       "        0.54237288, 0.81355932, 0.54237288, 0.54237288, 0.79661017,\n",
       "        0.54237288, 0.54237288, 0.79661017, 0.54237288, 0.54237288,\n",
       "        0.79661017, 0.54237288, 0.54237288, 0.79661017, 0.54237288,\n",
       "        0.54237288, 0.74576271, 0.54237288, 0.54237288, 0.74576271,\n",
       "        0.54237288, 0.54237288, 0.74576271, 0.54237288, 0.54237288,\n",
       "        0.74576271, 0.54237288, 0.54237288]),\n",
       " 'mean_test_score': array([0.87754237, 0.54011299, 0.54011299, 0.87754237, 0.54011299,\n",
       "        0.54011299, 0.87754237, 0.54011299, 0.54011299, 0.87754237,\n",
       "        0.54011299, 0.54011299, 0.85211864, 0.54011299, 0.54011299,\n",
       "        0.85211864, 0.54011299, 0.54011299, 0.85211864, 0.54011299,\n",
       "        0.54011299, 0.85211864, 0.54011299, 0.54011299, 0.85225989,\n",
       "        0.54011299, 0.54011299, 0.85225989, 0.54011299, 0.54011299,\n",
       "        0.85225989, 0.54011299, 0.54011299, 0.85225989, 0.54011299,\n",
       "        0.54011299, 0.72125706, 0.54011299, 0.54011299, 0.72125706,\n",
       "        0.54011299, 0.54011299, 0.72125706, 0.54011299, 0.54011299,\n",
       "        0.72125706, 0.54011299, 0.54011299]),\n",
       " 'std_test_score': array([0.03884232, 0.00391424, 0.00391424, 0.03884232, 0.00391424,\n",
       "        0.00391424, 0.03884232, 0.00391424, 0.00391424, 0.03884232,\n",
       "        0.00391424, 0.00391424, 0.03091478, 0.00391424, 0.00391424,\n",
       "        0.03091478, 0.00391424, 0.00391424, 0.03091478, 0.00391424,\n",
       "        0.00391424, 0.03091478, 0.00391424, 0.00391424, 0.03690416,\n",
       "        0.00391424, 0.00391424, 0.03690416, 0.00391424, 0.00391424,\n",
       "        0.03690416, 0.00391424, 0.00391424, 0.03690416, 0.00391424,\n",
       "        0.00391424, 0.12811807, 0.00391424, 0.00391424, 0.12811807,\n",
       "        0.00391424, 0.00391424, 0.12811807, 0.00391424, 0.00391424,\n",
       "        0.12811807, 0.00391424, 0.00391424]),\n",
       " 'rank_test_score': array([ 1, 17, 17,  1, 17, 17,  1, 17, 17,  1, 17, 17,  9, 17, 17,  9, 17,\n",
       "        17,  9, 17, 17,  9, 17, 17,  5, 17, 17,  5, 17, 17,  5, 17, 17,  5,\n",
       "        17, 17, 13, 17, 17, 13, 17, 17, 13, 17, 17, 13, 17, 17]),\n",
       " 'split0_train_score': array([0.87570621, 0.54237288, 0.54237288, 0.87570621, 0.54237288,\n",
       "        0.54237288, 0.87570621, 0.54237288, 0.54237288, 0.87570621,\n",
       "        0.54237288, 0.54237288, 0.8700565 , 1.        , 0.54237288,\n",
       "        0.8700565 , 1.        , 0.54237288, 0.8700565 , 1.        ,\n",
       "        0.54237288, 0.8700565 , 1.        , 0.54237288, 0.86440678,\n",
       "        1.        , 0.54237288, 0.86440678, 1.        , 0.54237288,\n",
       "        0.86440678, 1.        , 0.54237288, 0.86440678, 1.        ,\n",
       "        0.54237288, 0.78531073, 1.        , 0.54237288, 0.78531073,\n",
       "        1.        , 0.54237288, 0.78531073, 1.        , 0.54237288,\n",
       "        0.78531073, 1.        , 0.54237288]),\n",
       " 'split1_train_score': array([0.87640449, 0.53932584, 0.53932584, 0.87640449, 0.53932584,\n",
       "        0.53932584, 0.87640449, 0.53932584, 0.53932584, 0.87640449,\n",
       "        0.53932584, 0.53932584, 0.88764045, 1.        , 0.53932584,\n",
       "        0.88764045, 1.        , 0.53932584, 0.88764045, 1.        ,\n",
       "        0.53932584, 0.88764045, 1.        , 0.53932584, 0.85955056,\n",
       "        1.        , 0.53932584, 0.85955056, 1.        , 0.53932584,\n",
       "        0.85955056, 1.        , 0.53932584, 0.85955056, 1.        ,\n",
       "        0.53932584, 0.75280899, 1.        , 0.53932584, 0.75280899,\n",
       "        1.        , 0.53932584, 0.75280899, 1.        , 0.53932584,\n",
       "        0.75280899, 1.        , 0.53932584]),\n",
       " 'split2_train_score': array([0.88764045, 0.53932584, 0.53932584, 0.88764045, 0.53932584,\n",
       "        0.53932584, 0.88764045, 0.53932584, 0.53932584, 0.88764045,\n",
       "        0.53932584, 0.53932584, 0.88202247, 1.        , 0.53932584,\n",
       "        0.88202247, 1.        , 0.53932584, 0.88202247, 1.        ,\n",
       "        0.53932584, 0.88202247, 1.        , 0.53932584, 0.88202247,\n",
       "        1.        , 0.53932584, 0.88202247, 1.        , 0.53932584,\n",
       "        0.88202247, 1.        , 0.53932584, 0.88202247, 1.        ,\n",
       "        0.53932584, 0.38202247, 1.        , 0.53932584, 0.38202247,\n",
       "        1.        , 0.53932584, 0.38202247, 1.        , 0.53932584,\n",
       "        0.38202247, 1.        , 0.53932584]),\n",
       " 'split3_train_score': array([0.90449438, 0.53932584, 0.53932584, 0.90449438, 0.53932584,\n",
       "        0.53932584, 0.90449438, 0.53932584, 0.53932584, 0.90449438,\n",
       "        0.53932584, 0.53932584, 0.8988764 , 1.        , 0.53932584,\n",
       "        0.8988764 , 1.        , 0.53932584, 0.8988764 , 1.        ,\n",
       "        0.53932584, 0.8988764 , 1.        , 0.53932584, 0.90449438,\n",
       "        1.        , 0.53932584, 0.90449438, 1.        , 0.53932584,\n",
       "        0.90449438, 1.        , 0.53932584, 0.90449438, 1.        ,\n",
       "        0.53932584, 0.84269663, 1.        , 0.53932584, 0.84269663,\n",
       "        1.        , 0.53932584, 0.84269663, 1.        , 0.53932584,\n",
       "        0.84269663, 1.        , 0.53932584]),\n",
       " 'mean_train_score': array([0.88606139, 0.5400876 , 0.5400876 , 0.88606139, 0.5400876 ,\n",
       "        0.5400876 , 0.88606139, 0.5400876 , 0.5400876 , 0.88606139,\n",
       "        0.5400876 , 0.5400876 , 0.88464896, 1.        , 0.5400876 ,\n",
       "        0.88464896, 1.        , 0.5400876 , 0.88464896, 1.        ,\n",
       "        0.5400876 , 0.88464896, 1.        , 0.5400876 , 0.87761855,\n",
       "        1.        , 0.5400876 , 0.87761855, 1.        , 0.5400876 ,\n",
       "        0.87761855, 1.        , 0.5400876 , 0.87761855, 1.        ,\n",
       "        0.5400876 , 0.69070971, 1.        , 0.5400876 , 0.69070971,\n",
       "        1.        , 0.5400876 , 0.69070971, 1.        , 0.5400876 ,\n",
       "        0.69070971, 1.        , 0.5400876 ]),\n",
       " 'std_train_score': array([0.01164854, 0.00131941, 0.00131941, 0.01164854, 0.00131941,\n",
       "        0.00131941, 0.01164854, 0.00131941, 0.00131941, 0.01164854,\n",
       "        0.00131941, 0.00131941, 0.01038277, 0.        , 0.00131941,\n",
       "        0.01038277, 0.        , 0.00131941, 0.01038277, 0.        ,\n",
       "        0.00131941, 0.01038277, 0.        , 0.00131941, 0.01762603,\n",
       "        0.        , 0.00131941, 0.01762603, 0.        , 0.00131941,\n",
       "        0.01762603, 0.        , 0.00131941, 0.01762603, 0.        ,\n",
       "        0.00131941, 0.18110322, 0.        , 0.00131941, 0.18110322,\n",
       "        0.        , 0.00131941, 0.18110322, 0.        , 0.00131941,\n",
       "        0.18110322, 0.        , 0.00131941])}"
      ]
     },
     "execution_count": 65,
     "metadata": {},
     "output_type": "execute_result"
    }
   ],
   "source": [
    "res"
   ]
  },
  {
   "cell_type": "code",
   "execution_count": 66,
   "id": "a266acdf-bf49-4bf0-a5b9-c06aa993e69f",
   "metadata": {},
   "outputs": [
    {
     "data": {
      "text/plain": [
       "{'C': 0.1, 'gamma': 1, 'kernel': 'linear', 'max_iter': 500000}"
      ]
     },
     "execution_count": 66,
     "metadata": {},
     "output_type": "execute_result"
    }
   ],
   "source": [
    "grid_search.best_params_"
   ]
  },
  {
   "cell_type": "code",
   "execution_count": 67,
   "id": "1dc7f9a4-3aa2-412c-9674-d5402a4bb88d",
   "metadata": {},
   "outputs": [
    {
     "data": {
      "text/plain": [
       "0.7333333333333333"
      ]
     },
     "execution_count": 67,
     "metadata": {},
     "output_type": "execute_result"
    }
   ],
   "source": [
    "grid_search.score(X1_test,y1_test)"
   ]
  },
  {
   "cell_type": "code",
   "execution_count": 68,
   "id": "2290d0ba-f439-4f7e-8d59-e41158e8a641",
   "metadata": {},
   "outputs": [],
   "source": [
    "grid_search.score(X1_train,y1_train)\n",
    "model=grid_search.best_estimator_"
   ]
  },
  {
   "cell_type": "code",
   "execution_count": 69,
   "id": "ec4154a4-2b7b-4e76-bda4-cbcf68f51004",
   "metadata": {},
   "outputs": [],
   "source": [
    "from sklearn.model_selection import learning_curve, validation_curve"
   ]
  },
  {
   "cell_type": "code",
   "execution_count": 73,
   "id": "893d2be4-79e0-49f0-89e9-d92f2170267a",
   "metadata": {},
   "outputs": [],
   "source": [
    "SVM_best = SVC(C=1, gamma=1, kernel='linear', max_iter=50000000)"
   ]
  },
  {
   "cell_type": "code",
   "execution_count": 74,
   "id": "a0e45cce-e78b-4bf4-b855-7a540d8cb693",
   "metadata": {},
   "outputs": [],
   "source": [
    "train_sizes, train_scores, test_scores, fit_times, score_times = learning_curve(\n",
    "        estimator=SVM_best,\n",
    "        X=X1_train,\n",
    "        y=y1_train,\n",
    "        train_sizes=[0.1, 0.2, 0.3, 0.4, 0.5, 0.6, 0.7, 0.8, 0.9,1 ],\n",
    "        return_times = True \n",
    ")\n",
    "train_mean = np.mean(train_scores, axis=1)\n",
    "train_std = np.std(train_scores, axis=1)\n",
    "test_mean = np.mean(test_scores, axis=1)\n",
    "test_std = np.std(test_scores, axis=1)\n",
    "fit_time_mean = np.mean(fit_times, axis=1)\n",
    "fit_time_std = np.std(fit_times, axis=1)\n",
    "score_time_mean = np.mean(score_times, axis=1)\n",
    "score_time_std = np.std(score_times, axis=1)"
   ]
  },
  {
   "cell_type": "code",
   "execution_count": 75,
   "id": "28fe35c4-8ca6-4b99-87c7-df579eec7f3a",
   "metadata": {},
   "outputs": [
    {
     "data": {
      "image/png": "[encoded data removed]",
      "text/plain": [
       "<Figure size 640x480 with 1 Axes>"
      ]
     },
     "metadata": {},
     "output_type": "display_data"
    }
   ],
   "source": [
    "plt.plot(train_sizes, train_mean,\n",
    "             color='C2', marker='o',\n",
    "             markersize=5, label='train')\n",
    "\n",
    "plt.fill_between(train_sizes,\n",
    "                     train_mean + train_std,\n",
    "                     train_mean - train_std,\n",
    "                     alpha=0.15, color='C2')\n",
    "\n",
    "plt.plot(train_sizes, test_mean,\n",
    "             color='C3', linestyle='--',\n",
    "             marker='s', markersize=5,\n",
    "             label='test')\n",
    "\n",
    "plt.fill_between(train_sizes,\n",
    "                     test_mean + test_std,\n",
    "                     test_mean - test_std,\n",
    "                     alpha=0.15, color='C3')\n",
    "plt.grid()\n",
    "plt.ylim(0,1)\n",
    "plt.xlabel('# of training samples')\n",
    "plt.ylabel('Model Scores')\n",
    "plt.legend(loc='lower right')\n",
    "plt.show()"
   ]
  },
  {
   "cell_type": "code",
   "execution_count": 75,
   "id": "13d9383a-9a2b-4139-a3df-7f271f61d075",
   "metadata": {},
   "outputs": [
    {
     "data": {
      "image/png": "[encoded data removed]",
      "text/plain": [
       "<Figure size 640x480 with 1 Axes>"
      ]
     },
     "metadata": {},
     "output_type": "display_data"
    }
   ],
   "source": [
    "plt.figure()\n",
    "# plt.title(\"Modeling Time: \"+ title)\n",
    "plt.xlabel(\"# 0f training Examples\")\n",
    "plt.ylabel(\"Time (s)\")\n",
    "plt.plot(train_sizes, fit_time_mean, 'o-', color=\"b\", label=\"fit Time (s)\")\n",
    "plt.plot(train_sizes, score_time_mean, 'o-', color=\"r\", label=\"score Time (s)\")\n",
    "plt.legend(loc=\"best\")\n",
    "plt.show()"
   ]
  },
  {
   "cell_type": "code",
   "execution_count": null,
   "id": "944a2c77-188b-4861-9848-633abd961676",
   "metadata": {},
   "outputs": [],
   "source": []
  }
 ],
 "metadata": {
  "kernelspec": {
   "display_name": "Python 3 (ipykernel)",
   "language": "python",
   "name": "python3"
  },
  "language_info": {
   "codemirror_mode": {
    "name": "ipython",
    "version": 3
   },
   "file_extension": ".py",
   "mimetype": "text/x-python",
   "name": "python",
   "nbconvert_exporter": "python",
   "pygments_lexer": "ipython3",
   "version": "3.12.1"
  }
 },
 "nbformat": 4,
 "nbformat_minor": 5
}
